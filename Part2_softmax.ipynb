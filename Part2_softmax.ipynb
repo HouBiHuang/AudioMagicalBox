{
 "cells": [
  {
   "cell_type": "code",
   "execution_count": 1,
   "metadata": {
    "executionInfo": {
     "elapsed": 428,
     "status": "ok",
     "timestamp": 1623236061470,
     "user": {
      "displayName": "黃侯弼",
      "photoUrl": "",
      "userId": "02394864078410571973"
     },
     "user_tz": -480
    },
    "id": "iVhpbtg0DuC5"
   },
   "outputs": [],
   "source": [
    "from os import listdir\n",
    "from os.path import isdir, join\n",
    "from tensorflow.keras import layers, models\n",
    "import numpy as np"
   ]
  },
  {
   "cell_type": "code",
   "execution_count": 2,
   "metadata": {
    "colab": {
     "base_uri": "https://localhost:8080/"
    },
    "executionInfo": {
     "elapsed": 5,
     "status": "ok",
     "timestamp": 1623236062585,
     "user": {
      "displayName": "黃侯弼",
      "photoUrl": "",
      "userId": "02394864078410571973"
     },
     "user_tz": -480
    },
    "id": "MZI1urklDuC6",
    "outputId": "9344224f-90ed-4d09-80e4-efd8c4bb7cac"
   },
   "outputs": [
    {
     "name": "stdout",
     "output_type": "stream",
     "text": [
      "['backgroundNoise', 'ㄏㄧㄡ', 'ㄟ', '他', '你', '吼', '啦', '嗯', '好', '我', '的', '的一個', '的這個', '的那個', '著', '那', '那那個', '阿']\n"
     ]
    }
   ],
   "source": [
    "# Create list of all targets (minus background noise)\n",
    "dataset_path = './recording2'\n",
    "all_targets = all_targets = [name for name in listdir(dataset_path) if isdir(join(dataset_path, name))]\n",
    "print(all_targets)"
   ]
  },
  {
   "cell_type": "code",
   "execution_count": 3,
   "metadata": {
    "executionInfo": {
     "elapsed": 301,
     "status": "ok",
     "timestamp": 1623236063859,
     "user": {
      "displayName": "黃侯弼",
      "photoUrl": "",
      "userId": "02394864078410571973"
     },
     "user_tz": -480
    },
    "id": "WgAcVkOeDuC6"
   },
   "outputs": [],
   "source": [
    "# Settings\n",
    "feature_sets_path = './'\n",
    "feature_sets_filename = 'recording2.npz'\n",
    "model_filename = 'recording2.h5'\n",
    "#wake_word = '嗯'"
   ]
  },
  {
   "cell_type": "code",
   "execution_count": 4,
   "metadata": {
    "colab": {
     "base_uri": "https://localhost:8080/"
    },
    "executionInfo": {
     "elapsed": 458,
     "status": "ok",
     "timestamp": 1623236065288,
     "user": {
      "displayName": "黃侯弼",
      "photoUrl": "",
      "userId": "02394864078410571973"
     },
     "user_tz": -480
    },
    "id": "rJUTXuiVDuC7",
    "outputId": "4a7c5275-1bcb-4f85-dd65-18bb4e2630c9"
   },
   "outputs": [
    {
     "name": "stdout",
     "output_type": "stream",
     "text": [
      "['x_train', 'y_train', 'x_val', 'y_val', 'x_test', 'y_test']\n"
     ]
    }
   ],
   "source": [
    "# Load feature sets\n",
    "feature_sets = np.load(join(feature_sets_path, feature_sets_filename))\n",
    "print(feature_sets.files)"
   ]
  },
  {
   "cell_type": "code",
   "execution_count": 5,
   "metadata": {
    "colab": {
     "base_uri": "https://localhost:8080/"
    },
    "executionInfo": {
     "elapsed": 3,
     "status": "ok",
     "timestamp": 1623236066162,
     "user": {
      "displayName": "黃侯弼",
      "photoUrl": "",
      "userId": "02394864078410571973"
     },
     "user_tz": -480
    },
    "id": "0MTc8hMZDuC7",
    "outputId": "287b9ce7-b503-472c-dc22-1cf446a74c77"
   },
   "outputs": [
    {
     "name": "stdout",
     "output_type": "stream",
     "text": [
      "[ 8. 11.  7. 14.  3. 12. 14.  3.  9. 15. 13.  4.  9.  7.  7.  6. 13. 12.\n",
      " 11.  9. 16.  7.  6. 14. 13. 10.  5. 17.  3.  6. 13. 14. 11.  9.  1.  4.\n",
      "  5.  4.  4. 15. 13.  5.  9.  1.  2. 10.  4. 10.  6.  5. 12.  9.  7. 15.\n",
      " 11. 13. 11. 12.  8. 15.  5.  6. 11. 10. 13.  3.  0. 17. 10.  6.  6. 11.]\n",
      "[ 7. 16.  1.  4.  3. 12.  6. 17.  3. 14. 14.  9.  2. 12. 14. 13. 15.  8.\n",
      "  9.  5.  8.  1.  5.  3.  6. 15.  3. 17. 12. 16. 16. 10. 15.  7. 11.  6.\n",
      "  4.  5.  2. 17. 14.  9.  2.  9.  6. 17.  4. 10. 13. 11. 16.  2. 16.  2.\n",
      "  9. 16. 13.  8. 11.  3. 16.  5.  1. 11.  1.  2.  3.  2.  8. 10. 12. 12.\n",
      "  5. 14.  6.  0.  0.  8. 14.  4.  2. 13. 10.  2.  9. 17.  4.  0.  9. 15.\n",
      "  3.  7.  0.  2.  2. 10.  1.  9. 11.  9.  0. 11. 17.  5. 15. 14.  3.  1.\n",
      " 17. 16.  7. 14. 13.  0. 15. 11.  7.  6.  2.  4. 16.  4. 10. 16.  9.  6.\n",
      " 16.  0. 10. 12. 13. 13. 11.  3.  2. 12.  5. 12.  7.  6.  7.  7. 12.  0.\n",
      " 15. 15.  4.  0. 11.  1. 12.  9.  9.  1.  6.  3.  7. 15.  9. 11.  2.  8.\n",
      " 14. 16. 10. 10.  0. 11. 14.  5. 11. 10. 11.  0.  8. 11.  6. 12.  6.  7.\n",
      " 13. 17.  3. 14. 16. 11. 10. 17.  7. 16.  1.  3.  3.  5.  1.  9. 11. 15.\n",
      "  0.  5.  4. 14. 10. 11. 16. 14. 13.  1. 17. 15. 12.  1.  4. 17. 10. 10.\n",
      " 17.  6.  5. 17.  5. 14. 13. 15. 13. 15.  3.  6.  0. 12. 12. 17.  4.  3.\n",
      " 16.  7.  1. 11. 10. 13.  9. 17. 16.  8.  6.  6.  7. 12.  2. 10.  2.  6.\n",
      " 15.  7. 15.  0.  0.  7.  1. 13. 14. 15. 11.  7.  6.  7.  0.  4.  8. 14.\n",
      "  7.  8.  8.  8. 14. 15. 10.  2. 16.  0. 16.  5. 12. 17.  7.  1. 16.  9.\n",
      "  7.  7.  3.  8.  8. 15.  2. 10.  6. 17.  6. 16.  7. 17.  3.  6.  2.  0.\n",
      "  1. 12.  8. 14.  3. 10. 14. 16. 12. 17. 14. 15.  0. 13.  3. 15. 12. 13.\n",
      " 10.  4.  0.  8.  1.  1.  2. 16.  9.  0.  4.  1.  5. 14.  3.  9.  7.  1.\n",
      "  9. 12.  9.  5. 16. 12.  8. 12. 14. 12. 10.  5.  0.  9. 16.  8.  5. 12.\n",
      "  1. 15. 17. 15.  8. 13. 11.  9. 10. 17.  4. 12. 16.  4.  7. 14. 16.  3.\n",
      " 15.  4.  3.  2.  6. 11. 14.  3. 13. 17.  1.  4. 13.  3.  9.  3. 11. 11.\n",
      "  2.  8.  7.  4. 11. 13.  6.  6.  4.  8.  4.  9.  4. 15.  9.  8.  8. 13.\n",
      "  0. 10.  2.  3. 11. 15. 10.  4.  5. 15. 10.  0. 15.  8.  5.  1. 12.  8.\n",
      "  2.  5.  2.  2. 17.  4.  9. 10. 15. 16.  0.  5. 11. 17.  8. 11. 16. 17.\n",
      "  3. 13.  7.  9. 14.  5. 17.  5.  8. 15.  1.  0.  2. 13.  1.  9.  7.  0.\n",
      " 11.  6. 15.  2.  0.  3. 16.  8. 12.  4. 14.  4. 10.  8. 13.  1. 14. 17.\n",
      " 10.  6.  0.  9.  2. 15.  6.  9.  7.  4. 16. 17.  1. 12.  3.  5. 12.  6.\n",
      "  8.  5.  4. 14.  0. 11.  7.  6.  2.  5. 12.  3.  6. 14.  4. 11.  8. 16.\n",
      "  3.  8.  3.  8.  1. 15.  7. 12.  7. 17.  0.  1.  7. 17.  5.  8.  1. 12.\n",
      "  1.  5. 12.  3.  9. 17.  3. 13.  5. 13. 14.  1. 12. 13. 17.  4.  7.  5.\n",
      "  1.  8. 14.  5. 17.  1. 12.  3. 14.  1.  0.  0.  5. 16.  2. 11.  6.  5.]\n",
      "[ 7.  2. 16. 14.  2. 13.  4. 16.  0.  2. 13.  0. 10.  2.  0.  2. 10.  2.\n",
      "  6. 10. 14.  9.  8. 13. 10. 11.  2.  6.  8. 10. 14. 16.  5.  9. 12. 13.\n",
      "  0. 14.  1.  1.  4. 13. 11. 15. 16.  6. 17.  5. 16.  0.  9. 16. 13. 17.\n",
      " 17. 15.  7.  3. 10. 17.  0.  4.  4. 15.  2.  8.  4. 13. 15. 17. 10.  1.]\n"
     ]
    }
   ],
   "source": [
    "# Assign feature sets\n",
    "x_train = feature_sets['x_train']\n",
    "y_train = feature_sets['y_train']\n",
    "x_val = feature_sets['x_val']\n",
    "y_val = feature_sets['y_val']\n",
    "x_test = feature_sets['x_test']\n",
    "y_test = feature_sets['y_test']\n",
    "print(y_test)\n",
    "print(y_train)\n",
    "print(y_val)"
   ]
  },
  {
   "cell_type": "code",
   "execution_count": 6,
   "metadata": {
    "colab": {
     "base_uri": "https://localhost:8080/"
    },
    "executionInfo": {
     "elapsed": 262,
     "status": "ok",
     "timestamp": 1623236068434,
     "user": {
      "displayName": "黃侯弼",
      "photoUrl": "",
      "userId": "02394864078410571973"
     },
     "user_tz": -480
    },
    "id": "r2XzOXwdDuC8",
    "outputId": "6d00862e-4d37-415c-b854-22b4cdd10698"
   },
   "outputs": [
    {
     "name": "stdout",
     "output_type": "stream",
     "text": [
      "(576, 23, 6)\n",
      "(72, 23, 6)\n",
      "(72, 23, 6)\n"
     ]
    }
   ],
   "source": [
    "# Look at tensor dimensions\n",
    "print(x_train.shape)\n",
    "print(x_val.shape)\n",
    "print(x_test.shape)"
   ]
  },
  {
   "cell_type": "code",
   "execution_count": 7,
   "metadata": {
    "colab": {
     "base_uri": "https://localhost:8080/"
    },
    "executionInfo": {
     "elapsed": 439,
     "status": "ok",
     "timestamp": 1623236069774,
     "user": {
      "displayName": "黃侯弼",
      "photoUrl": "",
      "userId": "02394864078410571973"
     },
     "user_tz": -480
    },
    "id": "N-l9zl-GDuC9",
    "outputId": "fd2762fb-1345-41d2-8108-985fcd157a52"
   },
   "outputs": [
    {
     "name": "stdout",
     "output_type": "stream",
     "text": [
      "[ 7.  2. 16. 14.  2. 13.  4. 16.  0.  2. 13.  0. 10.  2.  0.  2. 10.  2.\n",
      "  6. 10. 14.  9.  8. 13. 10. 11.  2.  6.  8. 10. 14. 16.  5.  9. 12. 13.\n",
      "  0. 14.  1.  1.  4. 13. 11. 15. 16.  6. 17.  5. 16.  0.  9. 16. 13. 17.\n",
      " 17. 15.  7.  3. 10. 17.  0.  4.  4. 15.  2.  8.  4. 13. 15. 17. 10.  1.]\n"
     ]
    }
   ],
   "source": [
    "# Peek at labels\n",
    "print(y_val)"
   ]
  },
  {
   "cell_type": "code",
   "execution_count": 8,
   "metadata": {
    "colab": {
     "base_uri": "https://localhost:8080/"
    },
    "executionInfo": {
     "elapsed": 4,
     "status": "ok",
     "timestamp": 1623236070623,
     "user": {
      "displayName": "黃侯弼",
      "photoUrl": "",
      "userId": "02394864078410571973"
     },
     "user_tz": -480
    },
    "id": "nY3RGYbPDuC-",
    "outputId": "deded680-fc57-4da6-c054-a4648b5007eb"
   },
   "outputs": [
    {
     "name": "stdout",
     "output_type": "stream",
     "text": [
      "[ 8. 11.  7. 14.  3. 12. 14.  3.  9. 15. 13.  4.  9.  7.  7.  6. 13. 12.\n",
      " 11.  9. 16.  7.  6. 14. 13. 10.  5. 17.  3.  6. 13. 14. 11.  9.  1.  4.\n",
      "  5.  4.  4. 15. 13.  5.  9.  1.  2. 10.  4. 10.  6.  5. 12.  9.  7. 15.\n",
      " 11. 13. 11. 12.  8. 15.  5.  6. 11. 10. 13.  3.  0. 17. 10.  6.  6. 11.]\n"
     ]
    }
   ],
   "source": [
    "# Peek at labels after conversion\n",
    "print(y_test)"
   ]
  },
  {
   "cell_type": "code",
   "execution_count": 9,
   "metadata": {
    "colab": {
     "base_uri": "https://localhost:8080/"
    },
    "executionInfo": {
     "elapsed": 5,
     "status": "ok",
     "timestamp": 1623236071679,
     "user": {
      "displayName": "黃侯弼",
      "photoUrl": "",
      "userId": "02394864078410571973"
     },
     "user_tz": -480
    },
    "id": "8I1_x2yvDuC-",
    "outputId": "0d138400-6662-4175-8a1f-f640e3f2bf6d"
   },
   "outputs": [
    {
     "name": "stdout",
     "output_type": "stream",
     "text": [
      "(576, 23, 6)\n"
     ]
    }
   ],
   "source": [
    "# View the dimensions of our input data\n",
    "print(x_train.shape)"
   ]
  },
  {
   "cell_type": "code",
   "execution_count": 10,
   "metadata": {
    "colab": {
     "base_uri": "https://localhost:8080/"
    },
    "executionInfo": {
     "elapsed": 4,
     "status": "ok",
     "timestamp": 1623236072760,
     "user": {
      "displayName": "黃侯弼",
      "photoUrl": "",
      "userId": "02394864078410571973"
     },
     "user_tz": -480
    },
    "id": "i_zQsgz4DuC_",
    "outputId": "94a9c63d-7b06-4e8f-8c10-2aaab2aebe64",
    "scrolled": true
   },
   "outputs": [
    {
     "name": "stdout",
     "output_type": "stream",
     "text": [
      "(576, 23, 6, 1)\n",
      "(72, 23, 6, 1)\n",
      "(72, 23, 6, 1)\n"
     ]
    }
   ],
   "source": [
    "# CNN for TF expects (batch, height, width, channels)\n",
    "# So we reshape the input tensors with a \"color\" channel of 1\n",
    "x_train = x_train.reshape(x_train.shape[0], \n",
    "                          x_train.shape[1], \n",
    "                          x_train.shape[2], \n",
    "                          1)\n",
    "x_val = x_val.reshape(x_val.shape[0], \n",
    "                      x_val.shape[1], \n",
    "                      x_val.shape[2], \n",
    "                      1)\n",
    "x_test = x_test.reshape(x_test.shape[0], \n",
    "                        x_test.shape[1], \n",
    "                        x_test.shape[2], \n",
    "                        1)\n",
    "print(x_train.shape)\n",
    "print(x_val.shape)\n",
    "print(x_test.shape)"
   ]
  },
  {
   "cell_type": "code",
   "execution_count": 11,
   "metadata": {
    "colab": {
     "base_uri": "https://localhost:8080/"
    },
    "executionInfo": {
     "elapsed": 281,
     "status": "ok",
     "timestamp": 1623236074651,
     "user": {
      "displayName": "黃侯弼",
      "photoUrl": "",
      "userId": "02394864078410571973"
     },
     "user_tz": -480
    },
    "id": "Ge2MCNusDuC_",
    "outputId": "7c995061-d01d-4a96-a14f-fbee6804b4d4"
   },
   "outputs": [
    {
     "name": "stdout",
     "output_type": "stream",
     "text": [
      "(23, 6, 1)\n"
     ]
    }
   ],
   "source": [
    "# Input shape for CNN is size of MFCC of 1 sample\n",
    "sample_shape = x_test.shape[1:]\n",
    "print(sample_shape)"
   ]
  },
  {
   "cell_type": "code",
   "execution_count": 23,
   "metadata": {
    "colab": {
     "base_uri": "https://localhost:8080/"
    },
    "executionInfo": {
     "elapsed": 264,
     "status": "ok",
     "timestamp": 1623237350948,
     "user": {
      "displayName": "黃侯弼",
      "photoUrl": "",
      "userId": "02394864078410571973"
     },
     "user_tz": -480
    },
    "id": "2JqUOHp9DuDA",
    "outputId": "cc676686-8778-47c0-d5eb-183d137369d2"
   },
   "outputs": [
    {
     "name": "stdout",
     "output_type": "stream",
     "text": [
      "Model: \"sequential_3\"\n",
      "_________________________________________________________________\n",
      "Layer (type)                 Output Shape              Param #   \n",
      "=================================================================\n",
      "conv2d_8 (Conv2D)            (None, 22, 5, 32)         160       \n",
      "_________________________________________________________________\n",
      "max_pooling2d_8 (MaxPooling2 (None, 22, 5, 32)         0         \n",
      "_________________________________________________________________\n",
      "conv2d_9 (Conv2D)            (None, 21, 4, 64)         8256      \n",
      "_________________________________________________________________\n",
      "max_pooling2d_9 (MaxPooling2 (None, 21, 4, 64)         0         \n",
      "_________________________________________________________________\n",
      "conv2d_10 (Conv2D)           (None, 20, 3, 128)        32896     \n",
      "_________________________________________________________________\n",
      "max_pooling2d_10 (MaxPooling (None, 20, 3, 128)        0         \n",
      "_________________________________________________________________\n",
      "dropout_4 (Dropout)          (None, 20, 3, 128)        0         \n",
      "_________________________________________________________________\n",
      "flatten_2 (Flatten)          (None, 7680)              0         \n",
      "_________________________________________________________________\n",
      "dense_4 (Dense)              (None, 64)                491584    \n",
      "_________________________________________________________________\n",
      "dropout_5 (Dropout)          (None, 64)                0         \n",
      "_________________________________________________________________\n",
      "dense_5 (Dense)              (None, 18)                1170      \n",
      "=================================================================\n",
      "Total params: 534,066\n",
      "Trainable params: 534,066\n",
      "Non-trainable params: 0\n",
      "_________________________________________________________________\n"
     ]
    }
   ],
   "source": [
    "model = models.Sequential()\n",
    "model.add(layers.Conv2D(32, (2, 2), activation='relu',input_shape=sample_shape))\n",
    "model.add(layers.MaxPooling2D(pool_size=(1, 1)))\n",
    "\n",
    "model.add(layers.Conv2D(64, (2, 2), activation='relu'))\n",
    "model.add(layers.MaxPooling2D(pool_size=(1, 1)))\n",
    "\n",
    "model.add(layers.Conv2D(128, (2, 2), activation='relu'))\n",
    "model.add(layers.MaxPooling2D(pool_size=(1, 1)))\n",
    "model.add(layers.Dropout(0.05))\n",
    "\n",
    "# Classifier\n",
    "model.add(layers.Flatten())\n",
    "model.add(layers.Dense(64, activation='relu'))\n",
    "model.add(layers.Dropout(0.05))\n",
    "model.add(layers.Dense(18, activation='softmax'))\n",
    "# Display model\n",
    "model.summary()\n"
   ]
  },
  {
   "cell_type": "code",
   "execution_count": 24,
   "metadata": {
    "colab": {
     "base_uri": "https://localhost:8080/"
    },
    "executionInfo": {
     "elapsed": 402,
     "status": "ok",
     "timestamp": 1623237353164,
     "user": {
      "displayName": "黃侯弼",
      "photoUrl": "",
      "userId": "02394864078410571973"
     },
     "user_tz": -480
    },
    "id": "sp5WfpkJDuDA",
    "outputId": "e7c65039-b132-4490-ce02-0897a4ca9bdc"
   },
   "outputs": [],
   "source": [
    "from tensorflow.keras import optimizers\n",
    "# Add training parameters to model\n",
    "model.compile(loss='sparse_categorical_crossentropy', \n",
    "              optimizer='adam',    #'adam'\n",
    "              metrics=['acc'])"
   ]
  },
  {
   "cell_type": "code",
   "execution_count": 25,
   "metadata": {
    "colab": {
     "base_uri": "https://localhost:8080/"
    },
    "executionInfo": {
     "elapsed": 6626,
     "status": "ok",
     "timestamp": 1623237360783,
     "user": {
      "displayName": "黃侯弼",
      "photoUrl": "",
      "userId": "02394864078410571973"
     },
     "user_tz": -480
    },
    "id": "s46KMbZbDuDB",
    "outputId": "ff0b8470-8926-4dd5-bd90-db3c765b1d90",
    "scrolled": true
   },
   "outputs": [
    {
     "name": "stdout",
     "output_type": "stream",
     "text": [
      "Epoch 1/50\n",
      "6/6 [==============================] - 1s 48ms/step - loss: 2.7473 - acc: 0.1233 - val_loss: 2.3923 - val_acc: 0.2917\n",
      "Epoch 2/50\n",
      "6/6 [==============================] - 0s 20ms/step - loss: 2.0302 - acc: 0.4635 - val_loss: 1.6424 - val_acc: 0.5556\n",
      "Epoch 3/50\n",
      "6/6 [==============================] - 0s 20ms/step - loss: 1.3151 - acc: 0.6076 - val_loss: 1.1451 - val_acc: 0.6250\n",
      "Epoch 4/50\n",
      "6/6 [==============================] - 0s 20ms/step - loss: 0.9214 - acc: 0.6997 - val_loss: 0.8563 - val_acc: 0.7222\n",
      "Epoch 5/50\n",
      "6/6 [==============================] - 0s 20ms/step - loss: 0.6600 - acc: 0.7760 - val_loss: 0.7687 - val_acc: 0.7639\n",
      "Epoch 6/50\n",
      "6/6 [==============================] - 0s 20ms/step - loss: 0.5144 - acc: 0.8212 - val_loss: 0.7257 - val_acc: 0.6944\n",
      "Epoch 7/50\n",
      "6/6 [==============================] - 0s 21ms/step - loss: 0.4081 - acc: 0.8681 - val_loss: 0.8419 - val_acc: 0.7917\n",
      "Epoch 8/50\n",
      "6/6 [==============================] - 0s 20ms/step - loss: 0.3885 - acc: 0.8507 - val_loss: 0.6268 - val_acc: 0.8472\n",
      "Epoch 9/50\n",
      "6/6 [==============================] - 0s 20ms/step - loss: 0.2850 - acc: 0.9045 - val_loss: 0.5738 - val_acc: 0.8333\n",
      "Epoch 10/50\n",
      "6/6 [==============================] - 0s 19ms/step - loss: 0.2181 - acc: 0.9219 - val_loss: 0.5855 - val_acc: 0.8333\n",
      "Epoch 11/50\n",
      "6/6 [==============================] - 0s 21ms/step - loss: 0.1646 - acc: 0.9549 - val_loss: 0.5911 - val_acc: 0.8472\n",
      "Epoch 12/50\n",
      "6/6 [==============================] - 0s 20ms/step - loss: 0.1294 - acc: 0.9635 - val_loss: 0.5340 - val_acc: 0.8472\n",
      "Epoch 13/50\n",
      "6/6 [==============================] - 0s 21ms/step - loss: 0.1400 - acc: 0.9618 - val_loss: 0.6597 - val_acc: 0.8333\n",
      "Epoch 14/50\n",
      "6/6 [==============================] - 0s 40ms/step - loss: 0.1107 - acc: 0.9705 - val_loss: 0.5723 - val_acc: 0.8611\n",
      "Epoch 15/50\n",
      "6/6 [==============================] - 0s 21ms/step - loss: 0.1155 - acc: 0.9566 - val_loss: 0.6652 - val_acc: 0.8472\n",
      "Epoch 16/50\n",
      "6/6 [==============================] - 0s 21ms/step - loss: 0.1199 - acc: 0.9670 - val_loss: 0.7644 - val_acc: 0.8333\n",
      "Epoch 17/50\n",
      "6/6 [==============================] - 0s 20ms/step - loss: 0.0970 - acc: 0.9722 - val_loss: 0.5400 - val_acc: 0.8889\n",
      "Epoch 18/50\n",
      "6/6 [==============================] - 0s 20ms/step - loss: 0.0689 - acc: 0.9809 - val_loss: 0.5211 - val_acc: 0.8611\n",
      "Epoch 19/50\n",
      "6/6 [==============================] - 0s 20ms/step - loss: 0.0556 - acc: 0.9861 - val_loss: 0.6819 - val_acc: 0.8750\n",
      "Epoch 20/50\n",
      "6/6 [==============================] - 0s 20ms/step - loss: 0.0516 - acc: 0.9844 - val_loss: 0.6790 - val_acc: 0.8472\n",
      "Epoch 21/50\n",
      "6/6 [==============================] - 0s 21ms/step - loss: 0.0518 - acc: 0.9878 - val_loss: 0.5752 - val_acc: 0.8750\n",
      "Epoch 22/50\n",
      "6/6 [==============================] - 0s 21ms/step - loss: 0.0432 - acc: 0.9878 - val_loss: 0.5535 - val_acc: 0.8889\n",
      "Epoch 23/50\n",
      "6/6 [==============================] - 0s 20ms/step - loss: 0.0343 - acc: 0.9913 - val_loss: 0.6205 - val_acc: 0.8611\n",
      "Epoch 24/50\n",
      "6/6 [==============================] - 0s 20ms/step - loss: 0.0370 - acc: 0.9913 - val_loss: 0.6648 - val_acc: 0.8750\n",
      "Epoch 25/50\n",
      "6/6 [==============================] - 0s 20ms/step - loss: 0.0411 - acc: 0.9878 - val_loss: 0.5190 - val_acc: 0.8889\n",
      "Epoch 26/50\n",
      "6/6 [==============================] - 0s 21ms/step - loss: 0.0308 - acc: 0.9931 - val_loss: 0.5211 - val_acc: 0.9028\n",
      "Epoch 27/50\n",
      "6/6 [==============================] - 0s 21ms/step - loss: 0.0297 - acc: 0.9931 - val_loss: 0.5967 - val_acc: 0.8889\n",
      "Epoch 28/50\n",
      "6/6 [==============================] - 0s 21ms/step - loss: 0.0264 - acc: 0.9931 - val_loss: 0.5606 - val_acc: 0.8889\n",
      "Epoch 29/50\n",
      "6/6 [==============================] - 0s 21ms/step - loss: 0.0220 - acc: 0.9931 - val_loss: 0.6240 - val_acc: 0.8472\n",
      "Epoch 30/50\n",
      "6/6 [==============================] - 0s 20ms/step - loss: 0.0269 - acc: 0.9965 - val_loss: 0.5041 - val_acc: 0.8889\n",
      "Epoch 31/50\n",
      "6/6 [==============================] - 0s 21ms/step - loss: 0.0303 - acc: 0.9913 - val_loss: 0.6801 - val_acc: 0.9028\n",
      "Epoch 32/50\n",
      "6/6 [==============================] - 0s 21ms/step - loss: 0.0304 - acc: 0.9896 - val_loss: 0.7276 - val_acc: 0.8750\n",
      "Epoch 33/50\n",
      "6/6 [==============================] - 0s 21ms/step - loss: 0.0342 - acc: 0.9931 - val_loss: 0.7359 - val_acc: 0.8889\n",
      "Epoch 34/50\n",
      "6/6 [==============================] - 0s 20ms/step - loss: 0.0278 - acc: 0.9913 - val_loss: 0.6338 - val_acc: 0.8750\n",
      "Epoch 35/50\n",
      "6/6 [==============================] - 0s 21ms/step - loss: 0.0415 - acc: 0.9878 - val_loss: 0.5495 - val_acc: 0.9028\n",
      "Epoch 36/50\n",
      "6/6 [==============================] - 0s 21ms/step - loss: 0.0270 - acc: 0.9896 - val_loss: 0.7549 - val_acc: 0.8472\n",
      "Epoch 37/50\n",
      "6/6 [==============================] - 0s 20ms/step - loss: 0.0213 - acc: 0.9931 - val_loss: 0.7275 - val_acc: 0.8472\n",
      "Epoch 38/50\n",
      "6/6 [==============================] - 0s 21ms/step - loss: 0.0277 - acc: 0.9931 - val_loss: 0.6776 - val_acc: 0.8611\n",
      "Epoch 39/50\n",
      "6/6 [==============================] - 0s 19ms/step - loss: 0.0105 - acc: 1.0000 - val_loss: 0.6958 - val_acc: 0.8472\n",
      "Epoch 40/50\n",
      "6/6 [==============================] - 0s 20ms/step - loss: 0.0150 - acc: 0.9983 - val_loss: 0.7533 - val_acc: 0.8611\n",
      "Epoch 41/50\n",
      "6/6 [==============================] - 0s 20ms/step - loss: 0.0093 - acc: 1.0000 - val_loss: 0.7402 - val_acc: 0.8750\n",
      "Epoch 42/50\n",
      "6/6 [==============================] - 0s 21ms/step - loss: 0.0150 - acc: 0.9965 - val_loss: 0.6612 - val_acc: 0.9028\n",
      "Epoch 43/50\n",
      "6/6 [==============================] - 0s 20ms/step - loss: 0.0142 - acc: 0.9965 - val_loss: 0.7044 - val_acc: 0.9028\n",
      "Epoch 44/50\n",
      "6/6 [==============================] - 0s 22ms/step - loss: 0.0150 - acc: 0.9948 - val_loss: 0.6684 - val_acc: 0.9028\n",
      "Epoch 45/50\n",
      "6/6 [==============================] - 0s 22ms/step - loss: 0.0128 - acc: 0.9965 - val_loss: 0.6680 - val_acc: 0.9028\n",
      "Epoch 46/50\n",
      "6/6 [==============================] - 0s 20ms/step - loss: 0.0147 - acc: 0.9965 - val_loss: 0.8164 - val_acc: 0.8611\n",
      "Epoch 47/50\n",
      "6/6 [==============================] - 0s 22ms/step - loss: 0.0194 - acc: 0.9948 - val_loss: 0.7603 - val_acc: 0.8889\n",
      "Epoch 48/50\n",
      "6/6 [==============================] - 0s 22ms/step - loss: 0.0135 - acc: 0.9965 - val_loss: 0.7855 - val_acc: 0.8750\n",
      "Epoch 49/50\n",
      "6/6 [==============================] - 0s 20ms/step - loss: 0.0115 - acc: 0.9983 - val_loss: 0.7122 - val_acc: 0.8889\n",
      "Epoch 50/50\n",
      "6/6 [==============================] - 0s 22ms/step - loss: 0.0089 - acc: 0.9983 - val_loss: 0.6894 - val_acc: 0.9028\n"
     ]
    }
   ],
   "source": [
    "# Train\n",
    "history = model.fit(x_train, \n",
    "                    y_train, \n",
    "                    epochs=50,\n",
    "                    batch_size=100,\n",
    "                    validation_data=(x_val, y_val))"
   ]
  },
  {
   "cell_type": "code",
   "execution_count": 26,
   "metadata": {
    "colab": {
     "base_uri": "https://localhost:8080/",
     "height": 545
    },
    "executionInfo": {
     "elapsed": 1003,
     "status": "ok",
     "timestamp": 1623237367971,
     "user": {
      "displayName": "黃侯弼",
      "photoUrl": "",
      "userId": "02394864078410571973"
     },
     "user_tz": -480
    },
    "id": "UHFvFGu9DuDB",
    "outputId": "d91020e9-a37e-47d8-c204-00bf612c2908"
   },
   "outputs": [
    {
     "data": {
      "image/png": "[encoded data removed]",
      "text/plain": [
       "<Figure size 432x288 with 1 Axes>"
      ]
     },
     "metadata": {
      "needs_background": "light"
     },
     "output_type": "display_data"
    },
    {
     "data": {
      "image/png": "[encoded data removed]",
      "text/plain": [
       "<Figure size 432x288 with 1 Axes>"
      ]
     },
     "metadata": {
      "needs_background": "light"
     },
     "output_type": "display_data"
    }
   ],
   "source": [
    "# Plot results\n",
    "import matplotlib.pyplot as plt\n",
    "\n",
    "acc = history.history['acc']\n",
    "val_acc = history.history['val_acc']\n",
    "loss = history.history['loss']\n",
    "val_loss = history.history['val_loss']\n",
    "\n",
    "epochs = range(1, len(acc) + 1)\n",
    "\n",
    "plt.plot(epochs, acc, 'bo', label='Training acc')\n",
    "plt.plot(epochs, val_acc, 'b', label='Validation acc')\n",
    "plt.title('Training and validation accuracy')\n",
    "plt.legend()\n",
    "\n",
    "plt.figure()\n",
    "\n",
    "plt.plot(epochs, loss, 'bo', label='Training loss')\n",
    "plt.plot(epochs, val_loss, 'b', label='Validation loss')\n",
    "plt.title('Training and validation loss')\n",
    "plt.legend()\n",
    "\n",
    "plt.show()"
   ]
  },
  {
   "cell_type": "code",
   "execution_count": 27,
   "metadata": {
    "executionInfo": {
     "elapsed": 263,
     "status": "ok",
     "timestamp": 1623237370995,
     "user": {
      "displayName": "黃侯弼",
      "photoUrl": "",
      "userId": "02394864078410571973"
     },
     "user_tz": -480
    },
    "id": "mKcsAPK-DuDB"
   },
   "outputs": [],
   "source": [
    "# Save the model as a file\n",
    "#Test1.h5\n",
    "models.save_model(model, model_filename)"
   ]
  },
  {
   "cell_type": "code",
   "execution_count": 28,
   "metadata": {
    "colab": {
     "base_uri": "https://localhost:8080/"
    },
    "executionInfo": {
     "elapsed": 774,
     "status": "ok",
     "timestamp": 1623237372852,
     "user": {
      "displayName": "黃侯弼",
      "photoUrl": "",
      "userId": "02394864078410571973"
     },
     "user_tz": -480
    },
    "id": "rOAEZ7PKDuDC",
    "outputId": "ec42e9de-9b6c-4269-b804-bd8df580acf4",
    "scrolled": true
   },
   "outputs": [
    {
     "name": "stdout",
     "output_type": "stream",
     "text": [
      "Answer: 8.0  Prediction: [[1.0957034e-12 1.1763436e-12 7.8697342e-09 4.4675380e-07 2.0041875e-15\n",
      "  2.4691769e-07 1.2369760e-08 3.0230643e-14 9.9999869e-01 3.7420628e-13\n",
      "  2.9998546e-13 3.6843094e-12 8.1847214e-18 7.5168033e-17 7.4923782e-11\n",
      "  1.2666414e-15 7.5087549e-12 5.7917987e-07]]\n",
      "Answer: 11.0  Prediction: [[5.8438740e-12 3.0651856e-14 2.2370698e-10 4.9329503e-12 1.0461055e-08\n",
      "  1.0355306e-19 3.0951071e-21 5.2895708e-15 3.2184823e-17 2.8203283e-16\n",
      "  1.7856943e-15 1.0000000e+00 3.7049158e-10 2.0181544e-10 1.7746899e-11\n",
      "  2.3550694e-17 6.3587487e-13 1.6505067e-17]]\n",
      "Answer: 7.0  Prediction: [[1.9645320e-05 6.1206429e-06 2.5998281e-07 4.6794320e-09 2.8475522e-08\n",
      "  1.9511206e-05 1.1809141e-12 9.9994743e-01 1.3108511e-11 1.2829100e-06\n",
      "  1.5722611e-07 9.6307440e-07 6.0164489e-08 1.7989304e-06 8.1548627e-08\n",
      "  2.6424211e-06 4.3727997e-08 4.3283690e-13]]\n",
      "Answer: 14.0  Prediction: [[7.9800904e-01 1.3647895e-09 1.6270168e-07 9.3070258e-07 3.4374119e-05\n",
      "  3.9730398e-03 1.0667874e-15 1.6726808e-07 1.0408920e-10 1.4136453e-09\n",
      "  8.2090871e-08 4.6001319e-03 7.8520263e-03 8.1408625e-06 1.8551815e-01\n",
      "  3.7432774e-06 7.8733834e-08 2.6638412e-11]]\n",
      "Answer: 3.0  Prediction: [[1.0990509e-11 4.9918100e-07 1.1814831e-06 9.9997020e-01 3.0874940e-08\n",
      "  1.4070710e-10 6.5892580e-09 1.4796190e-09 2.1310478e-07 6.7876464e-12\n",
      "  3.8305412e-09 5.8304374e-07 1.9113938e-13 2.3544993e-05 1.0935317e-09\n",
      "  2.9838989e-06 3.7608072e-07 5.0011732e-07]]\n",
      "Answer: 12.0  Prediction: [[1.12684859e-13 5.68857931e-17 1.14211662e-09 1.43104878e-14\n",
      "  5.63622655e-11 1.12804200e-17 1.08202302e-21 1.44320633e-09\n",
      "  2.35853664e-14 6.44645448e-11 6.79412776e-11 2.22570125e-05\n",
      "  9.99974251e-01 3.50304413e-06 1.37678695e-08 2.50963557e-13\n",
      "  2.34076630e-11 5.87450436e-18]]\n",
      "Answer: 14.0  Prediction: [[5.2673868e-03 1.5227607e-07 2.9299615e-06 3.1948298e-07 3.3860826e-07\n",
      "  1.7179898e-04 9.2079903e-12 1.1797799e-06 2.4971381e-09 6.3697607e-09\n",
      "  2.2567135e-04 3.2517957e-05 2.3963144e-04 3.5994606e-07 9.9405742e-01\n",
      "  3.1125347e-07 1.4075333e-08 2.4839531e-11]]\n",
      "Answer: 3.0  Prediction: [[5.9091884e-11 2.9201754e-08 1.6782010e-09 9.9985898e-01 3.0416522e-10\n",
      "  1.2839553e-10 9.0678974e-08 1.0782821e-11 5.1061292e-08 1.6770905e-13\n",
      "  7.7693235e-10 1.0435081e-06 1.8779505e-14 1.1962145e-06 1.6596946e-08\n",
      "  1.8234674e-07 1.0471958e-04 3.3677865e-05]]\n",
      "Answer: 9.0  Prediction: [[1.4067916e-12 5.8140177e-09 3.4243216e-11 1.7993385e-15 5.4994074e-05\n",
      "  8.2855690e-03 7.0803961e-16 1.0335243e-10 5.0974364e-12 9.9165946e-01\n",
      "  2.3624632e-11 1.6742031e-10 3.2808514e-10 2.0677578e-15 8.9587009e-14\n",
      "  3.2238867e-14 2.0471802e-14 2.2816998e-18]]\n",
      "Answer: 15.0  Prediction: [[1.1576597e-10 4.8802689e-12 2.4271096e-11 1.3024393e-09 1.4725952e-13\n",
      "  2.2625630e-13 7.8408911e-11 4.6200020e-07 9.0211012e-09 7.4360678e-17\n",
      "  4.3754479e-11 9.0848388e-08 6.7067042e-12 9.2646479e-10 4.2475929e-13\n",
      "  9.9999940e-01 4.6704308e-08 4.2272563e-10]]\n"
     ]
    }
   ],
   "source": [
    "# TEST: Load model and run it against test set\n",
    "model = models.load_model(model_filename)\n",
    "for i in range(0, 10):\n",
    "    print('Answer:', y_test[i], ' Prediction:', model.predict(np.expand_dims(x_test[i], 0)))"
   ]
  },
  {
   "cell_type": "code",
   "execution_count": 29,
   "metadata": {
    "colab": {
     "base_uri": "https://localhost:8080/"
    },
    "executionInfo": {
     "elapsed": 257,
     "status": "ok",
     "timestamp": 1623237375540,
     "user": {
      "displayName": "黃侯弼",
      "photoUrl": "",
      "userId": "02394864078410571973"
     },
     "user_tz": -480
    },
    "id": "F2N7VEDnDuDC",
    "outputId": "76a7172d-b0aa-46a9-c7fb-45f582e96cb6",
    "scrolled": true
   },
   "outputs": [
    {
     "name": "stdout",
     "output_type": "stream",
     "text": [
      "3/3 [==============================] - 0s 9ms/step - loss: 0.3263 - acc: 0.9167\n"
     ]
    },
    {
     "data": {
      "text/plain": [
       "[0.3263222873210907, 0.9166666865348816]"
      ]
     },
     "execution_count": 29,
     "metadata": {},
     "output_type": "execute_result"
    }
   ],
   "source": [
    "# Evaluate model with test set\n",
    "model.evaluate(x=x_test, y=y_test)"
   ]
  },
  {
   "cell_type": "code",
   "execution_count": null,
   "metadata": {},
   "outputs": [],
   "source": []
  }
 ],
 "metadata": {
  "accelerator": "GPU",
  "colab": {
   "collapsed_sections": [],
   "name": "Classifier.ipynb",
   "provenance": []
  },
  "kernelspec": {
   "display_name": "Python 3",
   "language": "python",
   "name": "python3"
  },
  "language_info": {
   "codemirror_mode": {
    "name": "ipython",
    "version": 3
   },
   "file_extension": ".py",
   "mimetype": "text/x-python",
   "name": "python",
   "nbconvert_exporter": "python",
   "pygments_lexer": "ipython3",
   "version": "3.8.8"
  }
 },
 "nbformat": 4,
 "nbformat_minor": 1
}
