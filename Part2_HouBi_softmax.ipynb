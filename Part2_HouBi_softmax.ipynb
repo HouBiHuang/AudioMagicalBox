{
 "cells": [
  {
   "cell_type": "code",
   "execution_count": 1,
   "metadata": {
    "executionInfo": {
     "elapsed": 428,
     "status": "ok",
     "timestamp": 1623236061470,
     "user": {
      "displayName": "黃侯弼",
      "photoUrl": "",
      "userId": "02394864078410571973"
     },
     "user_tz": -480
    },
    "id": "iVhpbtg0DuC5"
   },
   "outputs": [],
   "source": [
    "from os import listdir\n",
    "from os.path import isdir, join\n",
    "from tensorflow.keras import layers, models\n",
    "import numpy as np"
   ]
  },
  {
   "cell_type": "code",
   "execution_count": 2,
   "metadata": {
    "colab": {
     "base_uri": "https://localhost:8080/"
    },
    "executionInfo": {
     "elapsed": 5,
     "status": "ok",
     "timestamp": 1623236062585,
     "user": {
      "displayName": "黃侯弼",
      "photoUrl": "",
      "userId": "02394864078410571973"
     },
     "user_tz": -480
    },
    "id": "MZI1urklDuC6",
    "outputId": "9344224f-90ed-4d09-80e4-efd8c4bb7cac"
   },
   "outputs": [
    {
     "name": "stdout",
     "output_type": "stream",
     "text": [
      "['backgroundNoise', 'ㄏㄧㄡ', 'ㄟ', '他', '你', '吼', '啦', '嗯', '好', '我', '的', '的一個', '的這個', '的那個', '著', '那', '那那個', '阿']\n"
     ]
    }
   ],
   "source": [
    "# Create list of all targets (minus background noise)\n",
    "dataset_path = './recordingSpecAugment'\n",
    "all_targets = [name for name in listdir(dataset_path) if isdir(join(dataset_path, name))]\n",
    "print(all_targets)"
   ]
  },
  {
   "cell_type": "code",
   "execution_count": 3,
   "metadata": {
    "executionInfo": {
     "elapsed": 301,
     "status": "ok",
     "timestamp": 1623236063859,
     "user": {
      "displayName": "黃侯弼",
      "photoUrl": "",
      "userId": "02394864078410571973"
     },
     "user_tz": -480
    },
    "id": "WgAcVkOeDuC6"
   },
   "outputs": [],
   "source": [
    "# Settings\n",
    "feature_sets_path = './npz/'\n",
    "feature_sets_filename = 'recordingSpecAugment.npz'\n",
    "model_filename = './h5/recordingSpecAugment.h5'"
   ]
  },
  {
   "cell_type": "code",
   "execution_count": 4,
   "metadata": {
    "colab": {
     "base_uri": "https://localhost:8080/"
    },
    "executionInfo": {
     "elapsed": 458,
     "status": "ok",
     "timestamp": 1623236065288,
     "user": {
      "displayName": "黃侯弼",
      "photoUrl": "",
      "userId": "02394864078410571973"
     },
     "user_tz": -480
    },
    "id": "rJUTXuiVDuC7",
    "outputId": "4a7c5275-1bcb-4f85-dd65-18bb4e2630c9"
   },
   "outputs": [
    {
     "name": "stdout",
     "output_type": "stream",
     "text": [
      "['x_train', 'y_train', 'x_val', 'y_val', 'x_test', 'y_test']\n"
     ]
    }
   ],
   "source": [
    "# Load feature sets\n",
    "feature_sets = np.load(join(feature_sets_path, feature_sets_filename))\n",
    "print(feature_sets.files)"
   ]
  },
  {
   "cell_type": "code",
   "execution_count": 5,
   "metadata": {
    "colab": {
     "base_uri": "https://localhost:8080/"
    },
    "executionInfo": {
     "elapsed": 3,
     "status": "ok",
     "timestamp": 1623236066162,
     "user": {
      "displayName": "黃侯弼",
      "photoUrl": "",
      "userId": "02394864078410571973"
     },
     "user_tz": -480
    },
    "id": "0MTc8hMZDuC7",
    "outputId": "287b9ce7-b503-472c-dc22-1cf446a74c77"
   },
   "outputs": [
    {
     "name": "stdout",
     "output_type": "stream",
     "text": [
      "[16.  8.  3. ...  6. 16. 14.]\n",
      "[ 6. 10. 13. ... 12.  1. 14.]\n",
      "[ 0. 17.  3. ... 15.  4. 13.]\n"
     ]
    }
   ],
   "source": [
    "# Assign feature sets\n",
    "x_train = feature_sets['x_train']\n",
    "y_train = feature_sets['y_train']\n",
    "x_val = feature_sets['x_val']\n",
    "y_val = feature_sets['y_val']\n",
    "x_test = feature_sets['x_test']\n",
    "y_test = feature_sets['y_test']\n",
    "print(y_test)\n",
    "print(y_train)\n",
    "print(y_val)"
   ]
  },
  {
   "cell_type": "code",
   "execution_count": 6,
   "metadata": {
    "colab": {
     "base_uri": "https://localhost:8080/"
    },
    "executionInfo": {
     "elapsed": 262,
     "status": "ok",
     "timestamp": 1623236068434,
     "user": {
      "displayName": "黃侯弼",
      "photoUrl": "",
      "userId": "02394864078410571973"
     },
     "user_tz": -480
    },
    "id": "r2XzOXwdDuC8",
    "outputId": "6d00862e-4d37-415c-b854-22b4cdd10698"
   },
   "outputs": [
    {
     "name": "stdout",
     "output_type": "stream",
     "text": [
      "(6828, 13, 49)\n",
      "(2276, 13, 49)\n",
      "(2276, 13, 49)\n"
     ]
    }
   ],
   "source": [
    "# Look at tensor dimensions\n",
    "print(x_train.shape)\n",
    "print(x_val.shape)\n",
    "print(x_test.shape)"
   ]
  },
  {
   "cell_type": "code",
   "execution_count": 7,
   "metadata": {
    "colab": {
     "base_uri": "https://localhost:8080/"
    },
    "executionInfo": {
     "elapsed": 439,
     "status": "ok",
     "timestamp": 1623236069774,
     "user": {
      "displayName": "黃侯弼",
      "photoUrl": "",
      "userId": "02394864078410571973"
     },
     "user_tz": -480
    },
    "id": "N-l9zl-GDuC9",
    "outputId": "fd2762fb-1345-41d2-8108-985fcd157a52"
   },
   "outputs": [
    {
     "name": "stdout",
     "output_type": "stream",
     "text": [
      "[ 0. 17.  3. ... 15.  4. 13.]\n"
     ]
    }
   ],
   "source": [
    "# Peek at labels\n",
    "print(y_val)"
   ]
  },
  {
   "cell_type": "code",
   "execution_count": 8,
   "metadata": {
    "colab": {
     "base_uri": "https://localhost:8080/"
    },
    "executionInfo": {
     "elapsed": 4,
     "status": "ok",
     "timestamp": 1623236070623,
     "user": {
      "displayName": "黃侯弼",
      "photoUrl": "",
      "userId": "02394864078410571973"
     },
     "user_tz": -480
    },
    "id": "nY3RGYbPDuC-",
    "outputId": "deded680-fc57-4da6-c054-a4648b5007eb"
   },
   "outputs": [
    {
     "name": "stdout",
     "output_type": "stream",
     "text": [
      "[16.  8.  3. ...  6. 16. 14.]\n"
     ]
    }
   ],
   "source": [
    "# Peek at labels after conversion\n",
    "print(y_test)"
   ]
  },
  {
   "cell_type": "code",
   "execution_count": 9,
   "metadata": {
    "colab": {
     "base_uri": "https://localhost:8080/"
    },
    "executionInfo": {
     "elapsed": 5,
     "status": "ok",
     "timestamp": 1623236071679,
     "user": {
      "displayName": "黃侯弼",
      "photoUrl": "",
      "userId": "02394864078410571973"
     },
     "user_tz": -480
    },
    "id": "8I1_x2yvDuC-",
    "outputId": "0d138400-6662-4175-8a1f-f640e3f2bf6d"
   },
   "outputs": [
    {
     "name": "stdout",
     "output_type": "stream",
     "text": [
      "(6828, 13, 49)\n"
     ]
    }
   ],
   "source": [
    "# View the dimensions of our input data\n",
    "print(x_train.shape)"
   ]
  },
  {
   "cell_type": "code",
   "execution_count": 10,
   "metadata": {
    "colab": {
     "base_uri": "https://localhost:8080/"
    },
    "executionInfo": {
     "elapsed": 4,
     "status": "ok",
     "timestamp": 1623236072760,
     "user": {
      "displayName": "黃侯弼",
      "photoUrl": "",
      "userId": "02394864078410571973"
     },
     "user_tz": -480
    },
    "id": "i_zQsgz4DuC_",
    "outputId": "94a9c63d-7b06-4e8f-8c10-2aaab2aebe64",
    "scrolled": true
   },
   "outputs": [
    {
     "name": "stdout",
     "output_type": "stream",
     "text": [
      "(6828, 13, 49, 1)\n",
      "(2276, 13, 49, 1)\n",
      "(2276, 13, 49, 1)\n"
     ]
    }
   ],
   "source": [
    "# CNN for TF expects (batch, height, width, channels)\n",
    "# So we reshape the input tensors with a \"color\" channel of 1\n",
    "x_train = x_train.reshape(x_train.shape[0], \n",
    "                          x_train.shape[1], \n",
    "                          x_train.shape[2], \n",
    "                          1)\n",
    "x_val = x_val.reshape(x_val.shape[0], \n",
    "                      x_val.shape[1], \n",
    "                      x_val.shape[2], \n",
    "                      1)\n",
    "x_test = x_test.reshape(x_test.shape[0], \n",
    "                        x_test.shape[1], \n",
    "                        x_test.shape[2], \n",
    "                        1)\n",
    "print(x_train.shape)\n",
    "print(x_val.shape)\n",
    "print(x_test.shape)"
   ]
  },
  {
   "cell_type": "code",
   "execution_count": 11,
   "metadata": {
    "colab": {
     "base_uri": "https://localhost:8080/"
    },
    "executionInfo": {
     "elapsed": 281,
     "status": "ok",
     "timestamp": 1623236074651,
     "user": {
      "displayName": "黃侯弼",
      "photoUrl": "",
      "userId": "02394864078410571973"
     },
     "user_tz": -480
    },
    "id": "Ge2MCNusDuC_",
    "outputId": "7c995061-d01d-4a96-a14f-fbee6804b4d4"
   },
   "outputs": [
    {
     "name": "stdout",
     "output_type": "stream",
     "text": [
      "(13, 49, 1)\n"
     ]
    }
   ],
   "source": [
    "# Input shape for CNN is size of MFCC of 1 sample\n",
    "sample_shape = x_test.shape[1:]\n",
    "print(sample_shape)"
   ]
  },
  {
   "cell_type": "code",
   "execution_count": 23,
   "metadata": {
    "colab": {
     "base_uri": "https://localhost:8080/"
    },
    "executionInfo": {
     "elapsed": 264,
     "status": "ok",
     "timestamp": 1623237350948,
     "user": {
      "displayName": "黃侯弼",
      "photoUrl": "",
      "userId": "02394864078410571973"
     },
     "user_tz": -480
    },
    "id": "2JqUOHp9DuDA",
    "outputId": "cc676686-8778-47c0-d5eb-183d137369d2"
   },
   "outputs": [
    {
     "name": "stdout",
     "output_type": "stream",
     "text": [
      "Model: \"sequential_5\"\n",
      "_________________________________________________________________\n",
      "Layer (type)                 Output Shape              Param #   \n",
      "=================================================================\n",
      "conv2d_15 (Conv2D)           (None, 12, 48, 32)        160       \n",
      "_________________________________________________________________\n",
      "max_pooling2d_15 (MaxPooling (None, 6, 24, 32)         0         \n",
      "_________________________________________________________________\n",
      "conv2d_16 (Conv2D)           (None, 5, 23, 64)         8256      \n",
      "_________________________________________________________________\n",
      "max_pooling2d_16 (MaxPooling (None, 2, 11, 64)         0         \n",
      "_________________________________________________________________\n",
      "conv2d_17 (Conv2D)           (None, 1, 10, 128)        32896     \n",
      "_________________________________________________________________\n",
      "max_pooling2d_17 (MaxPooling (None, 1, 10, 128)        0         \n",
      "_________________________________________________________________\n",
      "dropout_6 (Dropout)          (None, 1, 10, 128)        0         \n",
      "_________________________________________________________________\n",
      "flatten_3 (Flatten)          (None, 1280)              0         \n",
      "_________________________________________________________________\n",
      "dense_6 (Dense)              (None, 64)                81984     \n",
      "_________________________________________________________________\n",
      "dropout_7 (Dropout)          (None, 64)                0         \n",
      "_________________________________________________________________\n",
      "dense_7 (Dense)              (None, 18)                1170      \n",
      "=================================================================\n",
      "Total params: 124,466\n",
      "Trainable params: 124,466\n",
      "Non-trainable params: 0\n",
      "_________________________________________________________________\n"
     ]
    }
   ],
   "source": [
    "model = models.Sequential()\n",
    "model.add(layers.Conv2D(32, (2, 2), activation='relu',input_shape=sample_shape))\n",
    "model.add(layers.MaxPooling2D(pool_size=(2, 2)))\n",
    "\n",
    "model.add(layers.Conv2D(64, (2, 2), activation='relu'))\n",
    "model.add(layers.MaxPooling2D(pool_size=(2, 2)))\n",
    "\n",
    "model.add(layers.Conv2D(128, (2, 2), activation='relu'))\n",
    "model.add(layers.MaxPooling2D(pool_size=(1, 1)))\n",
    "model.add(layers.Dropout(0.2))\n",
    "\n",
    "# Classifier\n",
    "model.add(layers.Flatten())\n",
    "model.add(layers.Dense(64, activation='relu'))\n",
    "model.add(layers.Dropout(0.3))\n",
    "model.add(layers.Dense(18, activation='softmax'))\n",
    "# Display model\n",
    "model.summary()\n"
   ]
  },
  {
   "cell_type": "code",
   "execution_count": 24,
   "metadata": {
    "colab": {
     "base_uri": "https://localhost:8080/"
    },
    "executionInfo": {
     "elapsed": 402,
     "status": "ok",
     "timestamp": 1623237353164,
     "user": {
      "displayName": "黃侯弼",
      "photoUrl": "",
      "userId": "02394864078410571973"
     },
     "user_tz": -480
    },
    "id": "sp5WfpkJDuDA",
    "outputId": "e7c65039-b132-4490-ce02-0897a4ca9bdc"
   },
   "outputs": [],
   "source": [
    "from tensorflow.keras import optimizers\n",
    "# Add training parameters to model\n",
    "model.compile(loss='sparse_categorical_crossentropy', \n",
    "              optimizer='adam',\n",
    "              metrics=['acc'])"
   ]
  },
  {
   "cell_type": "code",
   "execution_count": 25,
   "metadata": {
    "colab": {
     "base_uri": "https://localhost:8080/"
    },
    "executionInfo": {
     "elapsed": 6626,
     "status": "ok",
     "timestamp": 1623237360783,
     "user": {
      "displayName": "黃侯弼",
      "photoUrl": "",
      "userId": "02394864078410571973"
     },
     "user_tz": -480
    },
    "id": "s46KMbZbDuDB",
    "outputId": "ff0b8470-8926-4dd5-bd90-db3c765b1d90",
    "scrolled": true
   },
   "outputs": [
    {
     "name": "stdout",
     "output_type": "stream",
     "text": [
      "Epoch 1/100\n",
      "137/137 [==============================] - 2s 12ms/step - loss: 2.9244 - acc: 0.1283 - val_loss: 2.4821 - val_acc: 0.2315\n",
      "Epoch 2/100\n",
      "137/137 [==============================] - 1s 10ms/step - loss: 2.2209 - acc: 0.3024 - val_loss: 1.6446 - val_acc: 0.4934\n",
      "Epoch 3/100\n",
      "137/137 [==============================] - 1s 10ms/step - loss: 1.6251 - acc: 0.4770 - val_loss: 1.2118 - val_acc: 0.6388\n",
      "Epoch 4/100\n",
      "137/137 [==============================] - 1s 10ms/step - loss: 1.2946 - acc: 0.5791 - val_loss: 0.9467 - val_acc: 0.7012\n",
      "Epoch 5/100\n",
      "137/137 [==============================] - 1s 10ms/step - loss: 1.0880 - acc: 0.6500 - val_loss: 0.9078 - val_acc: 0.7047\n",
      "Epoch 6/100\n",
      "137/137 [==============================] - 1s 10ms/step - loss: 0.9634 - acc: 0.6848 - val_loss: 0.7550 - val_acc: 0.7720\n",
      "Epoch 7/100\n",
      "137/137 [==============================] - 1s 11ms/step - loss: 0.8473 - acc: 0.7222 - val_loss: 0.6448 - val_acc: 0.7869\n",
      "Epoch 8/100\n",
      "137/137 [==============================] - 1s 11ms/step - loss: 0.7448 - acc: 0.7523 - val_loss: 0.6138 - val_acc: 0.7992\n",
      "Epoch 9/100\n",
      "137/137 [==============================] - 1s 10ms/step - loss: 0.6641 - acc: 0.7769 - val_loss: 0.5552 - val_acc: 0.8177\n",
      "Epoch 10/100\n",
      "137/137 [==============================] - 1s 11ms/step - loss: 0.6297 - acc: 0.7894 - val_loss: 0.5486 - val_acc: 0.8203\n",
      "Epoch 11/100\n",
      "137/137 [==============================] - 2s 11ms/step - loss: 0.5713 - acc: 0.8070 - val_loss: 0.5391 - val_acc: 0.8216\n",
      "Epoch 12/100\n",
      "137/137 [==============================] - 1s 11ms/step - loss: 0.5302 - acc: 0.8193 - val_loss: 0.5038 - val_acc: 0.8405\n",
      "Epoch 13/100\n",
      "137/137 [==============================] - 1s 10ms/step - loss: 0.5082 - acc: 0.8326 - val_loss: 0.4800 - val_acc: 0.8401\n",
      "Epoch 14/100\n",
      "137/137 [==============================] - 1s 10ms/step - loss: 0.4878 - acc: 0.8338 - val_loss: 0.4867 - val_acc: 0.8445\n",
      "Epoch 15/100\n",
      "137/137 [==============================] - 1s 10ms/step - loss: 0.4738 - acc: 0.8411 - val_loss: 0.4516 - val_acc: 0.8550\n",
      "Epoch 16/100\n",
      "137/137 [==============================] - 1s 10ms/step - loss: 0.4087 - acc: 0.8639 - val_loss: 0.4736 - val_acc: 0.8497\n",
      "Epoch 17/100\n",
      "137/137 [==============================] - 1s 11ms/step - loss: 0.3988 - acc: 0.8656 - val_loss: 0.4720 - val_acc: 0.8616\n",
      "Epoch 18/100\n",
      "137/137 [==============================] - 1s 10ms/step - loss: 0.4186 - acc: 0.8595 - val_loss: 0.4294 - val_acc: 0.8620\n",
      "Epoch 19/100\n",
      "137/137 [==============================] - 1s 10ms/step - loss: 0.3858 - acc: 0.8740 - val_loss: 0.4524 - val_acc: 0.8616\n",
      "Epoch 20/100\n",
      "137/137 [==============================] - 1s 10ms/step - loss: 0.3338 - acc: 0.8855 - val_loss: 0.4468 - val_acc: 0.8634\n",
      "Epoch 21/100\n",
      "137/137 [==============================] - 1s 10ms/step - loss: 0.3818 - acc: 0.8726 - val_loss: 0.4166 - val_acc: 0.8699\n",
      "Epoch 22/100\n",
      "137/137 [==============================] - 1s 10ms/step - loss: 0.3177 - acc: 0.8918 - val_loss: 0.4324 - val_acc: 0.8708\n",
      "Epoch 23/100\n",
      "137/137 [==============================] - 1s 10ms/step - loss: 0.3281 - acc: 0.8907 - val_loss: 0.4554 - val_acc: 0.8765\n",
      "Epoch 24/100\n",
      "137/137 [==============================] - 1s 10ms/step - loss: 0.2878 - acc: 0.9011 - val_loss: 0.4139 - val_acc: 0.8686\n",
      "Epoch 25/100\n",
      "137/137 [==============================] - 1s 10ms/step - loss: 0.2837 - acc: 0.9010 - val_loss: 0.4303 - val_acc: 0.8814\n",
      "Epoch 26/100\n",
      "137/137 [==============================] - 1s 10ms/step - loss: 0.2873 - acc: 0.9051 - val_loss: 0.4050 - val_acc: 0.8866\n",
      "Epoch 27/100\n",
      "137/137 [==============================] - 1s 11ms/step - loss: 0.2770 - acc: 0.9048 - val_loss: 0.4094 - val_acc: 0.8752\n",
      "Epoch 28/100\n",
      "137/137 [==============================] - 1s 10ms/step - loss: 0.2705 - acc: 0.9054 - val_loss: 0.3978 - val_acc: 0.8814\n",
      "Epoch 29/100\n",
      "137/137 [==============================] - 1s 10ms/step - loss: 0.2573 - acc: 0.9137 - val_loss: 0.3966 - val_acc: 0.8858\n",
      "Epoch 30/100\n",
      "137/137 [==============================] - 1s 11ms/step - loss: 0.2695 - acc: 0.9077 - val_loss: 0.4084 - val_acc: 0.8849\n",
      "Epoch 31/100\n",
      "137/137 [==============================] - 1s 10ms/step - loss: 0.2528 - acc: 0.9170 - val_loss: 0.3922 - val_acc: 0.8853\n",
      "Epoch 32/100\n",
      "137/137 [==============================] - 1s 10ms/step - loss: 0.2311 - acc: 0.9257 - val_loss: 0.4922 - val_acc: 0.8708\n",
      "Epoch 33/100\n",
      "137/137 [==============================] - 1s 11ms/step - loss: 0.2496 - acc: 0.9181 - val_loss: 0.4702 - val_acc: 0.8871\n",
      "Epoch 34/100\n",
      "137/137 [==============================] - 1s 11ms/step - loss: 0.2421 - acc: 0.9215 - val_loss: 0.3992 - val_acc: 0.8910\n",
      "Epoch 35/100\n",
      "137/137 [==============================] - 1s 10ms/step - loss: 0.2195 - acc: 0.9247 - val_loss: 0.4043 - val_acc: 0.8906\n",
      "Epoch 36/100\n",
      "137/137 [==============================] - 1s 10ms/step - loss: 0.1965 - acc: 0.9339 - val_loss: 0.4595 - val_acc: 0.8858\n",
      "Epoch 37/100\n",
      "137/137 [==============================] - 1s 11ms/step - loss: 0.2178 - acc: 0.9238 - val_loss: 0.3747 - val_acc: 0.8875\n",
      "Epoch 38/100\n",
      "137/137 [==============================] - 1s 11ms/step - loss: 0.1950 - acc: 0.9309 - val_loss: 0.4612 - val_acc: 0.8796\n",
      "Epoch 39/100\n",
      "137/137 [==============================] - 1s 11ms/step - loss: 0.2029 - acc: 0.9300 - val_loss: 0.4547 - val_acc: 0.8836\n",
      "Epoch 40/100\n",
      "137/137 [==============================] - 1s 10ms/step - loss: 0.2248 - acc: 0.9265 - val_loss: 0.4084 - val_acc: 0.8910\n",
      "Epoch 41/100\n",
      "137/137 [==============================] - 1s 10ms/step - loss: 0.1976 - acc: 0.9332 - val_loss: 0.4296 - val_acc: 0.8805\n",
      "Epoch 42/100\n",
      "137/137 [==============================] - 1s 10ms/step - loss: 0.1905 - acc: 0.9348 - val_loss: 0.4329 - val_acc: 0.8902\n",
      "Epoch 43/100\n",
      "137/137 [==============================] - 1s 10ms/step - loss: 0.1915 - acc: 0.9376 - val_loss: 0.3878 - val_acc: 0.8985\n",
      "Epoch 44/100\n",
      "137/137 [==============================] - 1s 11ms/step - loss: 0.2054 - acc: 0.9316 - val_loss: 0.3864 - val_acc: 0.8963\n",
      "Epoch 45/100\n",
      "137/137 [==============================] - 1s 10ms/step - loss: 0.1854 - acc: 0.9400 - val_loss: 0.4040 - val_acc: 0.8954\n",
      "Epoch 46/100\n",
      "137/137 [==============================] - 1s 10ms/step - loss: 0.1760 - acc: 0.9433 - val_loss: 0.4543 - val_acc: 0.8836\n",
      "Epoch 47/100\n",
      "137/137 [==============================] - 1s 10ms/step - loss: 0.1729 - acc: 0.9430 - val_loss: 0.4293 - val_acc: 0.8981\n",
      "Epoch 48/100\n",
      "137/137 [==============================] - 1s 10ms/step - loss: 0.1628 - acc: 0.9443 - val_loss: 0.4274 - val_acc: 0.8915\n",
      "Epoch 49/100\n",
      "137/137 [==============================] - 1s 11ms/step - loss: 0.1901 - acc: 0.9369 - val_loss: 0.4072 - val_acc: 0.8954\n",
      "Epoch 50/100\n",
      "137/137 [==============================] - 1s 11ms/step - loss: 0.1635 - acc: 0.9474 - val_loss: 0.4185 - val_acc: 0.8967\n",
      "Epoch 51/100\n",
      "137/137 [==============================] - 1s 10ms/step - loss: 0.1652 - acc: 0.9482 - val_loss: 0.4826 - val_acc: 0.8902\n",
      "Epoch 52/100\n",
      "137/137 [==============================] - 2s 11ms/step - loss: 0.1666 - acc: 0.9449 - val_loss: 0.4240 - val_acc: 0.8941\n",
      "Epoch 53/100\n",
      "137/137 [==============================] - 2s 11ms/step - loss: 0.1557 - acc: 0.9495 - val_loss: 0.4203 - val_acc: 0.8924\n",
      "Epoch 54/100\n",
      "137/137 [==============================] - 1s 11ms/step - loss: 0.1423 - acc: 0.9528 - val_loss: 0.4651 - val_acc: 0.8910\n",
      "Epoch 55/100\n",
      "137/137 [==============================] - 1s 10ms/step - loss: 0.1610 - acc: 0.9477 - val_loss: 0.4412 - val_acc: 0.8858\n",
      "Epoch 56/100\n",
      "137/137 [==============================] - 1s 10ms/step - loss: 0.1570 - acc: 0.9476 - val_loss: 0.3965 - val_acc: 0.9025\n",
      "Epoch 57/100\n",
      "137/137 [==============================] - 1s 10ms/step - loss: 0.1533 - acc: 0.9492 - val_loss: 0.4467 - val_acc: 0.8932\n",
      "Epoch 58/100\n",
      "137/137 [==============================] - 1s 10ms/step - loss: 0.1477 - acc: 0.9515 - val_loss: 0.4122 - val_acc: 0.9042\n",
      "Epoch 59/100\n",
      "137/137 [==============================] - 1s 10ms/step - loss: 0.1482 - acc: 0.9492 - val_loss: 0.4665 - val_acc: 0.8976\n",
      "Epoch 60/100\n",
      "137/137 [==============================] - 1s 10ms/step - loss: 0.1775 - acc: 0.9449 - val_loss: 0.4173 - val_acc: 0.8994\n",
      "Epoch 61/100\n",
      "137/137 [==============================] - 1s 10ms/step - loss: 0.1649 - acc: 0.9464 - val_loss: 0.4514 - val_acc: 0.8967\n"
     ]
    },
    {
     "name": "stdout",
     "output_type": "stream",
     "text": [
      "Epoch 62/100\n",
      "137/137 [==============================] - 1s 10ms/step - loss: 0.1599 - acc: 0.9476 - val_loss: 0.4619 - val_acc: 0.8932\n",
      "Epoch 63/100\n",
      "137/137 [==============================] - 1s 10ms/step - loss: 0.1553 - acc: 0.9511 - val_loss: 0.4297 - val_acc: 0.8954\n",
      "Epoch 64/100\n",
      "137/137 [==============================] - 1s 10ms/step - loss: 0.1667 - acc: 0.9454 - val_loss: 0.4075 - val_acc: 0.8959\n",
      "Epoch 65/100\n",
      "137/137 [==============================] - 1s 10ms/step - loss: 0.1520 - acc: 0.9509 - val_loss: 0.4889 - val_acc: 0.8796\n",
      "Epoch 66/100\n",
      "137/137 [==============================] - 1s 11ms/step - loss: 0.1230 - acc: 0.9577 - val_loss: 0.4380 - val_acc: 0.9047\n",
      "Epoch 67/100\n",
      "137/137 [==============================] - 1s 10ms/step - loss: 0.1243 - acc: 0.9586 - val_loss: 0.3978 - val_acc: 0.9029\n",
      "Epoch 68/100\n",
      "137/137 [==============================] - 1s 10ms/step - loss: 0.0946 - acc: 0.9679 - val_loss: 0.5059 - val_acc: 0.9007\n",
      "Epoch 69/100\n",
      "137/137 [==============================] - 1s 10ms/step - loss: 0.1415 - acc: 0.9530 - val_loss: 0.4473 - val_acc: 0.8946\n",
      "Epoch 70/100\n",
      "137/137 [==============================] - 1s 10ms/step - loss: 0.1193 - acc: 0.9629 - val_loss: 0.4597 - val_acc: 0.8941\n",
      "Epoch 71/100\n",
      "137/137 [==============================] - 1s 10ms/step - loss: 0.1425 - acc: 0.9566 - val_loss: 0.4702 - val_acc: 0.8875\n",
      "Epoch 72/100\n",
      "137/137 [==============================] - 1s 11ms/step - loss: 0.1513 - acc: 0.9517 - val_loss: 0.4691 - val_acc: 0.8893\n",
      "Epoch 73/100\n",
      "137/137 [==============================] - 1s 11ms/step - loss: 0.1277 - acc: 0.9587 - val_loss: 0.4541 - val_acc: 0.9020\n",
      "Epoch 74/100\n",
      "137/137 [==============================] - 1s 10ms/step - loss: 0.1122 - acc: 0.9650 - val_loss: 0.4900 - val_acc: 0.8998\n",
      "Epoch 75/100\n",
      "137/137 [==============================] - 1s 10ms/step - loss: 0.1383 - acc: 0.9559 - val_loss: 0.4448 - val_acc: 0.9047\n",
      "Epoch 76/100\n",
      "137/137 [==============================] - 1s 10ms/step - loss: 0.1216 - acc: 0.9605 - val_loss: 0.4289 - val_acc: 0.9060\n",
      "Epoch 77/100\n",
      "137/137 [==============================] - 1s 11ms/step - loss: 0.1205 - acc: 0.9594 - val_loss: 0.4344 - val_acc: 0.8985\n",
      "Epoch 78/100\n",
      "137/137 [==============================] - 1s 10ms/step - loss: 0.1035 - acc: 0.9638 - val_loss: 0.4377 - val_acc: 0.9042\n",
      "Epoch 79/100\n",
      "137/137 [==============================] - 1s 10ms/step - loss: 0.1057 - acc: 0.9663 - val_loss: 0.4312 - val_acc: 0.9025\n",
      "Epoch 80/100\n",
      "137/137 [==============================] - 1s 11ms/step - loss: 0.1150 - acc: 0.9618 - val_loss: 0.4750 - val_acc: 0.8932\n",
      "Epoch 81/100\n",
      "137/137 [==============================] - 1s 10ms/step - loss: 0.1387 - acc: 0.9550 - val_loss: 0.4964 - val_acc: 0.8919\n",
      "Epoch 82/100\n",
      "137/137 [==============================] - 1s 10ms/step - loss: 0.1253 - acc: 0.9603 - val_loss: 0.4889 - val_acc: 0.9011\n",
      "Epoch 83/100\n",
      "137/137 [==============================] - 1s 11ms/step - loss: 0.1517 - acc: 0.9518 - val_loss: 0.4431 - val_acc: 0.9011\n",
      "Epoch 84/100\n",
      "137/137 [==============================] - 1s 10ms/step - loss: 0.1033 - acc: 0.9631 - val_loss: 0.4742 - val_acc: 0.8972\n",
      "Epoch 85/100\n",
      "137/137 [==============================] - 1s 10ms/step - loss: 0.1241 - acc: 0.9615 - val_loss: 0.4648 - val_acc: 0.8972\n",
      "Epoch 86/100\n",
      "137/137 [==============================] - 1s 10ms/step - loss: 0.1130 - acc: 0.9657 - val_loss: 0.5030 - val_acc: 0.9016\n",
      "Epoch 87/100\n",
      "137/137 [==============================] - 1s 11ms/step - loss: 0.1193 - acc: 0.9597 - val_loss: 0.4168 - val_acc: 0.9025\n",
      "Epoch 88/100\n",
      "137/137 [==============================] - 1s 10ms/step - loss: 0.0949 - acc: 0.9706 - val_loss: 0.4597 - val_acc: 0.9047\n",
      "Epoch 89/100\n",
      "137/137 [==============================] - 1s 10ms/step - loss: 0.0955 - acc: 0.9653 - val_loss: 0.4442 - val_acc: 0.8946\n",
      "Epoch 90/100\n",
      "137/137 [==============================] - 1s 10ms/step - loss: 0.1232 - acc: 0.9625 - val_loss: 0.4538 - val_acc: 0.8963\n",
      "Epoch 91/100\n",
      "137/137 [==============================] - 1s 10ms/step - loss: 0.1109 - acc: 0.9631 - val_loss: 0.4641 - val_acc: 0.8959\n",
      "Epoch 92/100\n",
      "137/137 [==============================] - 1s 10ms/step - loss: 0.1004 - acc: 0.9669 - val_loss: 0.4630 - val_acc: 0.9016\n",
      "Epoch 93/100\n",
      "137/137 [==============================] - 1s 10ms/step - loss: 0.1273 - acc: 0.9616 - val_loss: 0.4716 - val_acc: 0.8989\n",
      "Epoch 94/100\n",
      "137/137 [==============================] - 2s 11ms/step - loss: 0.1060 - acc: 0.9621 - val_loss: 0.4857 - val_acc: 0.8910\n",
      "Epoch 95/100\n",
      "137/137 [==============================] - 2s 11ms/step - loss: 0.1193 - acc: 0.9624 - val_loss: 0.4656 - val_acc: 0.8963\n",
      "Epoch 96/100\n",
      "137/137 [==============================] - 1s 11ms/step - loss: 0.1357 - acc: 0.9594 - val_loss: 0.5156 - val_acc: 0.8985\n",
      "Epoch 97/100\n",
      "137/137 [==============================] - 1s 11ms/step - loss: 0.1256 - acc: 0.9606 - val_loss: 0.4583 - val_acc: 0.9038\n",
      "Epoch 98/100\n",
      "137/137 [==============================] - 1s 11ms/step - loss: 0.0968 - acc: 0.9672 - val_loss: 0.4124 - val_acc: 0.8994\n",
      "Epoch 99/100\n",
      "137/137 [==============================] - 1s 10ms/step - loss: 0.0942 - acc: 0.9687 - val_loss: 0.4770 - val_acc: 0.8994\n",
      "Epoch 100/100\n",
      "137/137 [==============================] - 1s 11ms/step - loss: 0.0810 - acc: 0.9735 - val_loss: 0.4635 - val_acc: 0.8959\n"
     ]
    }
   ],
   "source": [
    "# Train\n",
    "history = model.fit(x_train, \n",
    "                    y_train, \n",
    "                    epochs=100,\n",
    "                    batch_size=50,\n",
    "                    validation_data=(x_val, y_val))"
   ]
  },
  {
   "cell_type": "code",
   "execution_count": 26,
   "metadata": {
    "colab": {
     "base_uri": "https://localhost:8080/",
     "height": 545
    },
    "executionInfo": {
     "elapsed": 1003,
     "status": "ok",
     "timestamp": 1623237367971,
     "user": {
      "displayName": "黃侯弼",
      "photoUrl": "",
      "userId": "02394864078410571973"
     },
     "user_tz": -480
    },
    "id": "UHFvFGu9DuDB",
    "outputId": "d91020e9-a37e-47d8-c204-00bf612c2908"
   },
   "outputs": [
    {
     "data": {
      "image/png": "[encoded data removed]",
      "text/plain": [
       "<Figure size 432x288 with 1 Axes>"
      ]
     },
     "metadata": {
      "needs_background": "light"
     },
     "output_type": "display_data"
    },
    {
     "data": {
      "image/png": "[encoded data removed]",
      "text/plain": [
       "<Figure size 432x288 with 1 Axes>"
      ]
     },
     "metadata": {
      "needs_background": "light"
     },
     "output_type": "display_data"
    }
   ],
   "source": [
    "# Plot results\n",
    "import matplotlib.pyplot as plt\n",
    "\n",
    "acc = history.history['acc']\n",
    "val_acc = history.history['val_acc']\n",
    "loss = history.history['loss']\n",
    "val_loss = history.history['val_loss']\n",
    "\n",
    "epochs = range(1, len(acc) + 1)\n",
    "\n",
    "plt.plot(epochs, acc, 'bo', label='Training acc')\n",
    "plt.plot(epochs, val_acc, 'b', label='Validation acc')\n",
    "plt.title('Training and validation accuracy')\n",
    "plt.legend()\n",
    "\n",
    "plt.figure()\n",
    "\n",
    "plt.plot(epochs, loss, 'bo', label='Training loss')\n",
    "plt.plot(epochs, val_loss, 'b', label='Validation loss')\n",
    "plt.title('Training and validation loss')\n",
    "plt.legend()\n",
    "\n",
    "plt.show()"
   ]
  },
  {
   "cell_type": "code",
   "execution_count": 27,
   "metadata": {
    "executionInfo": {
     "elapsed": 263,
     "status": "ok",
     "timestamp": 1623237370995,
     "user": {
      "displayName": "黃侯弼",
      "photoUrl": "",
      "userId": "02394864078410571973"
     },
     "user_tz": -480
    },
    "id": "mKcsAPK-DuDB"
   },
   "outputs": [],
   "source": [
    "# Save the model as a file\n",
    "models.save_model(model, model_filename)"
   ]
  },
  {
   "cell_type": "code",
   "execution_count": 28,
   "metadata": {
    "colab": {
     "base_uri": "https://localhost:8080/"
    },
    "executionInfo": {
     "elapsed": 774,
     "status": "ok",
     "timestamp": 1623237372852,
     "user": {
      "displayName": "黃侯弼",
      "photoUrl": "",
      "userId": "02394864078410571973"
     },
     "user_tz": -480
    },
    "id": "rOAEZ7PKDuDC",
    "outputId": "ec42e9de-9b6c-4269-b804-bd8df580acf4",
    "scrolled": true
   },
   "outputs": [
    {
     "name": "stdout",
     "output_type": "stream",
     "text": [
      "Answer: 16.0  Prediction: [[6.0528191e-15 4.2166422e-16 7.1419703e-11 1.4549108e-16 3.9484598e-19\n",
      "  2.1230473e-14 2.2729308e-15 2.1588634e-10 6.4832199e-19 3.8361886e-18\n",
      "  1.7608111e-09 1.9608589e-03 5.9264585e-06 6.2285846e-01 8.8701997e-12\n",
      "  5.4745883e-16 3.7517470e-01 1.7730596e-15]]\n",
      "Answer: 8.0  Prediction: [[8.2925102e-14 3.5053377e-12 1.7144312e-07 3.5674712e-09 2.3940750e-11\n",
      "  2.2663897e-02 2.4301199e-12 4.2119250e-10 9.7733593e-01 2.9144548e-11\n",
      "  3.8433345e-10 2.4734971e-16 2.3333403e-19 1.8389988e-20 3.1183753e-10\n",
      "  4.3424475e-16 5.4442480e-13 1.8221209e-09]]\n",
      "Answer: 3.0  Prediction: [[2.0421210e-11 3.1675215e-16 1.2827767e-11 9.9993861e-01 4.0647255e-17\n",
      "  5.1636697e-14 3.7922863e-08 1.1317475e-09 3.8204617e-12 4.4416041e-16\n",
      "  1.0411670e-11 7.2555109e-23 1.7509854e-18 9.4010154e-15 1.2298061e-13\n",
      "  5.4246804e-05 2.1327325e-11 7.1015579e-06]]\n",
      "Answer: 4.0  Prediction: [[2.9043165e-12 4.1865681e-22 2.2631416e-03 4.6977345e-24 9.9773669e-01\n",
      "  2.4037886e-20 2.2546774e-31 1.7577386e-07 5.3772379e-11 2.5221039e-10\n",
      "  6.3570567e-19 1.4116247e-16 2.7542504e-23 3.9007227e-27 5.8670385e-19\n",
      "  1.5971788e-30 1.7142285e-23 6.6166017e-26]]\n",
      "Answer: 0.0  Prediction: [[9.8211735e-01 9.7220747e-09 2.5995189e-07 9.9743829e-06 3.1652464e-10\n",
      "  1.0806608e-06 9.5262871e-13 2.4592660e-08 5.9714222e-10 1.2246364e-10\n",
      "  7.0457276e-09 2.7884426e-11 1.3872681e-11 2.1940184e-12 3.6108386e-08\n",
      "  6.7113382e-07 1.7868714e-02 2.0348816e-06]]\n",
      "Answer: 4.0  Prediction: [[0.0000000e+00 0.0000000e+00 3.5685719e-26 0.0000000e+00 1.0000000e+00\n",
      "  0.0000000e+00 0.0000000e+00 0.0000000e+00 0.0000000e+00 9.6133144e-38\n",
      "  0.0000000e+00 4.6441255e-29 0.0000000e+00 0.0000000e+00 0.0000000e+00\n",
      "  0.0000000e+00 0.0000000e+00 0.0000000e+00]]\n",
      "Answer: 5.0  Prediction: [[2.7065637e-12 4.6627090e-12 3.3948078e-10 1.2534078e-05 4.1679945e-12\n",
      "  9.9890614e-01 1.7281468e-10 1.4087193e-10 1.0808307e-03 2.3816243e-08\n",
      "  4.9046479e-12 1.3944245e-15 1.4320622e-16 6.2834997e-19 1.9074491e-09\n",
      "  2.6878560e-10 1.5768556e-16 4.1975872e-07]]\n",
      "Answer: 13.0  Prediction: [[1.1974730e-06 1.6961013e-06 2.2441128e-03 1.4282354e-07 8.7795643e-06\n",
      "  2.3037871e-06 8.6660478e-08 7.6485310e-05 9.7150803e-08 8.2219998e-07\n",
      "  2.5934380e-06 9.9027365e-02 2.0653586e-01 6.7847526e-01 5.9716555e-04\n",
      "  2.5164164e-08 1.3025892e-02 5.6697392e-08]]\n",
      "Answer: 5.0  Prediction: [[6.7542180e-16 1.3757594e-19 4.0510930e-15 8.8435424e-15 5.6338688e-18\n",
      "  1.0000000e+00 2.8339557e-19 2.0551402e-16 1.5324858e-08 1.2562403e-10\n",
      "  4.4780320e-15 9.7347720e-21 3.3921349e-28 1.0397324e-30 3.2653449e-14\n",
      "  3.9564951e-15 3.1968837e-18 5.0374864e-11]]\n",
      "Answer: 7.0  Prediction: [[1.0628249e-15 2.1189656e-17 4.6414387e-12 3.7197329e-12 4.1190594e-15\n",
      "  1.1962382e-12 8.9376392e-15 9.9999440e-01 1.7254784e-10 4.0421160e-12\n",
      "  5.6540775e-06 1.1582976e-16 3.2455902e-16 5.3746024e-15 6.6244726e-10\n",
      "  3.5856290e-15 1.3793555e-13 8.7024778e-09]]\n"
     ]
    }
   ],
   "source": [
    "# TEST: Load model and run it against test set\n",
    "model = models.load_model(model_filename)\n",
    "for i in range(0, 10):\n",
    "    print('Answer:', y_test[i], ' Prediction:', model.predict(np.expand_dims(x_test[i], 0)))"
   ]
  },
  {
   "cell_type": "code",
   "execution_count": 29,
   "metadata": {
    "colab": {
     "base_uri": "https://localhost:8080/"
    },
    "executionInfo": {
     "elapsed": 257,
     "status": "ok",
     "timestamp": 1623237375540,
     "user": {
      "displayName": "黃侯弼",
      "photoUrl": "",
      "userId": "02394864078410571973"
     },
     "user_tz": -480
    },
    "id": "F2N7VEDnDuDC",
    "outputId": "76a7172d-b0aa-46a9-c7fb-45f582e96cb6",
    "scrolled": true
   },
   "outputs": [
    {
     "name": "stdout",
     "output_type": "stream",
     "text": [
      "72/72 [==============================] - 1s 5ms/step - loss: 0.4496 - acc: 0.9104\n"
     ]
    },
    {
     "data": {
      "text/plain": [
       "[0.4495775103569031, 0.9103690981864929]"
      ]
     },
     "execution_count": 29,
     "metadata": {},
     "output_type": "execute_result"
    }
   ],
   "source": [
    "# Evaluate model with test set\n",
    "model.evaluate(x=x_test, y=y_test)"
   ]
  },
  {
   "cell_type": "code",
   "execution_count": null,
   "metadata": {},
   "outputs": [],
   "source": []
  }
 ],
 "metadata": {
  "accelerator": "GPU",
  "colab": {
   "collapsed_sections": [],
   "name": "Classifier.ipynb",
   "provenance": []
  },
  "kernelspec": {
   "display_name": "Python 3",
   "language": "python",
   "name": "python3"
  },
  "language_info": {
   "codemirror_mode": {
    "name": "ipython",
    "version": 3
   },
   "file_extension": ".py",
   "mimetype": "text/x-python",
   "name": "python",
   "nbconvert_exporter": "python",
   "pygments_lexer": "ipython3",
   "version": "3.8.8"
  }
 },
 "nbformat": 4,
 "nbformat_minor": 1
}
