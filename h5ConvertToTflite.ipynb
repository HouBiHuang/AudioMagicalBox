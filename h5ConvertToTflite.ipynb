{
 "cells": [
  {
   "cell_type": "code",
   "execution_count": null,
   "id": "3f41f8ee",
   "metadata": {},
   "outputs": [],
   "source": [
    "\"\"\"將tensorflow檔轉成tensorflow lite，使機器負載量變小\"\"\"\n",
    "from tensorflow import lite\n",
    "from tensorflow.keras import models\n",
    "\n",
    "# Parameters\n",
    "keras_model_filename = './h5_normalize/recording9_fbank.h5' #訓練好的模型\n",
    "tflite_filename = './tflite_normalize/recording9_fbank.tflite' #預建置檔案\n",
    "\n",
    "# Convert model to TF Lite model\n",
    "model = models.load_model(keras_model_filename) #載入本來的模型\n",
    "converter = lite.TFLiteConverter.from_keras_model(model) #將模型載入轉換器\n",
    "tflite_model = converter.convert() #進行轉換\n",
    "open(tflite_filename, 'wb').write(tflite_model) #輸出轉換後的模型\n"
   ]
  }
 ],
 "metadata": {
  "kernelspec": {
   "display_name": "Python 3",
   "language": "python",
   "name": "python3"
  },
  "language_info": {
   "codemirror_mode": {
    "name": "ipython",
    "version": 3
   },
   "file_extension": ".py",
   "mimetype": "text/x-python",
   "name": "python",
   "nbconvert_exporter": "python",
   "pygments_lexer": "ipython3",
   "version": "3.8.8"
  }
 },
 "nbformat": 4,
 "nbformat_minor": 5
}
