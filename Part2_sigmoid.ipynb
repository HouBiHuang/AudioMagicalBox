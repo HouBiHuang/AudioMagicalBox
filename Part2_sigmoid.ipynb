{
 "cells": [
  {
   "cell_type": "code",
   "execution_count": 1,
   "metadata": {},
   "outputs": [],
   "source": [
    "from os import listdir\n",
    "from os.path import isdir, join\n",
    "from tensorflow.keras import layers, models\n",
    "import numpy as np"
   ]
  },
  {
   "cell_type": "code",
   "execution_count": 2,
   "metadata": {},
   "outputs": [
    {
     "name": "stdout",
     "output_type": "stream",
     "text": [
      "['backgroundNoise', 'bed', 'bird', 'cat', 'dog', 'down', 'eight', 'five', 'follow', 'four', 'go', 'SuperfluousWords', '他', '你', '好', '我', '的']\n"
     ]
    }
   ],
   "source": [
    "# Create list of all targets (minus background noise)\n",
    "dataset_path = './recording22'\n",
    "all_targets = all_targets = [name for name in listdir(dataset_path) if isdir(join(dataset_path, name))]\n",
    "print(all_targets)"
   ]
  },
  {
   "cell_type": "code",
   "execution_count": 3,
   "metadata": {},
   "outputs": [],
   "source": [
    "# Settings\n",
    "feature_sets_path = './'\n",
    "feature_sets_filename = 'recording22.npz'\n",
    "model_filename = './recording22.h5'\n",
    "wake_word = 'SuperfluousWords'"
   ]
  },
  {
   "cell_type": "code",
   "execution_count": 4,
   "metadata": {},
   "outputs": [
    {
     "name": "stdout",
     "output_type": "stream",
     "text": [
      "['x_train', 'y_train', 'x_val', 'y_val', 'x_test', 'y_test']\n"
     ]
    }
   ],
   "source": [
    "# Load feature sets\n",
    "feature_sets = np.load(join(feature_sets_path, feature_sets_filename))\n",
    "print(feature_sets.files)"
   ]
  },
  {
   "cell_type": "code",
   "execution_count": 5,
   "metadata": {},
   "outputs": [],
   "source": [
    "# Assign feature sets\n",
    "x_train = feature_sets['x_train']\n",
    "y_train = feature_sets['y_train']\n",
    "x_val = feature_sets['x_val']\n",
    "y_val = feature_sets['y_val']\n",
    "x_test = feature_sets['x_test']\n",
    "y_test = feature_sets['y_test']"
   ]
  },
  {
   "cell_type": "code",
   "execution_count": 6,
   "metadata": {},
   "outputs": [
    {
     "name": "stdout",
     "output_type": "stream",
     "text": [
      "(896, 23, 6)\n",
      "(112, 23, 6)\n",
      "(112, 23, 6)\n"
     ]
    }
   ],
   "source": [
    "# Look at tensor dimensions\n",
    "print(x_train.shape)\n",
    "print(x_val.shape)\n",
    "print(x_test.shape)"
   ]
  },
  {
   "cell_type": "code",
   "execution_count": 7,
   "metadata": {},
   "outputs": [
    {
     "name": "stdout",
     "output_type": "stream",
     "text": [
      "[ 6. 11. 14.  1.  5. 10.  3. 11. 11. 11. 11. 14.  0.  2. 15. 11. 11. 11.\n",
      " 11.  5.  1. 13. 10. 11. 10. 11.  2.  3.  9. 11. 13. 11.  6. 11.  3.  3.\n",
      " 11. 11.  2. 11.  3. 15.  8. 11. 11. 11. 11. 11. 16.  9. 15. 15. 14.  8.\n",
      " 11. 11.  7. 11.  8. 14. 11.  6. 11. 10.  6. 16.  5. 11. 11. 11.  8.  5.\n",
      "  7. 11. 11. 11.  4. 11. 11.  5. 10. 16.  9.  3.  9. 11. 11. 11. 12.  2.\n",
      " 11. 11. 11. 11.  4.  0.  4.  9. 11.  4.  4.  2. 11. 13.  5.  7. 11.  4.\n",
      "  9. 11. 12.  1.]\n"
     ]
    }
   ],
   "source": [
    "# Peek at labels\n",
    "print(y_val)"
   ]
  },
  {
   "cell_type": "code",
   "execution_count": 8,
   "metadata": {},
   "outputs": [],
   "source": [
    "# Convert ground truth arrays to one wake word (1) and 'other' (0)\n",
    "wake_word_index = all_targets.index(wake_word)\n",
    "y_train = np.equal(y_train, wake_word_index).astype('float64')\n",
    "y_val = np.equal(y_val, wake_word_index).astype('float64')\n",
    "y_test = np.equal(y_test, wake_word_index).astype('float64')"
   ]
  },
  {
   "cell_type": "code",
   "execution_count": 9,
   "metadata": {},
   "outputs": [
    {
     "name": "stdout",
     "output_type": "stream",
     "text": [
      "[0. 1. 0. 0. 0. 0. 0. 1. 1. 1. 1. 0. 0. 0. 0. 1. 1. 1. 1. 0. 0. 0. 0. 1.\n",
      " 0. 1. 0. 0. 0. 1. 0. 1. 0. 1. 0. 0. 1. 1. 0. 1. 0. 0. 0. 1. 1. 1. 1. 1.\n",
      " 0. 0. 0. 0. 0. 0. 1. 1. 0. 1. 0. 0. 1. 0. 1. 0. 0. 0. 0. 1. 1. 1. 0. 0.\n",
      " 0. 1. 1. 1. 0. 1. 1. 0. 0. 0. 0. 0. 0. 1. 1. 1. 0. 0. 1. 1. 1. 1. 0. 0.\n",
      " 0. 0. 1. 0. 0. 0. 1. 0. 0. 0. 1. 0. 0. 1. 0. 0.]\n",
      "0.4107142857142857\n"
     ]
    }
   ],
   "source": [
    "# Peek at labels after conversion\n",
    "total = 0\n",
    "print(y_val)\n",
    "for i in y_val:\n",
    "    if i == 1:\n",
    "        total = total + 1\n",
    "print(total / len(y_val))"
   ]
  },
  {
   "cell_type": "code",
   "execution_count": 10,
   "metadata": {},
   "outputs": [
    {
     "name": "stdout",
     "output_type": "stream",
     "text": [
      "0.4341517857142857\n",
      "0.4107142857142857\n",
      "0.5892857142857143\n"
     ]
    }
   ],
   "source": [
    "# What percentage of 'stop' appear in validation labels\n",
    "print(sum(y_train) / len(y_train))\n",
    "print(sum(y_val) / len(y_val))\n",
    "print(1 - sum(y_val) / len(y_val))"
   ]
  },
  {
   "cell_type": "code",
   "execution_count": 11,
   "metadata": {},
   "outputs": [
    {
     "name": "stdout",
     "output_type": "stream",
     "text": [
      "(896, 23, 6)\n"
     ]
    }
   ],
   "source": [
    "# View the dimensions of our input data\n",
    "print(x_train.shape)"
   ]
  },
  {
   "cell_type": "code",
   "execution_count": 12,
   "metadata": {},
   "outputs": [
    {
     "name": "stdout",
     "output_type": "stream",
     "text": [
      "(896, 23, 6, 1)\n",
      "(112, 23, 6, 1)\n",
      "(112, 23, 6, 1)\n"
     ]
    }
   ],
   "source": [
    "# CNN for TF expects (batch, height, width, channels)\n",
    "# So we reshape the input tensors with a \"color\" channel of 1\n",
    "x_train = x_train.reshape(x_train.shape[0], \n",
    "                          x_train.shape[1], \n",
    "                          x_train.shape[2], \n",
    "                          1)\n",
    "x_val = x_val.reshape(x_val.shape[0], \n",
    "                      x_val.shape[1], \n",
    "                      x_val.shape[2], \n",
    "                      1)\n",
    "x_test = x_test.reshape(x_test.shape[0], \n",
    "                        x_test.shape[1], \n",
    "                        x_test.shape[2], \n",
    "                        1)\n",
    "print(x_train.shape)\n",
    "print(x_val.shape)\n",
    "print(x_test.shape)"
   ]
  },
  {
   "cell_type": "code",
   "execution_count": 13,
   "metadata": {},
   "outputs": [
    {
     "name": "stdout",
     "output_type": "stream",
     "text": [
      "(23, 6, 1)\n"
     ]
    }
   ],
   "source": [
    "# Input shape for CNN is size of MFCC of 1 sample\n",
    "sample_shape = x_test.shape[1:]\n",
    "print(sample_shape)"
   ]
  },
  {
   "cell_type": "code",
   "execution_count": 17,
   "metadata": {},
   "outputs": [
    {
     "name": "stdout",
     "output_type": "stream",
     "text": [
      "Model: \"sequential_1\"\n",
      "_________________________________________________________________\n",
      "Layer (type)                 Output Shape              Param #   \n",
      "=================================================================\n",
      "conv2d_3 (Conv2D)            (None, 22, 5, 32)         160       \n",
      "_________________________________________________________________\n",
      "max_pooling2d_3 (MaxPooling2 (None, 22, 5, 32)         0         \n",
      "_________________________________________________________________\n",
      "conv2d_4 (Conv2D)            (None, 21, 4, 64)         8256      \n",
      "_________________________________________________________________\n",
      "max_pooling2d_4 (MaxPooling2 (None, 21, 4, 64)         0         \n",
      "_________________________________________________________________\n",
      "conv2d_5 (Conv2D)            (None, 20, 3, 128)        32896     \n",
      "_________________________________________________________________\n",
      "max_pooling2d_5 (MaxPooling2 (None, 20, 3, 128)        0         \n",
      "_________________________________________________________________\n",
      "dropout_2 (Dropout)          (None, 20, 3, 128)        0         \n",
      "_________________________________________________________________\n",
      "flatten_1 (Flatten)          (None, 7680)              0         \n",
      "_________________________________________________________________\n",
      "dense_2 (Dense)              (None, 64)                491584    \n",
      "_________________________________________________________________\n",
      "dropout_3 (Dropout)          (None, 64)                0         \n",
      "_________________________________________________________________\n",
      "dense_3 (Dense)              (None, 1)                 65        \n",
      "=================================================================\n",
      "Total params: 532,961\n",
      "Trainable params: 532,961\n",
      "Non-trainable params: 0\n",
      "_________________________________________________________________\n"
     ]
    }
   ],
   "source": [
    "model = models.Sequential()\n",
    "model.add(layers.Conv2D(32, (2, 2), activation='relu',input_shape=sample_shape))\n",
    "model.add(layers.MaxPooling2D(pool_size=(1, 1)))\n",
    "\n",
    "model.add(layers.Conv2D(64, (2, 2), activation='relu'))\n",
    "model.add(layers.MaxPooling2D(pool_size=(1, 1)))\n",
    "\n",
    "model.add(layers.Conv2D(128, (2, 2), activation='relu'))\n",
    "model.add(layers.MaxPooling2D(pool_size=(1, 1)))\n",
    "model.add(layers.Dropout(0.05))\n",
    "\n",
    "# Classifier\n",
    "model.add(layers.Flatten())\n",
    "model.add(layers.Dense(64, activation='relu'))\n",
    "model.add(layers.Dropout(0.05))\n",
    "model.add(layers.Dense(1, activation='sigmoid'))\n",
    "# Display model\n",
    "model.summary()\n"
   ]
  },
  {
   "cell_type": "code",
   "execution_count": 18,
   "metadata": {},
   "outputs": [],
   "source": [
    "# Add training parameters to model\n",
    "model.compile(loss='binary_crossentropy', \n",
    "              optimizer='rmsprop', \n",
    "              metrics=['acc'])"
   ]
  },
  {
   "cell_type": "code",
   "execution_count": 19,
   "metadata": {},
   "outputs": [
    {
     "name": "stdout",
     "output_type": "stream",
     "text": [
      "Epoch 1/50\n",
      "9/9 [==============================] - 1s 38ms/step - loss: 0.7447 - acc: 0.6027 - val_loss: 0.4701 - val_acc: 0.8214\n",
      "Epoch 2/50\n",
      "9/9 [==============================] - 0s 22ms/step - loss: 0.4798 - acc: 0.7768 - val_loss: 0.5079 - val_acc: 0.7143\n",
      "Epoch 3/50\n",
      "9/9 [==============================] - 0s 22ms/step - loss: 0.3831 - acc: 0.8248 - val_loss: 0.3844 - val_acc: 0.8304\n",
      "Epoch 4/50\n",
      "9/9 [==============================] - 0s 22ms/step - loss: 0.3351 - acc: 0.8527 - val_loss: 0.4298 - val_acc: 0.7768\n",
      "Epoch 5/50\n",
      "9/9 [==============================] - 0s 21ms/step - loss: 0.2883 - acc: 0.8672 - val_loss: 0.2522 - val_acc: 0.8929\n",
      "Epoch 6/50\n",
      "9/9 [==============================] - 0s 21ms/step - loss: 0.2763 - acc: 0.8873 - val_loss: 0.2305 - val_acc: 0.9107\n",
      "Epoch 7/50\n",
      "9/9 [==============================] - 0s 22ms/step - loss: 0.2286 - acc: 0.9018 - val_loss: 0.2853 - val_acc: 0.9107\n",
      "Epoch 8/50\n",
      "9/9 [==============================] - 0s 22ms/step - loss: 0.2107 - acc: 0.9051 - val_loss: 0.2839 - val_acc: 0.9196\n",
      "Epoch 9/50\n",
      "9/9 [==============================] - 0s 21ms/step - loss: 0.1897 - acc: 0.9185 - val_loss: 0.1852 - val_acc: 0.9107\n",
      "Epoch 10/50\n",
      "9/9 [==============================] - 0s 21ms/step - loss: 0.1655 - acc: 0.9308 - val_loss: 0.3084 - val_acc: 0.8304\n",
      "Epoch 11/50\n",
      "9/9 [==============================] - 0s 21ms/step - loss: 0.1423 - acc: 0.9475 - val_loss: 0.1826 - val_acc: 0.9107\n",
      "Epoch 12/50\n",
      "9/9 [==============================] - 0s 21ms/step - loss: 0.1019 - acc: 0.9587 - val_loss: 0.1260 - val_acc: 0.9464\n",
      "Epoch 13/50\n",
      "9/9 [==============================] - 0s 21ms/step - loss: 0.1579 - acc: 0.9297 - val_loss: 0.1540 - val_acc: 0.9286\n",
      "Epoch 14/50\n",
      "9/9 [==============================] - 0s 21ms/step - loss: 0.0787 - acc: 0.9732 - val_loss: 0.1409 - val_acc: 0.9464\n",
      "Epoch 15/50\n",
      "9/9 [==============================] - 0s 22ms/step - loss: 0.0747 - acc: 0.9754 - val_loss: 0.3463 - val_acc: 0.8661\n",
      "Epoch 16/50\n",
      "9/9 [==============================] - 0s 20ms/step - loss: 0.0969 - acc: 0.9632 - val_loss: 0.1465 - val_acc: 0.9286\n",
      "Epoch 17/50\n",
      "9/9 [==============================] - 0s 21ms/step - loss: 0.0541 - acc: 0.9855 - val_loss: 0.3597 - val_acc: 0.8393\n",
      "Epoch 18/50\n",
      "9/9 [==============================] - 0s 22ms/step - loss: 0.0727 - acc: 0.9710 - val_loss: 0.2272 - val_acc: 0.9018\n",
      "Epoch 19/50\n",
      "9/9 [==============================] - 0s 21ms/step - loss: 0.0466 - acc: 0.9888 - val_loss: 0.1585 - val_acc: 0.9286\n",
      "Epoch 20/50\n",
      "9/9 [==============================] - 0s 21ms/step - loss: 0.0718 - acc: 0.9732 - val_loss: 0.1841 - val_acc: 0.9018\n",
      "Epoch 21/50\n",
      "9/9 [==============================] - 0s 20ms/step - loss: 0.0276 - acc: 0.9944 - val_loss: 0.1604 - val_acc: 0.9375\n",
      "Epoch 22/50\n",
      "9/9 [==============================] - 0s 21ms/step - loss: 0.0182 - acc: 0.9967 - val_loss: 0.1860 - val_acc: 0.8839\n",
      "Epoch 23/50\n",
      "9/9 [==============================] - 0s 21ms/step - loss: 0.1528 - acc: 0.9509 - val_loss: 0.1512 - val_acc: 0.9286\n",
      "Epoch 24/50\n",
      "9/9 [==============================] - 0s 21ms/step - loss: 0.0255 - acc: 1.0000 - val_loss: 0.1421 - val_acc: 0.9196\n",
      "Epoch 25/50\n",
      "9/9 [==============================] - 0s 24ms/step - loss: 0.0129 - acc: 0.9989 - val_loss: 0.1449 - val_acc: 0.9107\n",
      "Epoch 26/50\n",
      "9/9 [==============================] - 0s 21ms/step - loss: 0.0081 - acc: 1.0000 - val_loss: 0.2510 - val_acc: 0.9375\n",
      "Epoch 27/50\n",
      "9/9 [==============================] - 0s 21ms/step - loss: 0.0183 - acc: 0.9978 - val_loss: 0.2265 - val_acc: 0.9107\n",
      "Epoch 28/50\n",
      "9/9 [==============================] - 0s 21ms/step - loss: 0.0371 - acc: 0.9855 - val_loss: 0.2275 - val_acc: 0.9107\n",
      "Epoch 29/50\n",
      "9/9 [==============================] - 0s 21ms/step - loss: 0.0098 - acc: 0.9989 - val_loss: 0.1284 - val_acc: 0.9107\n",
      "Epoch 30/50\n",
      "9/9 [==============================] - 0s 22ms/step - loss: 0.0063 - acc: 1.0000 - val_loss: 0.1774 - val_acc: 0.9286\n",
      "Epoch 31/50\n",
      "9/9 [==============================] - 0s 22ms/step - loss: 0.0055 - acc: 0.9989 - val_loss: 0.2108 - val_acc: 0.9375\n",
      "Epoch 32/50\n",
      "9/9 [==============================] - 0s 22ms/step - loss: 0.0798 - acc: 0.9777 - val_loss: 0.1719 - val_acc: 0.8929\n",
      "Epoch 33/50\n",
      "9/9 [==============================] - 0s 22ms/step - loss: 0.0044 - acc: 1.0000 - val_loss: 0.1675 - val_acc: 0.8929\n",
      "Epoch 34/50\n",
      "9/9 [==============================] - 0s 21ms/step - loss: 0.0030 - acc: 1.0000 - val_loss: 0.1675 - val_acc: 0.9107\n",
      "Epoch 35/50\n",
      "9/9 [==============================] - 0s 21ms/step - loss: 0.0028 - acc: 0.9989 - val_loss: 0.1783 - val_acc: 0.9196\n",
      "Epoch 36/50\n",
      "9/9 [==============================] - 0s 22ms/step - loss: 0.0017 - acc: 1.0000 - val_loss: 0.1884 - val_acc: 0.9107\n",
      "Epoch 37/50\n",
      "9/9 [==============================] - 0s 21ms/step - loss: 0.0010 - acc: 1.0000 - val_loss: 0.1731 - val_acc: 0.9286\n",
      "Epoch 38/50\n",
      "9/9 [==============================] - 0s 21ms/step - loss: 0.1092 - acc: 0.9643 - val_loss: 0.4333 - val_acc: 0.8839\n",
      "Epoch 39/50\n",
      "9/9 [==============================] - 0s 22ms/step - loss: 0.0254 - acc: 0.9922 - val_loss: 0.1819 - val_acc: 0.9018\n",
      "Epoch 40/50\n",
      "9/9 [==============================] - 0s 22ms/step - loss: 0.0032 - acc: 1.0000 - val_loss: 0.1875 - val_acc: 0.9018\n",
      "Epoch 41/50\n",
      "9/9 [==============================] - 0s 21ms/step - loss: 0.0020 - acc: 1.0000 - val_loss: 0.1854 - val_acc: 0.9107\n",
      "Epoch 42/50\n",
      "9/9 [==============================] - 0s 22ms/step - loss: 0.0011 - acc: 1.0000 - val_loss: 0.1865 - val_acc: 0.9107\n",
      "Epoch 43/50\n",
      "9/9 [==============================] - 0s 22ms/step - loss: 9.6803e-04 - acc: 1.0000 - val_loss: 0.1656 - val_acc: 0.9107\n",
      "Epoch 44/50\n",
      "9/9 [==============================] - 0s 22ms/step - loss: 6.2804e-04 - acc: 1.0000 - val_loss: 0.1930 - val_acc: 0.9196\n",
      "Epoch 45/50\n",
      "9/9 [==============================] - 0s 21ms/step - loss: 3.8921e-04 - acc: 1.0000 - val_loss: 0.2083 - val_acc: 0.9196\n",
      "Epoch 46/50\n",
      "9/9 [==============================] - 0s 22ms/step - loss: 3.6416e-04 - acc: 1.0000 - val_loss: 0.2213 - val_acc: 0.9196\n",
      "Epoch 47/50\n",
      "9/9 [==============================] - 0s 22ms/step - loss: 0.2363 - acc: 0.9420 - val_loss: 0.2412 - val_acc: 0.9196\n",
      "Epoch 48/50\n",
      "9/9 [==============================] - 0s 21ms/step - loss: 0.0026 - acc: 1.0000 - val_loss: 0.2218 - val_acc: 0.9107\n",
      "Epoch 49/50\n",
      "9/9 [==============================] - 0s 21ms/step - loss: 0.0016 - acc: 1.0000 - val_loss: 0.2028 - val_acc: 0.9196\n",
      "Epoch 50/50\n",
      "9/9 [==============================] - 0s 21ms/step - loss: 0.0011 - acc: 1.0000 - val_loss: 0.1948 - val_acc: 0.9018\n"
     ]
    }
   ],
   "source": [
    "# Train\n",
    "history = model.fit(x_train, \n",
    "                    y_train, \n",
    "                    epochs=50, \n",
    "                    batch_size=100, \n",
    "                    validation_data=(x_val, y_val))"
   ]
  },
  {
   "cell_type": "code",
   "execution_count": 20,
   "metadata": {},
   "outputs": [
    {
     "data": {
      "image/png": "[encoded data removed]",
      "text/plain": [
       "<Figure size 432x288 with 1 Axes>"
      ]
     },
     "metadata": {
      "needs_background": "light"
     },
     "output_type": "display_data"
    },
    {
     "data": {
      "image/png": "[encoded data removed]",
      "text/plain": [
       "<Figure size 432x288 with 1 Axes>"
      ]
     },
     "metadata": {
      "needs_background": "light"
     },
     "output_type": "display_data"
    }
   ],
   "source": [
    "# Plot results\n",
    "import matplotlib.pyplot as plt\n",
    "\n",
    "acc = history.history['acc']\n",
    "val_acc = history.history['val_acc']\n",
    "loss = history.history['loss']\n",
    "val_loss = history.history['val_loss']\n",
    "\n",
    "epochs = range(1, len(acc) + 1)\n",
    "\n",
    "plt.plot(epochs, acc, 'bo', label='Training acc')\n",
    "plt.plot(epochs, val_acc, 'b', label='Validation acc')\n",
    "plt.title('Training and validation accuracy')\n",
    "plt.legend()\n",
    "\n",
    "plt.figure()\n",
    "\n",
    "plt.plot(epochs, loss, 'bo', label='Training loss')\n",
    "plt.plot(epochs, val_loss, 'b', label='Validation loss')\n",
    "plt.title('Training and validation loss')\n",
    "plt.legend()\n",
    "\n",
    "plt.show()"
   ]
  },
  {
   "cell_type": "code",
   "execution_count": 21,
   "metadata": {},
   "outputs": [],
   "source": [
    "# Save the model as a file\n",
    "models.save_model(model, model_filename)"
   ]
  },
  {
   "cell_type": "code",
   "execution_count": 22,
   "metadata": {},
   "outputs": [
    {
     "name": "stdout",
     "output_type": "stream",
     "text": [
      "6\n",
      "7\n",
      "9\n",
      "13\n",
      "14\n",
      "15\n",
      "16\n",
      "19\n",
      "20\n",
      "21\n",
      "23\n",
      "25\n",
      "27\n",
      "30\n",
      "31\n",
      "32\n",
      "33\n",
      "36\n",
      "37\n",
      "42\n",
      "44\n",
      "46\n",
      "47\n",
      "52\n",
      "53\n",
      "54\n",
      "55\n",
      "60\n",
      "61\n",
      "63\n",
      "64\n",
      "70\n",
      "72\n",
      "74\n",
      "75\n",
      "79\n",
      "82\n",
      "84\n",
      "90\n",
      "91\n",
      "99\n",
      "102\n",
      "106\n",
      "110\n",
      "111\n"
     ]
    }
   ],
   "source": [
    "# See which are 'stop'\n",
    "for idx, y in enumerate(y_test):\n",
    "    if y == 1:\n",
    "        print(idx)"
   ]
  },
  {
   "cell_type": "code",
   "execution_count": 23,
   "metadata": {
    "scrolled": true
   },
   "outputs": [
    {
     "name": "stdout",
     "output_type": "stream",
     "text": [
      "Answer: 0.0  Prediction: [[3.1381405e-05]]\n",
      "Answer: 0.0  Prediction: [[2.4070794e-15]]\n",
      "Answer: 0.0  Prediction: [[0.00169036]]\n",
      "Answer: 0.0  Prediction: [[0.16118473]]\n",
      "Answer: 0.0  Prediction: [[0.00056092]]\n",
      "Answer: 0.0  Prediction: [[8.748862e-09]]\n",
      "Answer: 1.0  Prediction: [[0.99998796]]\n",
      "Answer: 1.0  Prediction: [[0.99822694]]\n",
      "Answer: 0.0  Prediction: [[0.9720916]]\n",
      "Answer: 1.0  Prediction: [[0.99978]]\n",
      "Answer: 0.0  Prediction: [[1.5361546e-13]]\n",
      "Answer: 0.0  Prediction: [[0.00329864]]\n",
      "Answer: 0.0  Prediction: [[7.7341996e-12]]\n",
      "Answer: 1.0  Prediction: [[0.99995244]]\n",
      "Answer: 1.0  Prediction: [[0.9798759]]\n",
      "Answer: 1.0  Prediction: [[0.92396986]]\n",
      "Answer: 1.0  Prediction: [[0.94069105]]\n",
      "Answer: 0.0  Prediction: [[1.7319797e-05]]\n",
      "Answer: 0.0  Prediction: [[1.152915e-06]]\n",
      "Answer: 1.0  Prediction: [[0.9999994]]\n",
      "Answer: 1.0  Prediction: [[0.99948657]]\n",
      "Answer: 1.0  Prediction: [[0.97584426]]\n",
      "Answer: 0.0  Prediction: [[1.8348717e-06]]\n",
      "Answer: 1.0  Prediction: [[0.98156977]]\n",
      "Answer: 0.0  Prediction: [[0.00017432]]\n",
      "Answer: 1.0  Prediction: [[0.9431835]]\n",
      "Answer: 0.0  Prediction: [[2.4249857e-16]]\n",
      "Answer: 1.0  Prediction: [[0.9999989]]\n",
      "Answer: 0.0  Prediction: [[9.852931e-12]]\n",
      "Answer: 0.0  Prediction: [[0.00027139]]\n",
      "Answer: 1.0  Prediction: [[0.9999602]]\n",
      "Answer: 1.0  Prediction: [[0.99421036]]\n",
      "Answer: 1.0  Prediction: [[0.99269766]]\n",
      "Answer: 1.0  Prediction: [[1.]]\n",
      "Answer: 0.0  Prediction: [[2.906816e-08]]\n",
      "Answer: 0.0  Prediction: [[1.3701694e-10]]\n",
      "Answer: 1.0  Prediction: [[0.9987826]]\n",
      "Answer: 1.0  Prediction: [[0.9999876]]\n",
      "Answer: 0.0  Prediction: [[0.00056882]]\n",
      "Answer: 0.0  Prediction: [[0.00094708]]\n",
      "Answer: 0.0  Prediction: [[3.5516434e-11]]\n",
      "Answer: 0.0  Prediction: [[2.1725755e-07]]\n",
      "Answer: 1.0  Prediction: [[0.85355127]]\n",
      "Answer: 0.0  Prediction: [[2.370309e-05]]\n",
      "Answer: 1.0  Prediction: [[0.99998724]]\n",
      "Answer: 0.0  Prediction: [[0.00638955]]\n",
      "Answer: 1.0  Prediction: [[0.99999964]]\n",
      "Answer: 1.0  Prediction: [[0.99970645]]\n",
      "Answer: 0.0  Prediction: [[2.1977877e-14]]\n",
      "Answer: 0.0  Prediction: [[1.8749784e-06]]\n"
     ]
    }
   ],
   "source": [
    "# TEST: Load model and run it against test set\n",
    "model = models.load_model(model_filename)\n",
    "for i in range(0, 50):\n",
    "    print('Answer:', y_test[i], ' Prediction:', model.predict(np.expand_dims(x_test[i], 0)))"
   ]
  },
  {
   "cell_type": "code",
   "execution_count": 24,
   "metadata": {},
   "outputs": [
    {
     "name": "stdout",
     "output_type": "stream",
     "text": [
      "4/4 [==============================] - 0s 29ms/step - loss: 0.2109 - acc: 0.9286\n"
     ]
    },
    {
     "data": {
      "text/plain": [
       "[0.2108524739742279, 0.9285714030265808]"
      ]
     },
     "execution_count": 24,
     "metadata": {},
     "output_type": "execute_result"
    }
   ],
   "source": [
    "# Evaluate model with test set\n",
    "model.evaluate(x=x_test, y=y_test)"
   ]
  },
  {
   "cell_type": "code",
   "execution_count": null,
   "metadata": {},
   "outputs": [],
   "source": []
  }
 ],
 "metadata": {
  "kernelspec": {
   "display_name": "Python 3",
   "language": "python",
   "name": "python3"
  },
  "language_info": {
   "codemirror_mode": {
    "name": "ipython",
    "version": 3
   },
   "file_extension": ".py",
   "mimetype": "text/x-python",
   "name": "python",
   "nbconvert_exporter": "python",
   "pygments_lexer": "ipython3",
   "version": "3.8.8"
  }
 },
 "nbformat": 4,
 "nbformat_minor": 2
}
