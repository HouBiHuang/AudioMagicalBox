{
 "cells": [
  {
   "cell_type": "code",
   "execution_count": 1,
   "metadata": {
    "executionInfo": {
     "elapsed": 428,
     "status": "ok",
     "timestamp": 1623236061470,
     "user": {
      "displayName": "黃侯弼",
      "photoUrl": "",
      "userId": "02394864078410571973"
     },
     "user_tz": -480
    },
    "id": "iVhpbtg0DuC5"
   },
   "outputs": [],
   "source": [
    "from os import listdir\n",
    "from os.path import isdir, join\n",
    "from tensorflow.keras import layers, models\n",
    "import numpy as np"
   ]
  },
  {
   "cell_type": "code",
   "execution_count": 23,
   "metadata": {
    "colab": {
     "base_uri": "https://localhost:8080/"
    },
    "executionInfo": {
     "elapsed": 5,
     "status": "ok",
     "timestamp": 1623236062585,
     "user": {
      "displayName": "黃侯弼",
      "photoUrl": "",
      "userId": "02394864078410571973"
     },
     "user_tz": -480
    },
    "id": "MZI1urklDuC6",
    "outputId": "9344224f-90ed-4d09-80e4-efd8c4bb7cac"
   },
   "outputs": [
    {
     "name": "stdout",
     "output_type": "stream",
     "text": [
      "['ㄏㄧㄡ', 'ㄟ', '吼', '啦', '嗯', '的一個', '的這個', '的那個', '空白', '著', '那', '那那個', '阿']\n"
     ]
    }
   ],
   "source": [
    "# Create list of all targets (minus background noise)\n",
    "dataset_path = './recordingTEST'\n",
    "all_targets = all_targets = [name for name in listdir(dataset_path) if isdir(join(dataset_path, name))]\n",
    "print(all_targets)"
   ]
  },
  {
   "cell_type": "code",
   "execution_count": 24,
   "metadata": {
    "executionInfo": {
     "elapsed": 301,
     "status": "ok",
     "timestamp": 1623236063859,
     "user": {
      "displayName": "黃侯弼",
      "photoUrl": "",
      "userId": "02394864078410571973"
     },
     "user_tz": -480
    },
    "id": "WgAcVkOeDuC6"
   },
   "outputs": [],
   "source": [
    "# Settings\n",
    "feature_sets_path = './'\n",
    "feature_sets_filename = './recording1.npz'\n",
    "#model_filename = 'wake_word_stop_model.h5'\n",
    "#wake_word = '嗯'"
   ]
  },
  {
   "cell_type": "code",
   "execution_count": 25,
   "metadata": {
    "colab": {
     "base_uri": "https://localhost:8080/"
    },
    "executionInfo": {
     "elapsed": 458,
     "status": "ok",
     "timestamp": 1623236065288,
     "user": {
      "displayName": "黃侯弼",
      "photoUrl": "",
      "userId": "02394864078410571973"
     },
     "user_tz": -480
    },
    "id": "rJUTXuiVDuC7",
    "outputId": "4a7c5275-1bcb-4f85-dd65-18bb4e2630c9"
   },
   "outputs": [
    {
     "name": "stdout",
     "output_type": "stream",
     "text": [
      "['x_train', 'y_train', 'x_val', 'y_val', 'x_test', 'y_test']\n"
     ]
    }
   ],
   "source": [
    "# Load feature sets\n",
    "feature_sets = np.load(join(feature_sets_path, feature_sets_filename))\n",
    "print(feature_sets.files)"
   ]
  },
  {
   "cell_type": "code",
   "execution_count": 26,
   "metadata": {
    "colab": {
     "base_uri": "https://localhost:8080/"
    },
    "executionInfo": {
     "elapsed": 3,
     "status": "ok",
     "timestamp": 1623236066162,
     "user": {
      "displayName": "黃侯弼",
      "photoUrl": "",
      "userId": "02394864078410571973"
     },
     "user_tz": -480
    },
    "id": "0MTc8hMZDuC7",
    "outputId": "287b9ce7-b503-472c-dc22-1cf446a74c77"
   },
   "outputs": [
    {
     "name": "stdout",
     "output_type": "stream",
     "text": [
      "[ 5. 11. 10.  9.  6. 12.  3. 12.  4.  4.  2.  8. 10. 10. 11.  2.  3. 12.\n",
      "  9. 10.  4.  9.  9.  4.  8.  7. 12.  2.  8.  0.  4.  1.  3.  9.  3.  9.\n",
      "  7.  8.  9.]\n",
      "[10.  7. 11.  8.  1.  7.  2.  0. 12. 10.  1.  3. 10.  9.  8.  7. 11. 12.\n",
      "  6.  6.  2.  3. 11.  3.  7.  8.  4.  4.  2.  8. 11.  0. 10.  1. 12.  0.\n",
      "  8.  3.  0.  0. 12.  9.  3.  2.  6.  2.  3.  4.  4.  5.  8.  2. 10.  2.\n",
      "  5.  5. 10.  0.  0.  8.  4.  5.  6. 11. 10. 11.  6.  4.  7.  9. 11.  1.\n",
      "  0.  6.  8.  3.  5.  1.  6.  7. 10.  6.  2.  9.  6.  1.  4.  1.  5.  1.\n",
      " 12.  8.  8.  3. 10.  0.  8.  1.  9.  5. 12.  9.  5. 11.  7.  7.  9.  0.\n",
      "  5.  1.  0. 12.  4.  4.  0.  5.  2. 10.  0.  3.  7. 11.  3.  5.  1.  1.\n",
      "  2. 10.  8.  6.  2. 11. 12.  7.  7.  7. 10.  0.  9.  2.  6.  5.  9.  4.\n",
      "  2. 11.  0.  9.  1.  8. 10.  0.  3.  7. 11.  7.  6.  4. 12.  1. 11. 11.\n",
      "  2.  3.  4.  4.  8. 11.  0.  5.  5.  3.  4. 12. 10. 10.  3.  6.  7. 11.\n",
      "  2.  2.  2. 12.  7.  7.  3.  8.  8.  7.  0.  3.  1. 10.  2. 12.  0.  5.\n",
      "  1.  2.  0.  8.  4.  8.  4. 12.  2. 11. 10.  7.  0.  7.  0.  2. 10.  1.\n",
      " 10.  6.  5.  9.  5. 10.  6.  4.  5. 12.  6.  5.  8.  9.  1.  8.  9.  6.\n",
      "  2.  1.  4.  9.  1.  6.  7.  6.  4.  0.  9. 11. 12.  9.  3. 12.  1.  9.\n",
      " 10. 11.  4. 12.  6. 11.  2.  3.  6.  4.  5.  8. 12.  7.  8.  8.  3.  3.\n",
      "  0.  9.  5.  1.  9.  1.  2. 10.  1.  1. 12.  5.  4.  9. 11. 11. 10.  1.\n",
      " 11.  6.  5.  2. 11.  0.  2.  7.  7. 12.  9.  6. 11.  1.  3.  3.  5.  7.\n",
      "  3.  4. 11. 12.  8.  8.]\n",
      "[12.  5.  6. 11.  0. 12.  0.  4.  6.  2.  5.  8.  9. 10.  1.  4.  0. 12.\n",
      " 11.  9.  7.  3.  7. 12.  3.  3.  7.  6.  5.  6.  0.  5.  6. 10.  6.  1.\n",
      " 12. 10.  5.]\n"
     ]
    }
   ],
   "source": [
    "# Assign feature sets\n",
    "x_train = feature_sets['x_train']\n",
    "y_train = feature_sets['y_train']\n",
    "x_val = feature_sets['x_val']\n",
    "y_val = feature_sets['y_val']\n",
    "x_test = feature_sets['x_test']\n",
    "y_test = feature_sets['y_test']\n",
    "print(y_test)\n",
    "print(y_train)\n",
    "print(y_val)"
   ]
  },
  {
   "cell_type": "code",
   "execution_count": 27,
   "metadata": {
    "colab": {
     "base_uri": "https://localhost:8080/"
    },
    "executionInfo": {
     "elapsed": 262,
     "status": "ok",
     "timestamp": 1623236068434,
     "user": {
      "displayName": "黃侯弼",
      "photoUrl": "",
      "userId": "02394864078410571973"
     },
     "user_tz": -480
    },
    "id": "r2XzOXwdDuC8",
    "outputId": "6d00862e-4d37-415c-b854-22b4cdd10698"
   },
   "outputs": [
    {
     "name": "stdout",
     "output_type": "stream",
     "text": [
      "(312, 16, 16)\n",
      "(39, 16, 16)\n",
      "(39, 16, 16)\n"
     ]
    }
   ],
   "source": [
    "# Look at tensor dimensions\n",
    "print(x_train.shape)\n",
    "print(x_val.shape)\n",
    "print(x_test.shape)"
   ]
  },
  {
   "cell_type": "code",
   "execution_count": 28,
   "metadata": {
    "colab": {
     "base_uri": "https://localhost:8080/"
    },
    "executionInfo": {
     "elapsed": 439,
     "status": "ok",
     "timestamp": 1623236069774,
     "user": {
      "displayName": "黃侯弼",
      "photoUrl": "",
      "userId": "02394864078410571973"
     },
     "user_tz": -480
    },
    "id": "N-l9zl-GDuC9",
    "outputId": "fd2762fb-1345-41d2-8108-985fcd157a52"
   },
   "outputs": [
    {
     "name": "stdout",
     "output_type": "stream",
     "text": [
      "[12.  5.  6. 11.  0. 12.  0.  4.  6.  2.  5.  8.  9. 10.  1.  4.  0. 12.\n",
      " 11.  9.  7.  3.  7. 12.  3.  3.  7.  6.  5.  6.  0.  5.  6. 10.  6.  1.\n",
      " 12. 10.  5.]\n"
     ]
    }
   ],
   "source": [
    "# Peek at labels\n",
    "print(y_val)"
   ]
  },
  {
   "cell_type": "code",
   "execution_count": 29,
   "metadata": {
    "colab": {
     "base_uri": "https://localhost:8080/"
    },
    "executionInfo": {
     "elapsed": 4,
     "status": "ok",
     "timestamp": 1623236070623,
     "user": {
      "displayName": "黃侯弼",
      "photoUrl": "",
      "userId": "02394864078410571973"
     },
     "user_tz": -480
    },
    "id": "nY3RGYbPDuC-",
    "outputId": "deded680-fc57-4da6-c054-a4648b5007eb"
   },
   "outputs": [
    {
     "name": "stdout",
     "output_type": "stream",
     "text": [
      "[ 5. 11. 10.  9.  6. 12.  3. 12.  4.  4.  2.  8. 10. 10. 11.  2.  3. 12.\n",
      "  9. 10.  4.  9.  9.  4.  8.  7. 12.  2.  8.  0.  4.  1.  3.  9.  3.  9.\n",
      "  7.  8.  9.]\n"
     ]
    }
   ],
   "source": [
    "# Peek at labels after conversion\n",
    "print(y_test)"
   ]
  },
  {
   "cell_type": "code",
   "execution_count": 30,
   "metadata": {
    "colab": {
     "base_uri": "https://localhost:8080/"
    },
    "executionInfo": {
     "elapsed": 5,
     "status": "ok",
     "timestamp": 1623236071679,
     "user": {
      "displayName": "黃侯弼",
      "photoUrl": "",
      "userId": "02394864078410571973"
     },
     "user_tz": -480
    },
    "id": "8I1_x2yvDuC-",
    "outputId": "0d138400-6662-4175-8a1f-f640e3f2bf6d"
   },
   "outputs": [
    {
     "name": "stdout",
     "output_type": "stream",
     "text": [
      "(312, 16, 16)\n"
     ]
    }
   ],
   "source": [
    "# View the dimensions of our input data\n",
    "print(x_train.shape)"
   ]
  },
  {
   "cell_type": "code",
   "execution_count": 31,
   "metadata": {
    "colab": {
     "base_uri": "https://localhost:8080/"
    },
    "executionInfo": {
     "elapsed": 4,
     "status": "ok",
     "timestamp": 1623236072760,
     "user": {
      "displayName": "黃侯弼",
      "photoUrl": "",
      "userId": "02394864078410571973"
     },
     "user_tz": -480
    },
    "id": "i_zQsgz4DuC_",
    "outputId": "94a9c63d-7b06-4e8f-8c10-2aaab2aebe64"
   },
   "outputs": [
    {
     "name": "stdout",
     "output_type": "stream",
     "text": [
      "(312, 16, 16, 1)\n",
      "(39, 16, 16, 1)\n",
      "(39, 16, 16, 1)\n"
     ]
    }
   ],
   "source": [
    "# CNN for TF expects (batch, height, width, channels)\n",
    "# So we reshape the input tensors with a \"color\" channel of 1\n",
    "x_train = x_train.reshape(x_train.shape[0], \n",
    "                          x_train.shape[1], \n",
    "                          x_train.shape[2], \n",
    "                          1)\n",
    "x_val = x_val.reshape(x_val.shape[0], \n",
    "                      x_val.shape[1], \n",
    "                      x_val.shape[2], \n",
    "                      1)\n",
    "x_test = x_test.reshape(x_test.shape[0], \n",
    "                        x_test.shape[1], \n",
    "                        x_test.shape[2], \n",
    "                        1)\n",
    "print(x_train.shape)\n",
    "print(x_val.shape)\n",
    "print(x_test.shape)"
   ]
  },
  {
   "cell_type": "code",
   "execution_count": 32,
   "metadata": {
    "colab": {
     "base_uri": "https://localhost:8080/"
    },
    "executionInfo": {
     "elapsed": 281,
     "status": "ok",
     "timestamp": 1623236074651,
     "user": {
      "displayName": "黃侯弼",
      "photoUrl": "",
      "userId": "02394864078410571973"
     },
     "user_tz": -480
    },
    "id": "Ge2MCNusDuC_",
    "outputId": "7c995061-d01d-4a96-a14f-fbee6804b4d4"
   },
   "outputs": [
    {
     "name": "stdout",
     "output_type": "stream",
     "text": [
      "(16, 16, 1)\n"
     ]
    }
   ],
   "source": [
    "# Input shape for CNN is size of MFCC of 1 sample\n",
    "sample_shape = x_test.shape[1:]\n",
    "print(sample_shape)"
   ]
  },
  {
   "cell_type": "code",
   "execution_count": 33,
   "metadata": {
    "colab": {
     "base_uri": "https://localhost:8080/"
    },
    "executionInfo": {
     "elapsed": 264,
     "status": "ok",
     "timestamp": 1623237350948,
     "user": {
      "displayName": "黃侯弼",
      "photoUrl": "",
      "userId": "02394864078410571973"
     },
     "user_tz": -480
    },
    "id": "2JqUOHp9DuDA",
    "outputId": "cc676686-8778-47c0-d5eb-183d137369d2"
   },
   "outputs": [
    {
     "name": "stdout",
     "output_type": "stream",
     "text": [
      "Model: \"sequential_2\"\n",
      "_________________________________________________________________\n",
      "Layer (type)                 Output Shape              Param #   \n",
      "=================================================================\n",
      "conv2d_4 (Conv2D)            (None, 15, 15, 32)        160       \n",
      "_________________________________________________________________\n",
      "max_pooling2d_4 (MaxPooling2 (None, 7, 7, 32)          0         \n",
      "_________________________________________________________________\n",
      "conv2d_5 (Conv2D)            (None, 6, 6, 64)          8256      \n",
      "_________________________________________________________________\n",
      "max_pooling2d_5 (MaxPooling2 (None, 3, 3, 64)          0         \n",
      "_________________________________________________________________\n",
      "dropout_4 (Dropout)          (None, 3, 3, 64)          0         \n",
      "_________________________________________________________________\n",
      "flatten_2 (Flatten)          (None, 576)               0         \n",
      "_________________________________________________________________\n",
      "dense_4 (Dense)              (None, 64)                36928     \n",
      "_________________________________________________________________\n",
      "dropout_5 (Dropout)          (None, 64)                0         \n",
      "_________________________________________________________________\n",
      "dense_5 (Dense)              (None, 13)                845       \n",
      "=================================================================\n",
      "Total params: 46,189\n",
      "Trainable params: 46,189\n",
      "Non-trainable params: 0\n",
      "_________________________________________________________________\n"
     ]
    }
   ],
   "source": [
    "model = models.Sequential()\n",
    "model.add(layers.Conv2D(32, (2, 2), activation='relu',input_shape=sample_shape))\n",
    "model.add(layers.MaxPooling2D(pool_size=(2, 2)))\n",
    "\n",
    "#model.add(layers.Conv2D(32, (2, 2), activation='relu'))\n",
    "#model.add(layers.MaxPooling2D(pool_size=(2, 2)))\n",
    "\n",
    "model.add(layers.Conv2D(64, (2, 2), activation='relu'))#64\n",
    "model.add(layers.MaxPooling2D(pool_size=(2, 2)))\n",
    "model.add(layers.Dropout(0.5))#0.5\n",
    "\n",
    "# Classifier\n",
    "model.add(layers.Flatten())\n",
    "model.add(layers.Dense(64, activation='relu'))#64\n",
    "model.add(layers.Dropout(0.5))\n",
    "model.add(layers.Dense(13, activation='softmax'))\n",
    "# Display model\n",
    "model.summary()\n"
   ]
  },
  {
   "cell_type": "code",
   "execution_count": 34,
   "metadata": {
    "colab": {
     "base_uri": "https://localhost:8080/"
    },
    "executionInfo": {
     "elapsed": 402,
     "status": "ok",
     "timestamp": 1623237353164,
     "user": {
      "displayName": "黃侯弼",
      "photoUrl": "",
      "userId": "02394864078410571973"
     },
     "user_tz": -480
    },
    "id": "sp5WfpkJDuDA",
    "outputId": "e7c65039-b132-4490-ce02-0897a4ca9bdc"
   },
   "outputs": [],
   "source": [
    "from tensorflow.keras import optimizers\n",
    "# Add training parameters to model\n",
    "model.compile(loss='sparse_categorical_crossentropy', \n",
    "              optimizer='adam',    #'adam'\n",
    "              metrics=['acc'])"
   ]
  },
  {
   "cell_type": "code",
   "execution_count": 35,
   "metadata": {
    "colab": {
     "base_uri": "https://localhost:8080/"
    },
    "executionInfo": {
     "elapsed": 6626,
     "status": "ok",
     "timestamp": 1623237360783,
     "user": {
      "displayName": "黃侯弼",
      "photoUrl": "",
      "userId": "02394864078410571973"
     },
     "user_tz": -480
    },
    "id": "s46KMbZbDuDB",
    "outputId": "ff0b8470-8926-4dd5-bd90-db3c765b1d90"
   },
   "outputs": [
    {
     "name": "stdout",
     "output_type": "stream",
     "text": [
      "Epoch 1/100\n",
      "7/7 [==============================] - 1s 36ms/step - loss: 4.0368 - acc: 0.0577 - val_loss: 2.5208 - val_acc: 0.0769\n",
      "Epoch 2/100\n",
      "7/7 [==============================] - 0s 11ms/step - loss: 2.8803 - acc: 0.0833 - val_loss: 2.5127 - val_acc: 0.1538\n",
      "Epoch 3/100\n",
      "7/7 [==============================] - 0s 11ms/step - loss: 2.5793 - acc: 0.1186 - val_loss: 2.4942 - val_acc: 0.1282\n",
      "Epoch 4/100\n",
      "7/7 [==============================] - 0s 10ms/step - loss: 2.4961 - acc: 0.1058 - val_loss: 2.4621 - val_acc: 0.1795\n",
      "Epoch 5/100\n",
      "7/7 [==============================] - 0s 10ms/step - loss: 2.4657 - acc: 0.1410 - val_loss: 2.4415 - val_acc: 0.1538\n",
      "Epoch 6/100\n",
      "7/7 [==============================] - 0s 10ms/step - loss: 2.3247 - acc: 0.2468 - val_loss: 2.3997 - val_acc: 0.1795\n",
      "Epoch 7/100\n",
      "7/7 [==============================] - 0s 10ms/step - loss: 2.3202 - acc: 0.2019 - val_loss: 2.3602 - val_acc: 0.1026\n",
      "Epoch 8/100\n",
      "7/7 [==============================] - 0s 10ms/step - loss: 2.2580 - acc: 0.2083 - val_loss: 2.3213 - val_acc: 0.1026\n",
      "Epoch 9/100\n",
      "7/7 [==============================] - 0s 10ms/step - loss: 2.1869 - acc: 0.2692 - val_loss: 2.2599 - val_acc: 0.2821\n",
      "Epoch 10/100\n",
      "7/7 [==============================] - 0s 10ms/step - loss: 2.1799 - acc: 0.2500 - val_loss: 2.2018 - val_acc: 0.3590\n",
      "Epoch 11/100\n",
      "7/7 [==============================] - 0s 10ms/step - loss: 2.0428 - acc: 0.3365 - val_loss: 2.1339 - val_acc: 0.4615\n",
      "Epoch 12/100\n",
      "7/7 [==============================] - 0s 10ms/step - loss: 1.9476 - acc: 0.3365 - val_loss: 2.0291 - val_acc: 0.4872\n",
      "Epoch 13/100\n",
      "7/7 [==============================] - 0s 9ms/step - loss: 1.8839 - acc: 0.3654 - val_loss: 1.9220 - val_acc: 0.5128\n",
      "Epoch 14/100\n",
      "7/7 [==============================] - 0s 10ms/step - loss: 1.8315 - acc: 0.3942 - val_loss: 1.8285 - val_acc: 0.4872\n",
      "Epoch 15/100\n",
      "7/7 [==============================] - 0s 9ms/step - loss: 1.7277 - acc: 0.3910 - val_loss: 1.7548 - val_acc: 0.5128\n",
      "Epoch 16/100\n",
      "7/7 [==============================] - 0s 10ms/step - loss: 1.6258 - acc: 0.4519 - val_loss: 1.6796 - val_acc: 0.5385\n",
      "Epoch 17/100\n",
      "7/7 [==============================] - 0s 10ms/step - loss: 1.7386 - acc: 0.4359 - val_loss: 1.5864 - val_acc: 0.5897\n",
      "Epoch 18/100\n",
      "7/7 [==============================] - 0s 10ms/step - loss: 1.5236 - acc: 0.5000 - val_loss: 1.5033 - val_acc: 0.6410\n",
      "Epoch 19/100\n",
      "7/7 [==============================] - 0s 10ms/step - loss: 1.4241 - acc: 0.5385 - val_loss: 1.4130 - val_acc: 0.6923\n",
      "Epoch 20/100\n",
      "7/7 [==============================] - 0s 11ms/step - loss: 1.3492 - acc: 0.5288 - val_loss: 1.3392 - val_acc: 0.6667\n",
      "Epoch 21/100\n",
      "7/7 [==============================] - 0s 10ms/step - loss: 1.3471 - acc: 0.5385 - val_loss: 1.2834 - val_acc: 0.6154\n",
      "Epoch 22/100\n",
      "7/7 [==============================] - 0s 10ms/step - loss: 1.2814 - acc: 0.5705 - val_loss: 1.2192 - val_acc: 0.6410\n",
      "Epoch 23/100\n",
      "7/7 [==============================] - 0s 10ms/step - loss: 1.2908 - acc: 0.5385 - val_loss: 1.1895 - val_acc: 0.6923\n",
      "Epoch 24/100\n",
      "7/7 [==============================] - 0s 10ms/step - loss: 1.1834 - acc: 0.5897 - val_loss: 1.1390 - val_acc: 0.7179\n",
      "Epoch 25/100\n",
      "7/7 [==============================] - 0s 10ms/step - loss: 1.0657 - acc: 0.6667 - val_loss: 1.0833 - val_acc: 0.7692\n",
      "Epoch 26/100\n",
      "7/7 [==============================] - 0s 10ms/step - loss: 1.0875 - acc: 0.6218 - val_loss: 1.0329 - val_acc: 0.7179\n",
      "Epoch 27/100\n",
      "7/7 [==============================] - 0s 10ms/step - loss: 1.0183 - acc: 0.6442 - val_loss: 0.9979 - val_acc: 0.6923\n",
      "Epoch 28/100\n",
      "7/7 [==============================] - 0s 10ms/step - loss: 0.9653 - acc: 0.7051 - val_loss: 1.0041 - val_acc: 0.7179\n",
      "Epoch 29/100\n",
      "7/7 [==============================] - 0s 10ms/step - loss: 0.9377 - acc: 0.6923 - val_loss: 0.9643 - val_acc: 0.7179\n",
      "Epoch 30/100\n",
      "7/7 [==============================] - 0s 10ms/step - loss: 0.9034 - acc: 0.6987 - val_loss: 0.9419 - val_acc: 0.6923\n",
      "Epoch 31/100\n",
      "7/7 [==============================] - 0s 9ms/step - loss: 0.9418 - acc: 0.6891 - val_loss: 0.9078 - val_acc: 0.7436\n",
      "Epoch 32/100\n",
      "7/7 [==============================] - 0s 10ms/step - loss: 0.9113 - acc: 0.6987 - val_loss: 0.8556 - val_acc: 0.7692\n",
      "Epoch 33/100\n",
      "7/7 [==============================] - 0s 9ms/step - loss: 0.8612 - acc: 0.7083 - val_loss: 0.8265 - val_acc: 0.7949\n",
      "Epoch 34/100\n",
      "7/7 [==============================] - 0s 10ms/step - loss: 0.8276 - acc: 0.7179 - val_loss: 0.7762 - val_acc: 0.7949\n",
      "Epoch 35/100\n",
      "7/7 [==============================] - 0s 10ms/step - loss: 0.8324 - acc: 0.6859 - val_loss: 0.7836 - val_acc: 0.7692\n",
      "Epoch 36/100\n",
      "7/7 [==============================] - 0s 10ms/step - loss: 0.9094 - acc: 0.6827 - val_loss: 0.7749 - val_acc: 0.8205\n",
      "Epoch 37/100\n",
      "7/7 [==============================] - 0s 10ms/step - loss: 0.7211 - acc: 0.7404 - val_loss: 0.7326 - val_acc: 0.8462\n",
      "Epoch 38/100\n",
      "7/7 [==============================] - 0s 10ms/step - loss: 0.7218 - acc: 0.7692 - val_loss: 0.6949 - val_acc: 0.8462\n",
      "Epoch 39/100\n",
      "7/7 [==============================] - 0s 11ms/step - loss: 0.7449 - acc: 0.7692 - val_loss: 0.7016 - val_acc: 0.7949\n",
      "Epoch 40/100\n",
      "7/7 [==============================] - 0s 10ms/step - loss: 0.6166 - acc: 0.7885 - val_loss: 0.7185 - val_acc: 0.7692\n",
      "Epoch 41/100\n",
      "7/7 [==============================] - 0s 10ms/step - loss: 0.6603 - acc: 0.7596 - val_loss: 0.6725 - val_acc: 0.7949\n",
      "Epoch 42/100\n",
      "7/7 [==============================] - 0s 10ms/step - loss: 0.6673 - acc: 0.7660 - val_loss: 0.6538 - val_acc: 0.7949\n",
      "Epoch 43/100\n",
      "7/7 [==============================] - 0s 10ms/step - loss: 0.5826 - acc: 0.7981 - val_loss: 0.6773 - val_acc: 0.7949\n",
      "Epoch 44/100\n",
      "7/7 [==============================] - 0s 10ms/step - loss: 0.6004 - acc: 0.8173 - val_loss: 0.6210 - val_acc: 0.7949\n",
      "Epoch 45/100\n",
      "7/7 [==============================] - 0s 9ms/step - loss: 0.5944 - acc: 0.7949 - val_loss: 0.5789 - val_acc: 0.7949\n",
      "Epoch 46/100\n",
      "7/7 [==============================] - 0s 10ms/step - loss: 0.6333 - acc: 0.7853 - val_loss: 0.5810 - val_acc: 0.7949\n",
      "Epoch 47/100\n",
      "7/7 [==============================] - 0s 10ms/step - loss: 0.5930 - acc: 0.8077 - val_loss: 0.5823 - val_acc: 0.8462\n",
      "Epoch 48/100\n",
      "7/7 [==============================] - 0s 10ms/step - loss: 0.5867 - acc: 0.7756 - val_loss: 0.5663 - val_acc: 0.8462\n",
      "Epoch 49/100\n",
      "7/7 [==============================] - 0s 10ms/step - loss: 0.5878 - acc: 0.7853 - val_loss: 0.5395 - val_acc: 0.8462\n",
      "Epoch 50/100\n",
      "7/7 [==============================] - 0s 10ms/step - loss: 0.5612 - acc: 0.8077 - val_loss: 0.5169 - val_acc: 0.8462\n",
      "Epoch 51/100\n",
      "7/7 [==============================] - 0s 10ms/step - loss: 0.5224 - acc: 0.8397 - val_loss: 0.5193 - val_acc: 0.8718\n",
      "Epoch 52/100\n",
      "7/7 [==============================] - 0s 10ms/step - loss: 0.5070 - acc: 0.8397 - val_loss: 0.5380 - val_acc: 0.8718\n",
      "Epoch 53/100\n",
      "7/7 [==============================] - 0s 10ms/step - loss: 0.5835 - acc: 0.8077 - val_loss: 0.5073 - val_acc: 0.8462\n",
      "Epoch 54/100\n",
      "7/7 [==============================] - 0s 10ms/step - loss: 0.4818 - acc: 0.8397 - val_loss: 0.4937 - val_acc: 0.8718\n",
      "Epoch 55/100\n",
      "7/7 [==============================] - 0s 10ms/step - loss: 0.4767 - acc: 0.8397 - val_loss: 0.5037 - val_acc: 0.8462\n",
      "Epoch 56/100\n",
      "7/7 [==============================] - 0s 10ms/step - loss: 0.5209 - acc: 0.8301 - val_loss: 0.5085 - val_acc: 0.8205\n",
      "Epoch 57/100\n",
      "7/7 [==============================] - 0s 10ms/step - loss: 0.5279 - acc: 0.8045 - val_loss: 0.4758 - val_acc: 0.8974\n",
      "Epoch 58/100\n",
      "7/7 [==============================] - 0s 10ms/step - loss: 0.4840 - acc: 0.8333 - val_loss: 0.4727 - val_acc: 0.8974\n",
      "Epoch 59/100\n",
      "7/7 [==============================] - 0s 10ms/step - loss: 0.4795 - acc: 0.8397 - val_loss: 0.4689 - val_acc: 0.8974\n",
      "Epoch 60/100\n",
      "7/7 [==============================] - 0s 10ms/step - loss: 0.4244 - acc: 0.8462 - val_loss: 0.4635 - val_acc: 0.8718\n",
      "Epoch 61/100\n",
      "7/7 [==============================] - 0s 10ms/step - loss: 0.4532 - acc: 0.8654 - val_loss: 0.4693 - val_acc: 0.8718\n",
      "Epoch 62/100\n",
      "7/7 [==============================] - 0s 10ms/step - loss: 0.4668 - acc: 0.8558 - val_loss: 0.4701 - val_acc: 0.8718\n",
      "Epoch 63/100\n",
      "7/7 [==============================] - 0s 9ms/step - loss: 0.4495 - acc: 0.8365 - val_loss: 0.4909 - val_acc: 0.8718\n",
      "Epoch 64/100\n",
      "7/7 [==============================] - 0s 9ms/step - loss: 0.4120 - acc: 0.8558 - val_loss: 0.4913 - val_acc: 0.8462\n",
      "Epoch 65/100\n",
      "7/7 [==============================] - 0s 10ms/step - loss: 0.3591 - acc: 0.8750 - val_loss: 0.4561 - val_acc: 0.8462\n",
      "Epoch 66/100\n",
      "7/7 [==============================] - 0s 10ms/step - loss: 0.4095 - acc: 0.8429 - val_loss: 0.4619 - val_acc: 0.8462\n",
      "Epoch 67/100\n",
      "7/7 [==============================] - 0s 10ms/step - loss: 0.3636 - acc: 0.8590 - val_loss: 0.4666 - val_acc: 0.8462\n",
      "Epoch 68/100\n",
      "7/7 [==============================] - 0s 10ms/step - loss: 0.3850 - acc: 0.8622 - val_loss: 0.4861 - val_acc: 0.8974\n",
      "Epoch 69/100\n",
      "7/7 [==============================] - 0s 9ms/step - loss: 0.3433 - acc: 0.8846 - val_loss: 0.4674 - val_acc: 0.8718\n",
      "Epoch 70/100\n",
      "7/7 [==============================] - 0s 9ms/step - loss: 0.3821 - acc: 0.8686 - val_loss: 0.4435 - val_acc: 0.8718\n",
      "Epoch 71/100\n",
      "7/7 [==============================] - 0s 9ms/step - loss: 0.3214 - acc: 0.9135 - val_loss: 0.4664 - val_acc: 0.8462\n",
      "Epoch 72/100\n",
      "7/7 [==============================] - 0s 10ms/step - loss: 0.3829 - acc: 0.8846 - val_loss: 0.4550 - val_acc: 0.8462\n",
      "Epoch 73/100\n",
      "7/7 [==============================] - 0s 9ms/step - loss: 0.3757 - acc: 0.8654 - val_loss: 0.4235 - val_acc: 0.8718\n",
      "Epoch 74/100\n",
      "7/7 [==============================] - 0s 9ms/step - loss: 0.3652 - acc: 0.8910 - val_loss: 0.4348 - val_acc: 0.8974\n",
      "Epoch 75/100\n",
      "7/7 [==============================] - 0s 10ms/step - loss: 0.2995 - acc: 0.9071 - val_loss: 0.4342 - val_acc: 0.8974\n",
      "Epoch 76/100\n",
      "7/7 [==============================] - 0s 10ms/step - loss: 0.3377 - acc: 0.8974 - val_loss: 0.4167 - val_acc: 0.8974\n",
      "Epoch 77/100\n",
      "7/7 [==============================] - 0s 9ms/step - loss: 0.3260 - acc: 0.8622 - val_loss: 0.4021 - val_acc: 0.9231\n",
      "Epoch 78/100\n",
      "7/7 [==============================] - 0s 10ms/step - loss: 0.3589 - acc: 0.8878 - val_loss: 0.4083 - val_acc: 0.8974\n",
      "Epoch 79/100\n",
      "7/7 [==============================] - 0s 9ms/step - loss: 0.2986 - acc: 0.9038 - val_loss: 0.4267 - val_acc: 0.8718\n",
      "Epoch 80/100\n",
      "7/7 [==============================] - 0s 9ms/step - loss: 0.3344 - acc: 0.8910 - val_loss: 0.3987 - val_acc: 0.8974\n",
      "Epoch 81/100\n",
      "7/7 [==============================] - 0s 10ms/step - loss: 0.3055 - acc: 0.9071 - val_loss: 0.3658 - val_acc: 0.8718\n",
      "Epoch 82/100\n",
      "7/7 [==============================] - 0s 10ms/step - loss: 0.3520 - acc: 0.8878 - val_loss: 0.3804 - val_acc: 0.8718\n",
      "Epoch 83/100\n",
      "7/7 [==============================] - 0s 10ms/step - loss: 0.3240 - acc: 0.9006 - val_loss: 0.4303 - val_acc: 0.8974\n",
      "Epoch 84/100\n",
      "7/7 [==============================] - 0s 10ms/step - loss: 0.3084 - acc: 0.8942 - val_loss: 0.4041 - val_acc: 0.9231\n",
      "Epoch 85/100\n",
      "7/7 [==============================] - 0s 10ms/step - loss: 0.3184 - acc: 0.8846 - val_loss: 0.3439 - val_acc: 0.8718\n",
      "Epoch 86/100\n",
      "7/7 [==============================] - 0s 10ms/step - loss: 0.2887 - acc: 0.9038 - val_loss: 0.3337 - val_acc: 0.8718\n",
      "Epoch 87/100\n",
      "7/7 [==============================] - 0s 10ms/step - loss: 0.3134 - acc: 0.9103 - val_loss: 0.3533 - val_acc: 0.8718\n",
      "Epoch 88/100\n",
      "7/7 [==============================] - 0s 9ms/step - loss: 0.3400 - acc: 0.8846 - val_loss: 0.4073 - val_acc: 0.8974\n",
      "Epoch 89/100\n",
      "7/7 [==============================] - 0s 10ms/step - loss: 0.3078 - acc: 0.9199 - val_loss: 0.4704 - val_acc: 0.8718\n",
      "Epoch 90/100\n",
      "7/7 [==============================] - 0s 10ms/step - loss: 0.2957 - acc: 0.8974 - val_loss: 0.4654 - val_acc: 0.8718\n",
      "Epoch 91/100\n",
      "7/7 [==============================] - 0s 10ms/step - loss: 0.2626 - acc: 0.9231 - val_loss: 0.4400 - val_acc: 0.8974\n",
      "Epoch 92/100\n",
      "7/7 [==============================] - 0s 10ms/step - loss: 0.2888 - acc: 0.9006 - val_loss: 0.4522 - val_acc: 0.8974\n",
      "Epoch 93/100\n",
      "7/7 [==============================] - 0s 10ms/step - loss: 0.2515 - acc: 0.8942 - val_loss: 0.4271 - val_acc: 0.8718\n",
      "Epoch 94/100\n",
      "7/7 [==============================] - 0s 10ms/step - loss: 0.3459 - acc: 0.8846 - val_loss: 0.4442 - val_acc: 0.8462\n",
      "Epoch 95/100\n",
      "7/7 [==============================] - 0s 10ms/step - loss: 0.2535 - acc: 0.9263 - val_loss: 0.4415 - val_acc: 0.8974\n",
      "Epoch 96/100\n",
      "7/7 [==============================] - 0s 9ms/step - loss: 0.2218 - acc: 0.9519 - val_loss: 0.3874 - val_acc: 0.8974\n",
      "Epoch 97/100\n",
      "7/7 [==============================] - 0s 9ms/step - loss: 0.2512 - acc: 0.9006 - val_loss: 0.3910 - val_acc: 0.8974\n",
      "Epoch 98/100\n",
      "7/7 [==============================] - 0s 10ms/step - loss: 0.2386 - acc: 0.9167 - val_loss: 0.3934 - val_acc: 0.8974\n",
      "Epoch 99/100\n",
      "7/7 [==============================] - 0s 9ms/step - loss: 0.2811 - acc: 0.8878 - val_loss: 0.3989 - val_acc: 0.8974\n",
      "Epoch 100/100\n",
      "7/7 [==============================] - 0s 9ms/step - loss: 0.2486 - acc: 0.9103 - val_loss: 0.3821 - val_acc: 0.8974\n"
     ]
    }
   ],
   "source": [
    "# Train\n",
    "history = model.fit(x_train, \n",
    "                    y_train, \n",
    "                    epochs=100,#100\n",
    "                    batch_size=50,#50\n",
    "                    validation_data=(x_val, y_val))"
   ]
  },
  {
   "cell_type": "code",
   "execution_count": 36,
   "metadata": {
    "colab": {
     "base_uri": "https://localhost:8080/",
     "height": 545
    },
    "executionInfo": {
     "elapsed": 1003,
     "status": "ok",
     "timestamp": 1623237367971,
     "user": {
      "displayName": "黃侯弼",
      "photoUrl": "",
      "userId": "02394864078410571973"
     },
     "user_tz": -480
    },
    "id": "UHFvFGu9DuDB",
    "outputId": "d91020e9-a37e-47d8-c204-00bf612c2908"
   },
   "outputs": [
    {
     "data": {
      "image/png": "[encoded data removed]",
      "text/plain": [
       "<Figure size 432x288 with 1 Axes>"
      ]
     },
     "metadata": {
      "needs_background": "light"
     },
     "output_type": "display_data"
    },
    {
     "data": {
      "image/png": "[encoded data removed]",
      "text/plain": [
       "<Figure size 432x288 with 1 Axes>"
      ]
     },
     "metadata": {
      "needs_background": "light"
     },
     "output_type": "display_data"
    }
   ],
   "source": [
    "# Plot results\n",
    "import matplotlib.pyplot as plt\n",
    "\n",
    "acc = history.history['acc']\n",
    "val_acc = history.history['val_acc']\n",
    "loss = history.history['loss']\n",
    "val_loss = history.history['val_loss']\n",
    "\n",
    "epochs = range(1, len(acc) + 1)\n",
    "\n",
    "plt.plot(epochs, acc, 'bo', label='Training acc')\n",
    "plt.plot(epochs, val_acc, 'b', label='Validation acc')\n",
    "plt.title('Training and validation accuracy')\n",
    "plt.legend()\n",
    "\n",
    "plt.figure()\n",
    "\n",
    "plt.plot(epochs, loss, 'bo', label='Training loss')\n",
    "plt.plot(epochs, val_loss, 'b', label='Validation loss')\n",
    "plt.title('Training and validation loss')\n",
    "plt.legend()\n",
    "\n",
    "plt.show()"
   ]
  },
  {
   "cell_type": "code",
   "execution_count": 37,
   "metadata": {
    "executionInfo": {
     "elapsed": 263,
     "status": "ok",
     "timestamp": 1623237370995,
     "user": {
      "displayName": "黃侯弼",
      "photoUrl": "",
      "userId": "02394864078410571973"
     },
     "user_tz": -480
    },
    "id": "mKcsAPK-DuDB"
   },
   "outputs": [],
   "source": [
    "# Save the model as a file\n",
    "models.save_model(model, './h5/recording1.h5')"
   ]
  },
  {
   "cell_type": "code",
   "execution_count": 40,
   "metadata": {
    "colab": {
     "base_uri": "https://localhost:8080/"
    },
    "executionInfo": {
     "elapsed": 774,
     "status": "ok",
     "timestamp": 1623237372852,
     "user": {
      "displayName": "黃侯弼",
      "photoUrl": "",
      "userId": "02394864078410571973"
     },
     "user_tz": -480
    },
    "id": "rOAEZ7PKDuDC",
    "outputId": "ec42e9de-9b6c-4269-b804-bd8df580acf4"
   },
   "outputs": [
    {
     "name": "stdout",
     "output_type": "stream",
     "text": [
      "Answer: 5.0  Prediction: [[1.3793856e-04 5.5768378e-05 5.3959235e-07 5.6074950e-06 3.2739608e-05\n",
      "  9.9964750e-01 8.6467888e-05 1.0231596e-05 3.9794768e-06 1.4705507e-05\n",
      "  1.0503314e-06 3.4446434e-06 5.3187385e-08]]\n",
      "Answer: 11.0  Prediction: [[1.14592876e-04 4.39647381e-04 2.07435209e-04 5.85601758e-03\n",
      "  5.60844736e-03 2.93075602e-04 1.04335712e-04 1.11990031e-02\n",
      "  3.75212621e-05 7.40510950e-05 3.62580717e-02 9.32306409e-01\n",
      "  7.50131160e-03]]\n",
      "Answer: 10.0  Prediction: [[7.8005207e-05 1.0090913e-05 2.9714104e-07 2.9310468e-04 1.6360721e-08\n",
      "  3.8631066e-07 1.8580094e-07 1.1168254e-06 2.8320924e-08 6.8360954e-08\n",
      "  9.9953330e-01 7.2877468e-05 1.0496812e-05]]\n",
      "Answer: 9.0  Prediction: [[1.2955924e-04 1.5075808e-07 2.2111135e-05 1.3523595e-06 9.7643278e-06\n",
      "  3.2895248e-06 6.7733829e-08 2.1390132e-07 8.4744643e-05 9.9973947e-01\n",
      "  1.7109501e-08 2.0798316e-08 9.3466624e-06]]\n",
      "Answer: 6.0  Prediction: [[1.51347835e-04 6.80806188e-05 4.59394767e-04 1.03221675e-04\n",
      "  2.68893670e-02 1.77872670e-03 7.91561007e-01 8.52105916e-02\n",
      "  1.18133707e-04 8.68536159e-02 1.15764087e-04 5.81523636e-03\n",
      "  8.75434256e-04]]\n",
      "Answer: 12.0  Prediction: [[3.5778048e-05 1.7642317e-07 3.6040992e-03 3.4032189e-04 2.4743140e-04\n",
      "  2.3602467e-09 4.3855974e-10 9.0461549e-07 2.8959832e-07 1.5111992e-05\n",
      "  3.7354755e-04 3.7445901e-07 9.9538189e-01]]\n",
      "Answer: 3.0  Prediction: [[2.1240673e-04 4.6716582e-06 9.0102514e-04 9.7153646e-01 3.6358313e-06\n",
      "  4.7505146e-06 1.4275375e-06 2.2455533e-06 1.4524212e-05 6.6683300e-05\n",
      "  9.8151788e-03 6.1197003e-04 1.6825069e-02]]\n",
      "Answer: 12.0  Prediction: [[1.0578014e-05 2.7312723e-07 4.6214680e-03 3.4199418e-03 8.0695660e-05\n",
      "  3.4715821e-08 5.0559295e-09 1.8592907e-06 4.9897926e-07 9.1975189e-06\n",
      "  1.3325366e-04 1.9972014e-05 9.9170226e-01]]\n",
      "Answer: 4.0  Prediction: [[1.1019407e-05 5.5518976e-06 9.4699708e-06 2.3252611e-05 9.8283321e-01\n",
      "  1.6528252e-04 5.7043246e-05 9.5270712e-05 1.4011160e-05 1.6647642e-02\n",
      "  4.4654570e-07 8.9742944e-06 1.2874855e-04]]\n",
      "Answer: 4.0  Prediction: [[7.6004806e-05 2.0803961e-03 6.6263623e-05 1.1452527e-03 6.5516126e-01\n",
      "  9.0588134e-04 8.5374102e-02 2.3808272e-01 2.1456754e-05 3.6248250e-04\n",
      "  8.1287057e-05 1.2611156e-02 4.0317648e-03]]\n",
      "Answer: 2.0  Prediction: [[1.03229695e-05 7.61650465e-11 9.99832273e-01 5.04460729e-07\n",
      "  1.69985948e-09 3.29779541e-12 1.02318056e-13 8.66080298e-12\n",
      "  2.85052266e-08 3.27939432e-07 7.42356221e-09 3.66285100e-13\n",
      "  1.56533992e-04]]\n",
      "Answer: 8.0  Prediction: [[9.7793468e-08 2.4460831e-09 2.5241733e-09 4.2765933e-08 2.4500859e-12\n",
      "  7.8706362e-14 2.3799135e-13 1.4951372e-14 9.9999952e-01 8.9218595e-08\n",
      "  4.4759749e-10 2.4800106e-13 2.1152478e-07]]\n",
      "Answer: 10.0  Prediction: [[7.7578065e-05 1.7134505e-06 6.1714200e-06 2.9933281e-04 1.1639496e-06\n",
      "  1.0358789e-08 1.5604766e-07 1.3920871e-05 1.7286176e-08 2.7470678e-06\n",
      "  9.9788600e-01 1.5955648e-04 1.5517020e-03]]\n",
      "Answer: 10.0  Prediction: [[1.43591838e-04 2.38984343e-04 9.65077721e-04 3.12043657e-03\n",
      "  2.56459025e-04 1.04386054e-05 2.63857692e-05 2.08448316e-03\n",
      "  3.73541043e-05 5.77036444e-05 8.82300615e-01 9.97481868e-02\n",
      "  1.10102985e-02]]\n",
      "Answer: 11.0  Prediction: [[2.9075779e-06 6.4762775e-05 2.2124771e-06 4.3216092e-05 2.7305650e-04\n",
      "  3.6768815e-05 1.7233526e-03 1.4409735e-02 5.1318568e-07 2.1310214e-05\n",
      "  6.2025839e-04 9.8229975e-01 5.0228764e-04]]\n",
      "Answer: 2.0  Prediction: [[6.2200506e-08 1.0327244e-11 9.9992418e-01 4.7825601e-08 5.6931088e-11\n",
      "  5.4945794e-16 4.1295152e-15 1.2432889e-12 6.3974261e-09 9.2554353e-07\n",
      "  1.0220840e-07 3.1162329e-13 7.4661439e-05]]\n",
      "Answer: 3.0  Prediction: [[2.2433829e-04 4.8068923e-06 9.2449930e-04 9.9175888e-01 8.6984155e-06\n",
      "  4.4765417e-07 1.1953888e-07 6.1297137e-06 2.3257296e-06 3.4660461e-05\n",
      "  1.1659631e-03 6.2171119e-04 5.2474323e-03]]\n",
      "Answer: 12.0  Prediction: [[3.2342777e-07 2.1883342e-07 3.7940485e-05 5.4317078e-04 4.2375730e-04\n",
      "  1.8500168e-07 1.0172996e-06 4.6283229e-05 1.7244965e-08 9.4592173e-07\n",
      "  1.7940977e-06 6.3269159e-05 9.9888116e-01]]\n",
      "Answer: 9.0  Prediction: [[1.0764805e-03 9.5812748e-06 1.5887523e-04 2.0184375e-03 6.2017455e-03\n",
      "  9.6867129e-04 2.3074143e-04 1.5125134e-04 2.6411729e-04 9.8869789e-01\n",
      "  1.7612007e-05 4.4417084e-05 1.6017766e-04]]\n",
      "Answer: 10.0  Prediction: [[2.3149280e-03 4.3426578e-05 1.6587047e-04 3.6326665e-01 1.7798400e-05\n",
      "  1.5604477e-05 7.8822059e-06 2.6171636e-05 8.8649495e-06 5.1753763e-05\n",
      "  6.2581348e-01 2.0979124e-03 6.1696665e-03]]\n",
      "Answer: 4.0  Prediction: [[1.1183876e-03 5.8757290e-05 9.1409885e-05 6.4941079e-05 9.3068808e-01\n",
      "  3.9836171e-04 6.7535165e-04 3.1780056e-03 2.4689205e-05 6.3320801e-02\n",
      "  2.7743133e-06 1.7888065e-05 3.6052943e-04]]\n",
      "Answer: 9.0  Prediction: [[1.0407857e-03 2.3623505e-05 5.5528007e-04 2.7931568e-03 2.7929386e-01\n",
      "  4.3599438e-03 8.4852464e-03 1.0399985e-02 2.3158854e-03 6.8062341e-01\n",
      "  8.0614329e-05 2.4045806e-03 7.6235910e-03]]\n",
      "Answer: 9.0  Prediction: [[1.46970953e-04 1.56303008e-06 2.89126445e-04 9.35394746e-06\n",
      "  3.14942497e-07 5.59138869e-07 9.10962683e-07 1.02847515e-07\n",
      "  4.42009423e-06 9.99533653e-01 1.15435032e-05 8.18410939e-08\n",
      "  1.40341149e-06]]\n",
      "Answer: 4.0  Prediction: [[1.05374165e-05 3.15535772e-06 7.01603904e-06 2.39077217e-05\n",
      "  9.98615980e-01 1.05777247e-06 1.01743963e-05 2.00050956e-04\n",
      "  2.31574447e-07 5.63366339e-04 8.58569877e-07 6.72414671e-06\n",
      "  5.56874613e-04]]\n",
      "Answer: 8.0  Prediction: [[9.7793468e-08 2.4460831e-09 2.5241733e-09 4.2765933e-08 2.4500859e-12\n",
      "  7.8706362e-14 2.3799135e-13 1.4951372e-14 9.9999952e-01 8.9218595e-08\n",
      "  4.4759749e-10 2.4800106e-13 2.1152478e-07]]\n",
      "Answer: 7.0  Prediction: [[2.0449420e-06 1.6694406e-06 1.7445487e-06 6.4338028e-06 5.4213491e-05\n",
      "  1.4365136e-04 1.2666973e-01 7.9067171e-01 2.6049497e-07 9.3478848e-05\n",
      "  8.3814484e-06 8.2311660e-02 3.4969860e-05]]\n",
      "Answer: 12.0  Prediction: [[1.3135900e-04 7.8442673e-07 3.0006059e-02 1.9101755e-01 2.8079271e-04\n",
      "  4.4400196e-07 9.8600594e-09 1.1831858e-06 2.5178929e-04 9.6193200e-04\n",
      "  1.5183470e-04 9.6850112e-05 7.7709943e-01]]\n",
      "Answer: 2.0  Prediction: [[1.4876564e-04 5.7080445e-07 9.6273637e-01 2.2903592e-03 5.8598034e-05\n",
      "  1.3656592e-08 5.0783164e-09 3.0796645e-07 5.1972784e-05 9.3337183e-04\n",
      "  1.5723200e-04 6.0266433e-07 3.3621870e-02]]\n",
      "Answer: 8.0  Prediction: [[9.7793468e-08 2.4460831e-09 2.5241733e-09 4.2765933e-08 2.4500859e-12\n",
      "  7.8706362e-14 2.3799135e-13 1.4951372e-14 9.9999952e-01 8.9218595e-08\n",
      "  4.4759749e-10 2.4800106e-13 2.1152478e-07]]\n",
      "Answer: 0.0  Prediction: [[9.9970227e-01 8.0228951e-05 5.3845938e-06 3.5933258e-06 1.3827166e-07\n",
      "  4.2043980e-06 4.1405446e-08 2.8025027e-09 1.9921050e-07 2.0283130e-04\n",
      "  1.9642339e-07 6.5065807e-11 8.6537062e-07]]\n"
     ]
    }
   ],
   "source": [
    "# TEST: Load model and run it against test set\n",
    "model = models.load_model('./h5/recording1.h5')\n",
    "for i in range(0, 30):\n",
    "    print('Answer:', y_test[i], ' Prediction:', model.predict(np.expand_dims(x_test[i], 0)))"
   ]
  },
  {
   "cell_type": "code",
   "execution_count": 39,
   "metadata": {
    "colab": {
     "base_uri": "https://localhost:8080/"
    },
    "executionInfo": {
     "elapsed": 257,
     "status": "ok",
     "timestamp": 1623237375540,
     "user": {
      "displayName": "黃侯弼",
      "photoUrl": "",
      "userId": "02394864078410571973"
     },
     "user_tz": -480
    },
    "id": "F2N7VEDnDuDC",
    "outputId": "76a7172d-b0aa-46a9-c7fb-45f582e96cb6",
    "scrolled": true
   },
   "outputs": [
    {
     "name": "stdout",
     "output_type": "stream",
     "text": [
      "2/2 [==============================] - 0s 5ms/step - loss: 0.1450 - acc: 0.9744\n"
     ]
    },
    {
     "data": {
      "text/plain": [
       "[0.1449945718050003, 0.9743589758872986]"
      ]
     },
     "execution_count": 39,
     "metadata": {},
     "output_type": "execute_result"
    }
   ],
   "source": [
    "# Evaluate model with test set\n",
    "model.evaluate(x=x_test, y=y_test)"
   ]
  },
  {
   "cell_type": "code",
   "execution_count": null,
   "metadata": {},
   "outputs": [],
   "source": []
  }
 ],
 "metadata": {
  "accelerator": "GPU",
  "colab": {
   "collapsed_sections": [],
   "name": "Classifier.ipynb",
   "provenance": []
  },
  "kernelspec": {
   "display_name": "Python 3",
   "language": "python",
   "name": "python3"
  },
  "language_info": {
   "codemirror_mode": {
    "name": "ipython",
    "version": 3
   },
   "file_extension": ".py",
   "mimetype": "text/x-python",
   "name": "python",
   "nbconvert_exporter": "python",
   "pygments_lexer": "ipython3",
   "version": "3.8.8"
  }
 },
 "nbformat": 4,
 "nbformat_minor": 1
}
