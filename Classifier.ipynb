{
 "cells": [
  {
   "cell_type": "code",
   "execution_count": 74,
   "metadata": {
    "executionInfo": {
     "elapsed": 428,
     "status": "ok",
     "timestamp": 1623236061470,
     "user": {
      "displayName": "黃侯弼",
      "photoUrl": "",
      "userId": "02394864078410571973"
     },
     "user_tz": -480
    },
    "id": "iVhpbtg0DuC5"
   },
   "outputs": [],
   "source": [
    "from os import listdir\n",
    "from os.path import isdir, join\n",
    "from tensorflow.keras import layers, models\n",
    "import numpy as np"
   ]
  },
  {
   "cell_type": "code",
   "execution_count": 75,
   "metadata": {
    "colab": {
     "base_uri": "https://localhost:8080/"
    },
    "executionInfo": {
     "elapsed": 5,
     "status": "ok",
     "timestamp": 1623236062585,
     "user": {
      "displayName": "黃侯弼",
      "photoUrl": "",
      "userId": "02394864078410571973"
     },
     "user_tz": -480
    },
    "id": "MZI1urklDuC6",
    "outputId": "9344224f-90ed-4d09-80e4-efd8c4bb7cac"
   },
   "outputs": [
    {
     "name": "stdout",
     "output_type": "stream",
     "text": [
      "['ㄏㄧㄡ', 'ㄟ', '吼', '啦', '嗯', '的一個', '的這個', '的那個', '著', '那', '那那個', '阿']\n"
     ]
    }
   ],
   "source": [
    "# Create list of all targets (minus background noise)\n",
    "dataset_path = './recording'\n",
    "all_targets = all_targets = [name for name in listdir(dataset_path) if isdir(join(dataset_path, name))]\n",
    "print(all_targets)"
   ]
  },
  {
   "cell_type": "code",
   "execution_count": 76,
   "metadata": {
    "executionInfo": {
     "elapsed": 301,
     "status": "ok",
     "timestamp": 1623236063859,
     "user": {
      "displayName": "黃侯弼",
      "photoUrl": "",
      "userId": "02394864078410571973"
     },
     "user_tz": -480
    },
    "id": "WgAcVkOeDuC6"
   },
   "outputs": [],
   "source": [
    "# Settings\n",
    "feature_sets_path = './'\n",
    "feature_sets_filename = './recording23.npz'\n",
    "#model_filename = 'wake_word_stop_model.h5'\n",
    "#wake_word = '嗯'"
   ]
  },
  {
   "cell_type": "code",
   "execution_count": 77,
   "metadata": {
    "colab": {
     "base_uri": "https://localhost:8080/"
    },
    "executionInfo": {
     "elapsed": 458,
     "status": "ok",
     "timestamp": 1623236065288,
     "user": {
      "displayName": "黃侯弼",
      "photoUrl": "",
      "userId": "02394864078410571973"
     },
     "user_tz": -480
    },
    "id": "rJUTXuiVDuC7",
    "outputId": "4a7c5275-1bcb-4f85-dd65-18bb4e2630c9"
   },
   "outputs": [
    {
     "name": "stdout",
     "output_type": "stream",
     "text": [
      "['x_train', 'y_train', 'x_val', 'y_val', 'x_test', 'y_test']\n"
     ]
    }
   ],
   "source": [
    "# Load feature sets\n",
    "feature_sets = np.load(join(feature_sets_path, feature_sets_filename))\n",
    "print(feature_sets.files)"
   ]
  },
  {
   "cell_type": "code",
   "execution_count": 78,
   "metadata": {
    "colab": {
     "base_uri": "https://localhost:8080/"
    },
    "executionInfo": {
     "elapsed": 3,
     "status": "ok",
     "timestamp": 1623236066162,
     "user": {
      "displayName": "黃侯弼",
      "photoUrl": "",
      "userId": "02394864078410571973"
     },
     "user_tz": -480
    },
    "id": "0MTc8hMZDuC7",
    "outputId": "287b9ce7-b503-472c-dc22-1cf446a74c77"
   },
   "outputs": [
    {
     "name": "stdout",
     "output_type": "stream",
     "text": [
      "[ 2.  7.  5.  9.  1.  0.  1.  6.  7.  9. 10.  1.  1.  8.  9.  2. 11.  8.\n",
      "  1.  0. 10.  5.  6.  7.  4.  7.  7.  3.  2. 10.  7.  5.  2.  0.  1. 11.]\n",
      "[10.  9.  6.  3.  7.  7.  4.  8.  9.  0.  3. 10. 11.  2.  2.  5.  0.  6.\n",
      " 11.  0.  0.  0. 10.  4.  8.  3. 10.  0.  8.  0.  6.  9.  4.  3.  9. 10.\n",
      "  5. 10.  6. 10.  5.  7.  8.  5.  3.  4.  6.  4.  8.  1.  7.  4.  9.  5.\n",
      "  1. 10.  3.  0.  3. 10.  4. 11.  3.  8.  7.  6.  2.  2.  4.  5.  6.  5.\n",
      "  1.  9.  4.  1.  0.  9.  8.  4.  6.  2. 10.  0.  5.  5.  0.  6. 11.  6.\n",
      "  5.  5.  1.  9. 10.  2.  4.  4.  4.  4.  1. 11.  5.  1.  6. 11.  8.  6.\n",
      "  6. 10.  2.  9.  8. 10. 11.  7.  2. 10. 10.  7.  1.  1.  9.  6.  3.  9.\n",
      "  3.  5. 11.  4.  8.  7.  2.  3. 11.  4. 10.  2.  1.  6.  0. 10.  5.  5.\n",
      "  3. 11.  2.  4. 10.  3.  2.  4.  9.  2.  9.  8.  7.  8.  8. 10.  5. 11.\n",
      "  9.  9.  4. 11.  8.  8.  3.  7.  9. 11.  4.  1.  6.  0. 10.  7.  1.  1.\n",
      " 11.  0.  6.  5.  7. 11.  2.  3.  8. 11.  5.  7.  2.  8.  9.  0.  1.  3.\n",
      "  0.  7.  4. 11.  3. 11. 10.  7. 10.  8.  9.  1.  0.  9.  3.  0.  5.  8.\n",
      " 11.  6.  1. 11.  4.  2. 10.  2.  8.  6.  3.  5.  8.  8.  9.  6.  7. 10.\n",
      " 11.  0.  0.  5.  2.  8.  3.  7.  1.  1.  5.  4.  7.  9.  9. 11.  7.  3.\n",
      "  4.  2.  8.  6.  4.  4. 11. 10.  5. 11.  7.  6.  3.  9. 10.  8.  3.  3.\n",
      " 10.  7.  5.  2.  5.  6.  0.  2. 11.  0.  5.  6.  2. 11.  2.  4.  0.  9.]\n",
      "[ 8.  6.  9.  1.  0.  8.  4. 11.  7.  6.  0. 11.  6.  7.  2.  3.  0.  7.\n",
      "  9.  6.  8.  2.  4.  9.  5.  2.  3.  3.  1.  1.  1.  1.  0.  3.  3.  1.]\n"
     ]
    }
   ],
   "source": [
    "# Assign feature sets\n",
    "x_train = feature_sets['x_train']\n",
    "y_train = feature_sets['y_train']\n",
    "x_val = feature_sets['x_val']\n",
    "y_val = feature_sets['y_val']\n",
    "x_test = feature_sets['x_test']\n",
    "y_test = feature_sets['y_test']\n",
    "print(y_test)\n",
    "print(y_train)\n",
    "print(y_val)"
   ]
  },
  {
   "cell_type": "code",
   "execution_count": 79,
   "metadata": {
    "colab": {
     "base_uri": "https://localhost:8080/"
    },
    "executionInfo": {
     "elapsed": 262,
     "status": "ok",
     "timestamp": 1623236068434,
     "user": {
      "displayName": "黃侯弼",
      "photoUrl": "",
      "userId": "02394864078410571973"
     },
     "user_tz": -480
    },
    "id": "r2XzOXwdDuC8",
    "outputId": "6d00862e-4d37-415c-b854-22b4cdd10698"
   },
   "outputs": [
    {
     "name": "stdout",
     "output_type": "stream",
     "text": [
      "(288, 23, 16)\n",
      "(36, 23, 16)\n",
      "(36, 23, 16)\n"
     ]
    }
   ],
   "source": [
    "# Look at tensor dimensions\n",
    "print(x_train.shape)\n",
    "print(x_val.shape)\n",
    "print(x_test.shape)"
   ]
  },
  {
   "cell_type": "code",
   "execution_count": 80,
   "metadata": {
    "colab": {
     "base_uri": "https://localhost:8080/"
    },
    "executionInfo": {
     "elapsed": 439,
     "status": "ok",
     "timestamp": 1623236069774,
     "user": {
      "displayName": "黃侯弼",
      "photoUrl": "",
      "userId": "02394864078410571973"
     },
     "user_tz": -480
    },
    "id": "N-l9zl-GDuC9",
    "outputId": "fd2762fb-1345-41d2-8108-985fcd157a52"
   },
   "outputs": [
    {
     "name": "stdout",
     "output_type": "stream",
     "text": [
      "[ 8.  6.  9.  1.  0.  8.  4. 11.  7.  6.  0. 11.  6.  7.  2.  3.  0.  7.\n",
      "  9.  6.  8.  2.  4.  9.  5.  2.  3.  3.  1.  1.  1.  1.  0.  3.  3.  1.]\n"
     ]
    }
   ],
   "source": [
    "# Peek at labels\n",
    "print(y_val)"
   ]
  },
  {
   "cell_type": "code",
   "execution_count": 81,
   "metadata": {
    "colab": {
     "base_uri": "https://localhost:8080/"
    },
    "executionInfo": {
     "elapsed": 4,
     "status": "ok",
     "timestamp": 1623236070623,
     "user": {
      "displayName": "黃侯弼",
      "photoUrl": "",
      "userId": "02394864078410571973"
     },
     "user_tz": -480
    },
    "id": "nY3RGYbPDuC-",
    "outputId": "deded680-fc57-4da6-c054-a4648b5007eb"
   },
   "outputs": [
    {
     "name": "stdout",
     "output_type": "stream",
     "text": [
      "[ 2.  7.  5.  9.  1.  0.  1.  6.  7.  9. 10.  1.  1.  8.  9.  2. 11.  8.\n",
      "  1.  0. 10.  5.  6.  7.  4.  7.  7.  3.  2. 10.  7.  5.  2.  0.  1. 11.]\n"
     ]
    }
   ],
   "source": [
    "# Peek at labels after conversion\n",
    "print(y_test)"
   ]
  },
  {
   "cell_type": "code",
   "execution_count": 82,
   "metadata": {
    "colab": {
     "base_uri": "https://localhost:8080/"
    },
    "executionInfo": {
     "elapsed": 5,
     "status": "ok",
     "timestamp": 1623236071679,
     "user": {
      "displayName": "黃侯弼",
      "photoUrl": "",
      "userId": "02394864078410571973"
     },
     "user_tz": -480
    },
    "id": "8I1_x2yvDuC-",
    "outputId": "0d138400-6662-4175-8a1f-f640e3f2bf6d"
   },
   "outputs": [
    {
     "name": "stdout",
     "output_type": "stream",
     "text": [
      "(288, 23, 16)\n"
     ]
    }
   ],
   "source": [
    "# View the dimensions of our input data\n",
    "print(x_train.shape)"
   ]
  },
  {
   "cell_type": "code",
   "execution_count": 83,
   "metadata": {
    "colab": {
     "base_uri": "https://localhost:8080/"
    },
    "executionInfo": {
     "elapsed": 4,
     "status": "ok",
     "timestamp": 1623236072760,
     "user": {
      "displayName": "黃侯弼",
      "photoUrl": "",
      "userId": "02394864078410571973"
     },
     "user_tz": -480
    },
    "id": "i_zQsgz4DuC_",
    "outputId": "94a9c63d-7b06-4e8f-8c10-2aaab2aebe64",
    "scrolled": true
   },
   "outputs": [
    {
     "name": "stdout",
     "output_type": "stream",
     "text": [
      "(288, 23, 16, 1)\n",
      "(36, 23, 16, 1)\n",
      "(36, 23, 16, 1)\n"
     ]
    }
   ],
   "source": [
    "# CNN for TF expects (batch, height, width, channels)\n",
    "# So we reshape the input tensors with a \"color\" channel of 1\n",
    "x_train = x_train.reshape(x_train.shape[0], \n",
    "                          x_train.shape[1], \n",
    "                          x_train.shape[2], \n",
    "                          1)\n",
    "x_val = x_val.reshape(x_val.shape[0], \n",
    "                      x_val.shape[1], \n",
    "                      x_val.shape[2], \n",
    "                      1)\n",
    "x_test = x_test.reshape(x_test.shape[0], \n",
    "                        x_test.shape[1], \n",
    "                        x_test.shape[2], \n",
    "                        1)\n",
    "print(x_train.shape)\n",
    "print(x_val.shape)\n",
    "print(x_test.shape)"
   ]
  },
  {
   "cell_type": "code",
   "execution_count": 84,
   "metadata": {
    "colab": {
     "base_uri": "https://localhost:8080/"
    },
    "executionInfo": {
     "elapsed": 281,
     "status": "ok",
     "timestamp": 1623236074651,
     "user": {
      "displayName": "黃侯弼",
      "photoUrl": "",
      "userId": "02394864078410571973"
     },
     "user_tz": -480
    },
    "id": "Ge2MCNusDuC_",
    "outputId": "7c995061-d01d-4a96-a14f-fbee6804b4d4"
   },
   "outputs": [
    {
     "name": "stdout",
     "output_type": "stream",
     "text": [
      "(23, 16, 1)\n"
     ]
    }
   ],
   "source": [
    "# Input shape for CNN is size of MFCC of 1 sample\n",
    "sample_shape = x_test.shape[1:]\n",
    "print(sample_shape)"
   ]
  },
  {
   "cell_type": "code",
   "execution_count": 102,
   "metadata": {
    "colab": {
     "base_uri": "https://localhost:8080/"
    },
    "executionInfo": {
     "elapsed": 264,
     "status": "ok",
     "timestamp": 1623237350948,
     "user": {
      "displayName": "黃侯弼",
      "photoUrl": "",
      "userId": "02394864078410571973"
     },
     "user_tz": -480
    },
    "id": "2JqUOHp9DuDA",
    "outputId": "cc676686-8778-47c0-d5eb-183d137369d2"
   },
   "outputs": [
    {
     "name": "stdout",
     "output_type": "stream",
     "text": [
      "Model: \"sequential_9\"\n",
      "_________________________________________________________________\n",
      "Layer (type)                 Output Shape              Param #   \n",
      "=================================================================\n",
      "conv2d_18 (Conv2D)           (None, 22, 15, 32)        160       \n",
      "_________________________________________________________________\n",
      "max_pooling2d_18 (MaxPooling (None, 11, 7, 32)         0         \n",
      "_________________________________________________________________\n",
      "conv2d_19 (Conv2D)           (None, 10, 6, 64)         8256      \n",
      "_________________________________________________________________\n",
      "max_pooling2d_19 (MaxPooling (None, 5, 3, 64)          0         \n",
      "_________________________________________________________________\n",
      "dropout_18 (Dropout)         (None, 5, 3, 64)          0         \n",
      "_________________________________________________________________\n",
      "flatten_9 (Flatten)          (None, 960)               0         \n",
      "_________________________________________________________________\n",
      "dense_18 (Dense)             (None, 64)                61504     \n",
      "_________________________________________________________________\n",
      "dropout_19 (Dropout)         (None, 64)                0         \n",
      "_________________________________________________________________\n",
      "dense_19 (Dense)             (None, 13)                845       \n",
      "=================================================================\n",
      "Total params: 70,765\n",
      "Trainable params: 70,765\n",
      "Non-trainable params: 0\n",
      "_________________________________________________________________\n"
     ]
    }
   ],
   "source": [
    "model = models.Sequential()\n",
    "model.add(layers.Conv2D(32, (2, 2), activation='relu',input_shape=sample_shape))\n",
    "model.add(layers.MaxPooling2D(pool_size=(2, 2)))\n",
    "\n",
    "#model.add(layers.Conv2D(32, (2, 2), activation='relu'))\n",
    "#model.add(layers.MaxPooling2D(pool_size=(2, 2)))\n",
    "\n",
    "model.add(layers.Conv2D(64, (2, 2), activation='relu'))#64\n",
    "model.add(layers.MaxPooling2D(pool_size=(2, 2)))\n",
    "model.add(layers.Dropout(0.5))\n",
    "\n",
    "# Classifier\n",
    "model.add(layers.Flatten())\n",
    "model.add(layers.Dense(64, activation='relu'))#64\n",
    "model.add(layers.Dropout(0.5))\n",
    "model.add(layers.Dense(13, activation='softmax'))\n",
    "# Display model\n",
    "model.summary()\n"
   ]
  },
  {
   "cell_type": "code",
   "execution_count": 103,
   "metadata": {
    "colab": {
     "base_uri": "https://localhost:8080/"
    },
    "executionInfo": {
     "elapsed": 402,
     "status": "ok",
     "timestamp": 1623237353164,
     "user": {
      "displayName": "黃侯弼",
      "photoUrl": "",
      "userId": "02394864078410571973"
     },
     "user_tz": -480
    },
    "id": "sp5WfpkJDuDA",
    "outputId": "e7c65039-b132-4490-ce02-0897a4ca9bdc"
   },
   "outputs": [],
   "source": [
    "from tensorflow.keras import optimizers\n",
    "# Add training parameters to model\n",
    "model.compile(loss='sparse_categorical_crossentropy', \n",
    "              optimizer='adam',    #'adam'\n",
    "              metrics=['acc'])"
   ]
  },
  {
   "cell_type": "code",
   "execution_count": 104,
   "metadata": {
    "colab": {
     "base_uri": "https://localhost:8080/"
    },
    "executionInfo": {
     "elapsed": 6626,
     "status": "ok",
     "timestamp": 1623237360783,
     "user": {
      "displayName": "黃侯弼",
      "photoUrl": "",
      "userId": "02394864078410571973"
     },
     "user_tz": -480
    },
    "id": "s46KMbZbDuDB",
    "outputId": "ff0b8470-8926-4dd5-bd90-db3c765b1d90"
   },
   "outputs": [
    {
     "name": "stdout",
     "output_type": "stream",
     "text": [
      "Epoch 1/100\n",
      "15/15 [==============================] - 1s 28ms/step - loss: 3.7826 - acc: 0.0590 - val_loss: 2.4428 - val_acc: 0.2500\n",
      "Epoch 2/100\n",
      "15/15 [==============================] - 0s 8ms/step - loss: 2.6277 - acc: 0.0799 - val_loss: 2.4885 - val_acc: 0.1111\n",
      "Epoch 3/100\n",
      "15/15 [==============================] - 0s 9ms/step - loss: 2.4749 - acc: 0.1493 - val_loss: 2.4858 - val_acc: 0.1111\n",
      "Epoch 4/100\n",
      "15/15 [==============================] - 0s 9ms/step - loss: 2.4926 - acc: 0.1493 - val_loss: 2.4416 - val_acc: 0.1111\n",
      "Epoch 5/100\n",
      "15/15 [==============================] - 0s 8ms/step - loss: 2.4539 - acc: 0.1528 - val_loss: 2.3573 - val_acc: 0.3056\n",
      "Epoch 6/100\n",
      "15/15 [==============================] - 0s 8ms/step - loss: 2.3815 - acc: 0.1736 - val_loss: 2.2937 - val_acc: 0.2500\n",
      "Epoch 7/100\n",
      "15/15 [==============================] - 0s 8ms/step - loss: 2.3598 - acc: 0.1667 - val_loss: 2.2296 - val_acc: 0.3056\n",
      "Epoch 8/100\n",
      "15/15 [==============================] - 0s 8ms/step - loss: 2.2036 - acc: 0.2431 - val_loss: 2.0295 - val_acc: 0.4444\n",
      "Epoch 9/100\n",
      "15/15 [==============================] - 0s 8ms/step - loss: 2.1913 - acc: 0.2222 - val_loss: 2.0002 - val_acc: 0.4444\n",
      "Epoch 10/100\n",
      "15/15 [==============================] - 0s 8ms/step - loss: 2.0315 - acc: 0.2951 - val_loss: 1.8633 - val_acc: 0.5000\n",
      "Epoch 11/100\n",
      "15/15 [==============================] - 0s 8ms/step - loss: 1.9247 - acc: 0.3681 - val_loss: 1.6573 - val_acc: 0.5556\n",
      "Epoch 12/100\n",
      "15/15 [==============================] - 0s 8ms/step - loss: 1.8066 - acc: 0.3681 - val_loss: 1.4895 - val_acc: 0.6667\n",
      "Epoch 13/100\n",
      "15/15 [==============================] - 0s 9ms/step - loss: 1.7003 - acc: 0.4410 - val_loss: 1.3865 - val_acc: 0.6389\n",
      "Epoch 14/100\n",
      "15/15 [==============================] - 0s 8ms/step - loss: 1.5817 - acc: 0.4549 - val_loss: 1.2679 - val_acc: 0.6389\n",
      "Epoch 15/100\n",
      "15/15 [==============================] - 0s 8ms/step - loss: 1.5352 - acc: 0.4618 - val_loss: 1.0905 - val_acc: 0.7778\n",
      "Epoch 16/100\n",
      "15/15 [==============================] - 0s 8ms/step - loss: 1.4161 - acc: 0.5069 - val_loss: 0.9747 - val_acc: 0.8056\n",
      "Epoch 17/100\n",
      "15/15 [==============================] - 0s 8ms/step - loss: 1.3246 - acc: 0.5312 - val_loss: 0.9133 - val_acc: 0.7778\n",
      "Epoch 18/100\n",
      "15/15 [==============================] - 0s 8ms/step - loss: 1.2416 - acc: 0.5729 - val_loss: 0.8839 - val_acc: 0.7500\n",
      "Epoch 19/100\n",
      "15/15 [==============================] - 0s 8ms/step - loss: 1.1941 - acc: 0.6424 - val_loss: 0.8285 - val_acc: 0.8333\n",
      "Epoch 20/100\n",
      "15/15 [==============================] - 0s 8ms/step - loss: 1.0713 - acc: 0.6562 - val_loss: 0.7557 - val_acc: 0.8333\n",
      "Epoch 21/100\n",
      "15/15 [==============================] - 0s 8ms/step - loss: 0.9908 - acc: 0.6528 - val_loss: 0.6027 - val_acc: 0.9167\n",
      "Epoch 22/100\n",
      "15/15 [==============================] - 0s 8ms/step - loss: 1.0396 - acc: 0.6250 - val_loss: 0.6434 - val_acc: 0.8611\n",
      "Epoch 23/100\n",
      "15/15 [==============================] - 0s 9ms/step - loss: 0.9418 - acc: 0.6771 - val_loss: 0.5208 - val_acc: 0.9167\n",
      "Epoch 24/100\n",
      "15/15 [==============================] - 0s 8ms/step - loss: 0.8800 - acc: 0.7049 - val_loss: 0.5817 - val_acc: 0.8611\n",
      "Epoch 25/100\n",
      "15/15 [==============================] - 0s 8ms/step - loss: 0.8002 - acc: 0.7188 - val_loss: 0.5153 - val_acc: 0.9167\n",
      "Epoch 26/100\n",
      "15/15 [==============================] - 0s 8ms/step - loss: 0.7774 - acc: 0.7326 - val_loss: 0.5461 - val_acc: 0.9167\n",
      "Epoch 27/100\n",
      "15/15 [==============================] - 0s 8ms/step - loss: 0.7048 - acc: 0.7743 - val_loss: 0.4920 - val_acc: 0.9167\n",
      "Epoch 28/100\n",
      "15/15 [==============================] - 0s 8ms/step - loss: 0.6928 - acc: 0.7743 - val_loss: 0.4335 - val_acc: 0.9167\n",
      "Epoch 29/100\n",
      "15/15 [==============================] - 0s 8ms/step - loss: 0.6695 - acc: 0.7778 - val_loss: 0.4027 - val_acc: 0.9167\n",
      "Epoch 30/100\n",
      "15/15 [==============================] - 0s 8ms/step - loss: 0.5931 - acc: 0.8090 - val_loss: 0.4402 - val_acc: 0.9167\n",
      "Epoch 31/100\n",
      "15/15 [==============================] - 0s 8ms/step - loss: 0.5956 - acc: 0.7986 - val_loss: 0.3893 - val_acc: 0.8889\n",
      "Epoch 32/100\n",
      "15/15 [==============================] - 0s 8ms/step - loss: 0.6197 - acc: 0.7674 - val_loss: 0.4014 - val_acc: 0.8889\n",
      "Epoch 33/100\n",
      "15/15 [==============================] - 0s 8ms/step - loss: 0.4954 - acc: 0.8507 - val_loss: 0.4077 - val_acc: 0.9167\n",
      "Epoch 34/100\n",
      "15/15 [==============================] - 0s 8ms/step - loss: 0.4407 - acc: 0.8611 - val_loss: 0.3953 - val_acc: 0.9167\n",
      "Epoch 35/100\n",
      "15/15 [==============================] - 0s 8ms/step - loss: 0.5087 - acc: 0.8333 - val_loss: 0.3604 - val_acc: 0.9167\n",
      "Epoch 36/100\n",
      "15/15 [==============================] - 0s 8ms/step - loss: 0.5253 - acc: 0.7951 - val_loss: 0.3231 - val_acc: 0.9167\n",
      "Epoch 37/100\n",
      "15/15 [==============================] - 0s 8ms/step - loss: 0.4430 - acc: 0.8438 - val_loss: 0.3524 - val_acc: 0.9167\n",
      "Epoch 38/100\n",
      "15/15 [==============================] - 0s 8ms/step - loss: 0.4618 - acc: 0.8438 - val_loss: 0.3284 - val_acc: 0.9167\n",
      "Epoch 39/100\n",
      "15/15 [==============================] - 0s 8ms/step - loss: 0.4091 - acc: 0.8507 - val_loss: 0.3392 - val_acc: 0.9167\n",
      "Epoch 40/100\n",
      "15/15 [==============================] - 0s 8ms/step - loss: 0.3980 - acc: 0.8438 - val_loss: 0.3239 - val_acc: 0.8889\n",
      "Epoch 41/100\n",
      "15/15 [==============================] - 0s 8ms/step - loss: 0.3802 - acc: 0.8785 - val_loss: 0.3625 - val_acc: 0.9167\n",
      "Epoch 42/100\n",
      "15/15 [==============================] - 0s 8ms/step - loss: 0.4460 - acc: 0.8542 - val_loss: 0.3149 - val_acc: 0.9167\n",
      "Epoch 43/100\n",
      "15/15 [==============================] - 0s 8ms/step - loss: 0.3708 - acc: 0.8715 - val_loss: 0.3288 - val_acc: 0.9167\n",
      "Epoch 44/100\n",
      "15/15 [==============================] - 0s 8ms/step - loss: 0.3148 - acc: 0.8819 - val_loss: 0.3069 - val_acc: 0.9167\n",
      "Epoch 45/100\n",
      "15/15 [==============================] - 0s 8ms/step - loss: 0.2733 - acc: 0.9201 - val_loss: 0.3040 - val_acc: 0.8889\n",
      "Epoch 46/100\n",
      "15/15 [==============================] - 0s 9ms/step - loss: 0.3640 - acc: 0.8611 - val_loss: 0.2889 - val_acc: 0.9167\n",
      "Epoch 47/100\n",
      "15/15 [==============================] - 0s 8ms/step - loss: 0.3434 - acc: 0.8750 - val_loss: 0.2960 - val_acc: 0.9167\n",
      "Epoch 48/100\n",
      "15/15 [==============================] - 0s 8ms/step - loss: 0.2975 - acc: 0.9062 - val_loss: 0.2854 - val_acc: 0.9167\n",
      "Epoch 49/100\n",
      "15/15 [==============================] - 0s 8ms/step - loss: 0.3256 - acc: 0.8958 - val_loss: 0.2722 - val_acc: 0.9167\n",
      "Epoch 50/100\n",
      "15/15 [==============================] - 0s 8ms/step - loss: 0.2831 - acc: 0.9132 - val_loss: 0.2673 - val_acc: 0.9167\n",
      "Epoch 51/100\n",
      "15/15 [==============================] - 0s 8ms/step - loss: 0.3274 - acc: 0.8889 - val_loss: 0.2975 - val_acc: 0.9167\n",
      "Epoch 52/100\n",
      "15/15 [==============================] - 0s 8ms/step - loss: 0.2768 - acc: 0.9167 - val_loss: 0.3502 - val_acc: 0.9167\n",
      "Epoch 53/100\n",
      "15/15 [==============================] - 0s 8ms/step - loss: 0.3069 - acc: 0.8924 - val_loss: 0.3995 - val_acc: 0.9167\n",
      "Epoch 54/100\n",
      "15/15 [==============================] - 0s 9ms/step - loss: 0.3043 - acc: 0.9028 - val_loss: 0.2710 - val_acc: 0.9167\n",
      "Epoch 55/100\n",
      "15/15 [==============================] - 0s 8ms/step - loss: 0.2753 - acc: 0.8958 - val_loss: 0.2978 - val_acc: 0.9167\n",
      "Epoch 56/100\n",
      "15/15 [==============================] - 0s 7ms/step - loss: 0.1847 - acc: 0.9375 - val_loss: 0.3286 - val_acc: 0.9167\n",
      "Epoch 57/100\n",
      "15/15 [==============================] - 0s 8ms/step - loss: 0.3112 - acc: 0.9132 - val_loss: 0.2987 - val_acc: 0.9444\n",
      "Epoch 58/100\n",
      "15/15 [==============================] - 0s 9ms/step - loss: 0.2170 - acc: 0.9410 - val_loss: 0.3373 - val_acc: 0.9444\n",
      "Epoch 59/100\n",
      "15/15 [==============================] - 0s 8ms/step - loss: 0.2043 - acc: 0.9410 - val_loss: 0.3638 - val_acc: 0.9167\n",
      "Epoch 60/100\n",
      "15/15 [==============================] - 0s 8ms/step - loss: 0.2445 - acc: 0.9167 - val_loss: 0.3951 - val_acc: 0.9167\n",
      "Epoch 61/100\n",
      "15/15 [==============================] - 0s 8ms/step - loss: 0.1908 - acc: 0.9375 - val_loss: 0.3209 - val_acc: 0.9444\n",
      "Epoch 62/100\n",
      "15/15 [==============================] - 0s 9ms/step - loss: 0.2137 - acc: 0.9340 - val_loss: 0.3402 - val_acc: 0.9167\n",
      "Epoch 63/100\n"
     ]
    },
    {
     "name": "stdout",
     "output_type": "stream",
     "text": [
      "15/15 [==============================] - 0s 8ms/step - loss: 0.2043 - acc: 0.9340 - val_loss: 0.3273 - val_acc: 0.9167\n",
      "Epoch 64/100\n",
      "15/15 [==============================] - 0s 8ms/step - loss: 0.1903 - acc: 0.9479 - val_loss: 0.3698 - val_acc: 0.9167\n",
      "Epoch 65/100\n",
      "15/15 [==============================] - 0s 8ms/step - loss: 0.1322 - acc: 0.9583 - val_loss: 0.3505 - val_acc: 0.9167\n",
      "Epoch 66/100\n",
      "15/15 [==============================] - 0s 8ms/step - loss: 0.2192 - acc: 0.9167 - val_loss: 0.3649 - val_acc: 0.9167\n",
      "Epoch 67/100\n",
      "15/15 [==============================] - 0s 8ms/step - loss: 0.1720 - acc: 0.9444 - val_loss: 0.4228 - val_acc: 0.9167\n",
      "Epoch 68/100\n",
      "15/15 [==============================] - 0s 8ms/step - loss: 0.1951 - acc: 0.9410 - val_loss: 0.3912 - val_acc: 0.9167\n",
      "Epoch 69/100\n",
      "15/15 [==============================] - 0s 8ms/step - loss: 0.1858 - acc: 0.9375 - val_loss: 0.4234 - val_acc: 0.9167\n",
      "Epoch 70/100\n",
      "15/15 [==============================] - 0s 8ms/step - loss: 0.1417 - acc: 0.9514 - val_loss: 0.4317 - val_acc: 0.9167\n",
      "Epoch 71/100\n",
      "15/15 [==============================] - 0s 8ms/step - loss: 0.1253 - acc: 0.9618 - val_loss: 0.4458 - val_acc: 0.9167\n",
      "Epoch 72/100\n",
      "15/15 [==============================] - 0s 8ms/step - loss: 0.1496 - acc: 0.9549 - val_loss: 0.3624 - val_acc: 0.9167\n",
      "Epoch 73/100\n",
      "15/15 [==============================] - ETA: 0s - loss: 0.1437 - acc: 0.938 - 0s 8ms/step - loss: 0.1504 - acc: 0.9375 - val_loss: 0.3266 - val_acc: 0.9167\n",
      "Epoch 74/100\n",
      "15/15 [==============================] - 0s 8ms/step - loss: 0.2290 - acc: 0.9201 - val_loss: 0.3118 - val_acc: 0.9167\n",
      "Epoch 75/100\n",
      "15/15 [==============================] - 0s 8ms/step - loss: 0.1443 - acc: 0.9583 - val_loss: 0.3686 - val_acc: 0.9167\n",
      "Epoch 76/100\n",
      "15/15 [==============================] - 0s 8ms/step - loss: 0.1786 - acc: 0.9340 - val_loss: 0.3741 - val_acc: 0.9167\n",
      "Epoch 77/100\n",
      "15/15 [==============================] - 0s 8ms/step - loss: 0.1558 - acc: 0.9479 - val_loss: 0.3649 - val_acc: 0.9167\n",
      "Epoch 78/100\n",
      "15/15 [==============================] - 0s 9ms/step - loss: 0.1851 - acc: 0.9514 - val_loss: 0.4375 - val_acc: 0.9167\n",
      "Epoch 79/100\n",
      "15/15 [==============================] - 0s 8ms/step - loss: 0.1692 - acc: 0.9479 - val_loss: 0.4333 - val_acc: 0.9167\n",
      "Epoch 80/100\n",
      "15/15 [==============================] - 0s 8ms/step - loss: 0.1507 - acc: 0.9479 - val_loss: 0.3882 - val_acc: 0.9167\n",
      "Epoch 81/100\n",
      "15/15 [==============================] - 0s 8ms/step - loss: 0.1447 - acc: 0.9479 - val_loss: 0.3513 - val_acc: 0.9167\n",
      "Epoch 82/100\n",
      "15/15 [==============================] - 0s 8ms/step - loss: 0.1716 - acc: 0.9444 - val_loss: 0.3266 - val_acc: 0.9167\n",
      "Epoch 83/100\n",
      "15/15 [==============================] - 0s 8ms/step - loss: 0.1910 - acc: 0.9306 - val_loss: 0.3280 - val_acc: 0.9167\n",
      "Epoch 84/100\n",
      "15/15 [==============================] - 0s 8ms/step - loss: 0.1640 - acc: 0.9549 - val_loss: 0.4233 - val_acc: 0.9167\n",
      "Epoch 85/100\n",
      "15/15 [==============================] - 0s 8ms/step - loss: 0.1599 - acc: 0.9479 - val_loss: 0.2977 - val_acc: 0.9167\n",
      "Epoch 86/100\n",
      "15/15 [==============================] - 0s 8ms/step - loss: 0.1421 - acc: 0.9688 - val_loss: 0.3924 - val_acc: 0.9167\n",
      "Epoch 87/100\n",
      "15/15 [==============================] - 0s 8ms/step - loss: 0.1492 - acc: 0.9444 - val_loss: 0.3883 - val_acc: 0.9167\n",
      "Epoch 88/100\n",
      "15/15 [==============================] - 0s 8ms/step - loss: 0.1474 - acc: 0.9375 - val_loss: 0.3595 - val_acc: 0.9167\n",
      "Epoch 89/100\n",
      "15/15 [==============================] - 0s 8ms/step - loss: 0.1371 - acc: 0.9688 - val_loss: 0.4795 - val_acc: 0.9167\n",
      "Epoch 90/100\n",
      "15/15 [==============================] - 0s 8ms/step - loss: 0.1983 - acc: 0.9306 - val_loss: 0.3872 - val_acc: 0.9167\n",
      "Epoch 91/100\n",
      "15/15 [==============================] - 0s 8ms/step - loss: 0.1420 - acc: 0.9549 - val_loss: 0.3645 - val_acc: 0.9167\n",
      "Epoch 92/100\n",
      "15/15 [==============================] - 0s 8ms/step - loss: 0.1230 - acc: 0.9549 - val_loss: 0.4623 - val_acc: 0.9167\n",
      "Epoch 93/100\n",
      "15/15 [==============================] - 0s 8ms/step - loss: 0.1623 - acc: 0.9549 - val_loss: 0.4144 - val_acc: 0.9167\n",
      "Epoch 94/100\n",
      "15/15 [==============================] - 0s 8ms/step - loss: 0.1064 - acc: 0.9618 - val_loss: 0.4257 - val_acc: 0.9167\n",
      "Epoch 95/100\n",
      "15/15 [==============================] - 0s 8ms/step - loss: 0.1052 - acc: 0.9549 - val_loss: 0.3685 - val_acc: 0.9167\n",
      "Epoch 96/100\n",
      "15/15 [==============================] - 0s 8ms/step - loss: 0.0989 - acc: 0.9722 - val_loss: 0.5040 - val_acc: 0.9167\n",
      "Epoch 97/100\n",
      "15/15 [==============================] - 0s 8ms/step - loss: 0.1574 - acc: 0.9583 - val_loss: 0.3912 - val_acc: 0.9167\n",
      "Epoch 98/100\n",
      "15/15 [==============================] - 0s 8ms/step - loss: 0.1659 - acc: 0.9306 - val_loss: 0.3664 - val_acc: 0.9167\n",
      "Epoch 99/100\n",
      "15/15 [==============================] - 0s 8ms/step - loss: 0.1202 - acc: 0.9583 - val_loss: 0.4170 - val_acc: 0.9167\n",
      "Epoch 100/100\n",
      "15/15 [==============================] - 0s 8ms/step - loss: 0.1187 - acc: 0.9618 - val_loss: 0.3561 - val_acc: 0.9167\n"
     ]
    }
   ],
   "source": [
    "# Train\n",
    "history = model.fit(x_train, \n",
    "                    y_train, \n",
    "                    epochs=100,\n",
    "                    batch_size=20,#20\n",
    "                    validation_data=(x_val, y_val))"
   ]
  },
  {
   "cell_type": "code",
   "execution_count": 105,
   "metadata": {
    "colab": {
     "base_uri": "https://localhost:8080/",
     "height": 545
    },
    "executionInfo": {
     "elapsed": 1003,
     "status": "ok",
     "timestamp": 1623237367971,
     "user": {
      "displayName": "黃侯弼",
      "photoUrl": "",
      "userId": "02394864078410571973"
     },
     "user_tz": -480
    },
    "id": "UHFvFGu9DuDB",
    "outputId": "d91020e9-a37e-47d8-c204-00bf612c2908"
   },
   "outputs": [
    {
     "data": {
      "image/png": "[encoded data removed]",
      "text/plain": [
       "<Figure size 432x288 with 1 Axes>"
      ]
     },
     "metadata": {
      "needs_background": "light"
     },
     "output_type": "display_data"
    },
    {
     "data": {
      "image/png": "[encoded data removed]",
      "text/plain": [
       "<Figure size 432x288 with 1 Axes>"
      ]
     },
     "metadata": {
      "needs_background": "light"
     },
     "output_type": "display_data"
    }
   ],
   "source": [
    "# Plot results\n",
    "import matplotlib.pyplot as plt\n",
    "\n",
    "acc = history.history['acc']\n",
    "val_acc = history.history['val_acc']\n",
    "loss = history.history['loss']\n",
    "val_loss = history.history['val_loss']\n",
    "\n",
    "epochs = range(1, len(acc) + 1)\n",
    "\n",
    "plt.plot(epochs, acc, 'bo', label='Training acc')\n",
    "plt.plot(epochs, val_acc, 'b', label='Validation acc')\n",
    "plt.title('Training and validation accuracy')\n",
    "plt.legend()\n",
    "\n",
    "plt.figure()\n",
    "\n",
    "plt.plot(epochs, loss, 'bo', label='Training loss')\n",
    "plt.plot(epochs, val_loss, 'b', label='Validation loss')\n",
    "plt.title('Training and validation loss')\n",
    "plt.legend()\n",
    "\n",
    "plt.show()"
   ]
  },
  {
   "cell_type": "code",
   "execution_count": 109,
   "metadata": {
    "executionInfo": {
     "elapsed": 263,
     "status": "ok",
     "timestamp": 1623237370995,
     "user": {
      "displayName": "黃侯弼",
      "photoUrl": "",
      "userId": "02394864078410571973"
     },
     "user_tz": -480
    },
    "id": "mKcsAPK-DuDB"
   },
   "outputs": [],
   "source": [
    "# Save the model as a file\n",
    "models.save_model(model, './h5/recording23.h5')"
   ]
  },
  {
   "cell_type": "code",
   "execution_count": 110,
   "metadata": {
    "colab": {
     "base_uri": "https://localhost:8080/"
    },
    "executionInfo": {
     "elapsed": 774,
     "status": "ok",
     "timestamp": 1623237372852,
     "user": {
      "displayName": "黃侯弼",
      "photoUrl": "",
      "userId": "02394864078410571973"
     },
     "user_tz": -480
    },
    "id": "rOAEZ7PKDuDC",
    "outputId": "ec42e9de-9b6c-4269-b804-bd8df580acf4"
   },
   "outputs": [
    {
     "name": "stdout",
     "output_type": "stream",
     "text": [
      "Answer: 2.0  Prediction: [[4.4359103e-06 2.6958129e-09 9.9985063e-01 7.5921516e-06 3.7867487e-08\n",
      "  6.5793524e-13 3.1383868e-07 7.8117495e-08 1.7654680e-06 3.9794010e-08\n",
      "  4.2247702e-08 1.3496869e-04 3.7791935e-12]]\n",
      "Answer: 7.0  Prediction: [[3.6365040e-05 7.4549106e-08 2.5086486e-04 4.6623822e-07 1.6641480e-01\n",
      "  8.3418381e-06 1.6976592e-01 3.0138972e-01 5.9404090e-05 2.3754170e-05\n",
      "  3.6190540e-01 1.4488265e-04 7.4705753e-08]]\n",
      "Answer: 5.0  Prediction: [[5.14389321e-05 1.43850798e-06 1.65159362e-11 8.84623603e-07\n",
      "  4.67886423e-08 9.99901891e-01 1.26844228e-07 8.88241374e-08\n",
      "  4.36098417e-05 1.02476086e-07 4.26763876e-07 1.11959275e-09\n",
      "  9.20800311e-11]]\n",
      "Answer: 9.0  Prediction: [[2.0604901e-05 1.4680536e-05 8.9481000e-05 2.5006573e-04 5.0227285e-05\n",
      "  4.4698063e-06 9.7850216e-07 1.6618409e-04 8.3905397e-06 9.9198830e-01\n",
      "  6.5795863e-03 8.2679203e-04 2.9041331e-07]]\n",
      "Answer: 1.0  Prediction: [[5.2218929e-06 9.9999094e-01 2.7041754e-08 3.8029516e-08 3.0436122e-06\n",
      "  1.9882608e-11 6.8441437e-12 3.9107778e-10 4.5759491e-10 5.1195731e-10\n",
      "  2.2419852e-12 5.3809549e-07 6.2518479e-14]]\n",
      "Answer: 0.0  Prediction: [[4.35981810e-01 1.50241237e-03 5.94121218e-02 4.58234221e-01\n",
      "  6.87502034e-05 2.78422135e-06 1.19231145e-05 1.22105496e-06\n",
      "  2.96778348e-03 2.34496201e-05 1.07014318e-06 4.17920090e-02\n",
      "  4.44630700e-07]]\n",
      "Answer: 1.0  Prediction: [[1.0483572e-05 9.9996376e-01 3.6284524e-07 1.7084828e-07 3.0932483e-06\n",
      "  4.3631687e-10 2.7889612e-11 2.4104163e-10 3.8268016e-08 1.0028821e-08\n",
      "  2.3939300e-11 2.2134769e-05 1.2869279e-12]]\n",
      "Answer: 6.0  Prediction: [[1.5367485e-06 8.4351981e-10 4.5154540e-08 1.7884227e-07 6.1068294e-04\n",
      "  1.5961760e-04 9.9786478e-01 7.5655371e-05 1.2864114e-03 7.2460411e-09\n",
      "  9.8310443e-07 5.6999063e-09 1.0368537e-11]]\n",
      "Answer: 7.0  Prediction: [[2.8752027e-06 7.9596958e-08 3.5048421e-07 1.2229222e-07 9.4157913e-06\n",
      "  1.5957705e-05 5.4329466e-03 9.9379057e-01 2.4625301e-06 7.4604577e-05\n",
      "  6.6992216e-04 6.4150532e-07 1.2463206e-09]]\n",
      "Answer: 9.0  Prediction: [[1.1159214e-05 1.3880008e-06 5.2102000e-06 1.9251041e-02 2.4081810e-06\n",
      "  2.0667711e-07 6.7114336e-09 2.0650610e-07 1.0842820e-06 9.6729863e-01\n",
      "  2.1244118e-04 1.3216274e-02 5.1284128e-09]]\n"
     ]
    }
   ],
   "source": [
    "# TEST: Load model and run it against test set\n",
    "model = models.load_model('./h5/recording23.h5')\n",
    "for i in range(0, 10):\n",
    "    print('Answer:', y_test[i], ' Prediction:', model.predict(np.expand_dims(x_test[i], 0)))"
   ]
  },
  {
   "cell_type": "code",
   "execution_count": 111,
   "metadata": {
    "colab": {
     "base_uri": "https://localhost:8080/"
    },
    "executionInfo": {
     "elapsed": 257,
     "status": "ok",
     "timestamp": 1623237375540,
     "user": {
      "displayName": "黃侯弼",
      "photoUrl": "",
      "userId": "02394864078410571973"
     },
     "user_tz": -480
    },
    "id": "F2N7VEDnDuDC",
    "outputId": "76a7172d-b0aa-46a9-c7fb-45f582e96cb6",
    "scrolled": true
   },
   "outputs": [
    {
     "name": "stdout",
     "output_type": "stream",
     "text": [
      "2/2 [==============================] - 0s 6ms/step - loss: 0.2502 - acc: 0.8611\n"
     ]
    },
    {
     "data": {
      "text/plain": [
       "[0.250222772359848, 0.8611111044883728]"
      ]
     },
     "execution_count": 111,
     "metadata": {},
     "output_type": "execute_result"
    }
   ],
   "source": [
    "# Evaluate model with test set\n",
    "model.evaluate(x=x_test, y=y_test)"
   ]
  },
  {
   "cell_type": "code",
   "execution_count": null,
   "metadata": {},
   "outputs": [],
   "source": []
  }
 ],
 "metadata": {
  "accelerator": "GPU",
  "colab": {
   "collapsed_sections": [],
   "name": "Classifier.ipynb",
   "provenance": []
  },
  "kernelspec": {
   "display_name": "Python 3",
   "language": "python",
   "name": "python3"
  },
  "language_info": {
   "codemirror_mode": {
    "name": "ipython",
    "version": 3
   },
   "file_extension": ".py",
   "mimetype": "text/x-python",
   "name": "python",
   "nbconvert_exporter": "python",
   "pygments_lexer": "ipython3",
   "version": "3.8.8"
  }
 },
 "nbformat": 4,
 "nbformat_minor": 1
}
