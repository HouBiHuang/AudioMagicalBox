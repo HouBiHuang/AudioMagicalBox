{
 "cells": [
  {
   "cell_type": "code",
   "execution_count": 220,
   "metadata": {
    "executionInfo": {
     "elapsed": 428,
     "status": "ok",
     "timestamp": 1623236061470,
     "user": {
      "displayName": "黃侯弼",
      "photoUrl": "",
      "userId": "02394864078410571973"
     },
     "user_tz": -480
    },
    "id": "iVhpbtg0DuC5"
   },
   "outputs": [],
   "source": [
    "from os import listdir\n",
    "from os.path import isdir, join\n",
    "from tensorflow.keras import layers, models\n",
    "import numpy as np"
   ]
  },
  {
   "cell_type": "code",
   "execution_count": 221,
   "metadata": {
    "colab": {
     "base_uri": "https://localhost:8080/"
    },
    "executionInfo": {
     "elapsed": 5,
     "status": "ok",
     "timestamp": 1623236062585,
     "user": {
      "displayName": "黃侯弼",
      "photoUrl": "",
      "userId": "02394864078410571973"
     },
     "user_tz": -480
    },
    "id": "MZI1urklDuC6",
    "outputId": "9344224f-90ed-4d09-80e4-efd8c4bb7cac"
   },
   "outputs": [
    {
     "name": "stdout",
     "output_type": "stream",
     "text": [
      "['ㄏㄧㄡ', 'ㄟ', '吼', '啦', '嗯', '的一個', '的這個', '的那個', '著', '那', '那那個', '阿']\n"
     ]
    }
   ],
   "source": [
    "# Create list of all targets (minus background noise)\n",
    "dataset_path = './recording'\n",
    "all_targets = all_targets = [name for name in listdir(dataset_path) if isdir(join(dataset_path, name))]\n",
    "print(all_targets)"
   ]
  },
  {
   "cell_type": "code",
   "execution_count": 222,
   "metadata": {
    "executionInfo": {
     "elapsed": 301,
     "status": "ok",
     "timestamp": 1623236063859,
     "user": {
      "displayName": "黃侯弼",
      "photoUrl": "",
      "userId": "02394864078410571973"
     },
     "user_tz": -480
    },
    "id": "WgAcVkOeDuC6"
   },
   "outputs": [],
   "source": [
    "# Settings\n",
    "feature_sets_path = './'\n",
    "feature_sets_filename = './recording23.npz'\n",
    "#model_filename = 'wake_word_stop_model.h5'\n",
    "#wake_word = '嗯'"
   ]
  },
  {
   "cell_type": "code",
   "execution_count": 223,
   "metadata": {
    "colab": {
     "base_uri": "https://localhost:8080/"
    },
    "executionInfo": {
     "elapsed": 458,
     "status": "ok",
     "timestamp": 1623236065288,
     "user": {
      "displayName": "黃侯弼",
      "photoUrl": "",
      "userId": "02394864078410571973"
     },
     "user_tz": -480
    },
    "id": "rJUTXuiVDuC7",
    "outputId": "4a7c5275-1bcb-4f85-dd65-18bb4e2630c9"
   },
   "outputs": [
    {
     "name": "stdout",
     "output_type": "stream",
     "text": [
      "['x_train', 'y_train', 'x_val', 'y_val', 'x_test', 'y_test']\n"
     ]
    }
   ],
   "source": [
    "# Load feature sets\n",
    "feature_sets = np.load(join(feature_sets_path, feature_sets_filename))\n",
    "print(feature_sets.files)"
   ]
  },
  {
   "cell_type": "code",
   "execution_count": 224,
   "metadata": {
    "colab": {
     "base_uri": "https://localhost:8080/"
    },
    "executionInfo": {
     "elapsed": 3,
     "status": "ok",
     "timestamp": 1623236066162,
     "user": {
      "displayName": "黃侯弼",
      "photoUrl": "",
      "userId": "02394864078410571973"
     },
     "user_tz": -480
    },
    "id": "0MTc8hMZDuC7",
    "outputId": "287b9ce7-b503-472c-dc22-1cf446a74c77"
   },
   "outputs": [
    {
     "name": "stdout",
     "output_type": "stream",
     "text": [
      "[ 8.  7.  5.  7.  3.  0.  8. 10. 10.  3. 10.  8.  8.  4.  1.  9.  6. 11.\n",
      " 11.  9.  6.  5. 11.  7.  1.  3.  4.  1. 10.  3. 11. 11.  4.  5.  9. 11.]\n",
      "[ 4.  2.  6.  8.  0.  6.  1.  4.  8.  3.  8. 11. 10.  2. 10.  6.  7.  7.\n",
      "  4.  2.  0.  5.  1.  1.  7.  6.  4.  7.  7.  1.  1.  1. 11.  7.  3.  6.\n",
      "  4.  7.  8.  6.  2.  5.  5. 11.  8.  8.  4.  3.  8.  8.  0.  4. 11.  4.\n",
      "  4.  5.  6.  1.  1.  8.  1.  4.  1.  9.  1.  2.  9.  6.  9.  1. 10.  0.\n",
      "  5.  0.  8.  9.  5.  3.  2.  2.  3.  4.  8.  9.  0.  2.  3. 11.  0.  1.\n",
      " 11.  7.  2.  6. 10.  7.  0.  3. 11.  9.  2.  3.  5.  7.  8. 10.  4.  8.\n",
      "  6.  0.  2.  3.  7.  8.  5.  6.  4.  6. 11. 10.  2. 11. 10.  5.  5.  0.\n",
      "  2.  9.  9.  3.  4.  5.  1.  0.  5. 11.  0.  3.  3.  1.  0.  5. 11.  3.\n",
      "  9. 10. 10.  8.  0.  9.  6.  9.  8.  3. 10.  2.  8.  9.  6.  4.  6. 10.\n",
      "  4.  2.  9. 10.  0.  2.  8.  1.  2.  1.  6.  1. 11.  7.  3.  1.  1.  9.\n",
      " 11.  2. 11.  5. 10.  0.  4. 11. 10. 11. 10.  2.  7.  7.  8.  4.  7.  0.\n",
      "  3.  0.  9.  6.  2.  7. 10.  8.  2.  7.  9.  7.  7.  3.  5.  2.  1. 11.\n",
      "  9.  4.  4. 10.  3.  1.  5.  5.  6.  2.  5.  9.  5.  0. 11.  0.  6.  4.\n",
      "  8.  2.  7.  7.  7.  4.  0. 11. 11.  2.  7. 11.  8. 10.  7. 10.  9.  6.\n",
      "  0.  5.  6.  3.  5.  3.  0.  2. 10.  9.  0.  7.  0.  4.  3.  1. 11.  5.\n",
      "  2.  2.  5.  0.  5.  0.  6.  2. 11.  0.  3. 10.  1.  6.  4.  5.  9.  5.]\n",
      "[ 6.  9.  1. 10. 11.  9.  8.  1.  8. 10. 10.  6.  3.  9.  4. 10.  9.  4.\n",
      "  3.  1.  6.  5.  8.  9.  6.  2.  6.  9.  8.  3.  3. 10.  7.  0.  4.  7.]\n"
     ]
    }
   ],
   "source": [
    "# Assign feature sets\n",
    "x_train = feature_sets['x_train']\n",
    "y_train = feature_sets['y_train']\n",
    "x_val = feature_sets['x_val']\n",
    "y_val = feature_sets['y_val']\n",
    "x_test = feature_sets['x_test']\n",
    "y_test = feature_sets['y_test']\n",
    "print(y_test)\n",
    "print(y_train)\n",
    "print(y_val)"
   ]
  },
  {
   "cell_type": "code",
   "execution_count": 225,
   "metadata": {
    "colab": {
     "base_uri": "https://localhost:8080/"
    },
    "executionInfo": {
     "elapsed": 262,
     "status": "ok",
     "timestamp": 1623236068434,
     "user": {
      "displayName": "黃侯弼",
      "photoUrl": "",
      "userId": "02394864078410571973"
     },
     "user_tz": -480
    },
    "id": "r2XzOXwdDuC8",
    "outputId": "6d00862e-4d37-415c-b854-22b4cdd10698"
   },
   "outputs": [
    {
     "name": "stdout",
     "output_type": "stream",
     "text": [
      "(288, 23, 16)\n",
      "(36, 23, 16)\n",
      "(36, 23, 16)\n"
     ]
    }
   ],
   "source": [
    "# Look at tensor dimensions\n",
    "print(x_train.shape)\n",
    "print(x_val.shape)\n",
    "print(x_test.shape)"
   ]
  },
  {
   "cell_type": "code",
   "execution_count": 226,
   "metadata": {
    "colab": {
     "base_uri": "https://localhost:8080/"
    },
    "executionInfo": {
     "elapsed": 439,
     "status": "ok",
     "timestamp": 1623236069774,
     "user": {
      "displayName": "黃侯弼",
      "photoUrl": "",
      "userId": "02394864078410571973"
     },
     "user_tz": -480
    },
    "id": "N-l9zl-GDuC9",
    "outputId": "fd2762fb-1345-41d2-8108-985fcd157a52"
   },
   "outputs": [
    {
     "name": "stdout",
     "output_type": "stream",
     "text": [
      "[ 6.  9.  1. 10. 11.  9.  8.  1.  8. 10. 10.  6.  3.  9.  4. 10.  9.  4.\n",
      "  3.  1.  6.  5.  8.  9.  6.  2.  6.  9.  8.  3.  3. 10.  7.  0.  4.  7.]\n"
     ]
    }
   ],
   "source": [
    "# Peek at labels\n",
    "print(y_val)"
   ]
  },
  {
   "cell_type": "code",
   "execution_count": 227,
   "metadata": {
    "colab": {
     "base_uri": "https://localhost:8080/"
    },
    "executionInfo": {
     "elapsed": 4,
     "status": "ok",
     "timestamp": 1623236070623,
     "user": {
      "displayName": "黃侯弼",
      "photoUrl": "",
      "userId": "02394864078410571973"
     },
     "user_tz": -480
    },
    "id": "nY3RGYbPDuC-",
    "outputId": "deded680-fc57-4da6-c054-a4648b5007eb"
   },
   "outputs": [
    {
     "name": "stdout",
     "output_type": "stream",
     "text": [
      "[ 8.  7.  5.  7.  3.  0.  8. 10. 10.  3. 10.  8.  8.  4.  1.  9.  6. 11.\n",
      " 11.  9.  6.  5. 11.  7.  1.  3.  4.  1. 10.  3. 11. 11.  4.  5.  9. 11.]\n"
     ]
    }
   ],
   "source": [
    "# Peek at labels after conversion\n",
    "print(y_test)"
   ]
  },
  {
   "cell_type": "code",
   "execution_count": 228,
   "metadata": {
    "colab": {
     "base_uri": "https://localhost:8080/"
    },
    "executionInfo": {
     "elapsed": 5,
     "status": "ok",
     "timestamp": 1623236071679,
     "user": {
      "displayName": "黃侯弼",
      "photoUrl": "",
      "userId": "02394864078410571973"
     },
     "user_tz": -480
    },
    "id": "8I1_x2yvDuC-",
    "outputId": "0d138400-6662-4175-8a1f-f640e3f2bf6d"
   },
   "outputs": [
    {
     "name": "stdout",
     "output_type": "stream",
     "text": [
      "(288, 23, 16)\n"
     ]
    }
   ],
   "source": [
    "# View the dimensions of our input data\n",
    "print(x_train.shape)"
   ]
  },
  {
   "cell_type": "code",
   "execution_count": 229,
   "metadata": {
    "colab": {
     "base_uri": "https://localhost:8080/"
    },
    "executionInfo": {
     "elapsed": 4,
     "status": "ok",
     "timestamp": 1623236072760,
     "user": {
      "displayName": "黃侯弼",
      "photoUrl": "",
      "userId": "02394864078410571973"
     },
     "user_tz": -480
    },
    "id": "i_zQsgz4DuC_",
    "outputId": "94a9c63d-7b06-4e8f-8c10-2aaab2aebe64",
    "scrolled": true
   },
   "outputs": [
    {
     "name": "stdout",
     "output_type": "stream",
     "text": [
      "(288, 23, 16, 1)\n",
      "(36, 23, 16, 1)\n",
      "(36, 23, 16, 1)\n"
     ]
    }
   ],
   "source": [
    "# CNN for TF expects (batch, height, width, channels)\n",
    "# So we reshape the input tensors with a \"color\" channel of 1\n",
    "x_train = x_train.reshape(x_train.shape[0], \n",
    "                          x_train.shape[1], \n",
    "                          x_train.shape[2], \n",
    "                          1)\n",
    "x_val = x_val.reshape(x_val.shape[0], \n",
    "                      x_val.shape[1], \n",
    "                      x_val.shape[2], \n",
    "                      1)\n",
    "x_test = x_test.reshape(x_test.shape[0], \n",
    "                        x_test.shape[1], \n",
    "                        x_test.shape[2], \n",
    "                        1)\n",
    "print(x_train.shape)\n",
    "print(x_val.shape)\n",
    "print(x_test.shape)"
   ]
  },
  {
   "cell_type": "code",
   "execution_count": 230,
   "metadata": {
    "colab": {
     "base_uri": "https://localhost:8080/"
    },
    "executionInfo": {
     "elapsed": 281,
     "status": "ok",
     "timestamp": 1623236074651,
     "user": {
      "displayName": "黃侯弼",
      "photoUrl": "",
      "userId": "02394864078410571973"
     },
     "user_tz": -480
    },
    "id": "Ge2MCNusDuC_",
    "outputId": "7c995061-d01d-4a96-a14f-fbee6804b4d4"
   },
   "outputs": [
    {
     "name": "stdout",
     "output_type": "stream",
     "text": [
      "(23, 16, 1)\n"
     ]
    }
   ],
   "source": [
    "# Input shape for CNN is size of MFCC of 1 sample\n",
    "sample_shape = x_test.shape[1:]\n",
    "print(sample_shape)"
   ]
  },
  {
   "cell_type": "code",
   "execution_count": 231,
   "metadata": {
    "colab": {
     "base_uri": "https://localhost:8080/"
    },
    "executionInfo": {
     "elapsed": 264,
     "status": "ok",
     "timestamp": 1623237350948,
     "user": {
      "displayName": "黃侯弼",
      "photoUrl": "",
      "userId": "02394864078410571973"
     },
     "user_tz": -480
    },
    "id": "2JqUOHp9DuDA",
    "outputId": "cc676686-8778-47c0-d5eb-183d137369d2"
   },
   "outputs": [
    {
     "name": "stdout",
     "output_type": "stream",
     "text": [
      "Model: \"sequential_32\"\n",
      "_________________________________________________________________\n",
      "Layer (type)                 Output Shape              Param #   \n",
      "=================================================================\n",
      "conv2d_64 (Conv2D)           (None, 22, 15, 32)        160       \n",
      "_________________________________________________________________\n",
      "max_pooling2d_64 (MaxPooling (None, 11, 7, 32)         0         \n",
      "_________________________________________________________________\n",
      "conv2d_65 (Conv2D)           (None, 10, 6, 64)         8256      \n",
      "_________________________________________________________________\n",
      "max_pooling2d_65 (MaxPooling (None, 5, 3, 64)          0         \n",
      "_________________________________________________________________\n",
      "dropout_64 (Dropout)         (None, 5, 3, 64)          0         \n",
      "_________________________________________________________________\n",
      "flatten_32 (Flatten)         (None, 960)               0         \n",
      "_________________________________________________________________\n",
      "dense_64 (Dense)             (None, 64)                61504     \n",
      "_________________________________________________________________\n",
      "dropout_65 (Dropout)         (None, 64)                0         \n",
      "_________________________________________________________________\n",
      "dense_65 (Dense)             (None, 12)                780       \n",
      "=================================================================\n",
      "Total params: 70,700\n",
      "Trainable params: 70,700\n",
      "Non-trainable params: 0\n",
      "_________________________________________________________________\n"
     ]
    }
   ],
   "source": [
    "model = models.Sequential()\n",
    "model.add(layers.Conv2D(32, (2, 2), activation='relu',input_shape=sample_shape))\n",
    "model.add(layers.MaxPooling2D(pool_size=(2, 2)))\n",
    "\n",
    "#model.add(layers.Conv2D(32, (2, 2), activation='relu'))\n",
    "#model.add(layers.MaxPooling2D(pool_size=(2, 2)))\n",
    "\n",
    "model.add(layers.Conv2D(64, (2, 2), activation='relu'))#64\n",
    "model.add(layers.MaxPooling2D(pool_size=(2, 2)))\n",
    "model.add(layers.Dropout(0.5))\n",
    "\n",
    "# Classifier\n",
    "model.add(layers.Flatten())\n",
    "model.add(layers.Dense(64, activation='relu'))#64\n",
    "model.add(layers.Dropout(0.5))\n",
    "model.add(layers.Dense(12, activation='softmax'))\n",
    "# Display model\n",
    "model.summary()\n"
   ]
  },
  {
   "cell_type": "code",
   "execution_count": 232,
   "metadata": {
    "colab": {
     "base_uri": "https://localhost:8080/"
    },
    "executionInfo": {
     "elapsed": 402,
     "status": "ok",
     "timestamp": 1623237353164,
     "user": {
      "displayName": "黃侯弼",
      "photoUrl": "",
      "userId": "02394864078410571973"
     },
     "user_tz": -480
    },
    "id": "sp5WfpkJDuDA",
    "outputId": "e7c65039-b132-4490-ce02-0897a4ca9bdc"
   },
   "outputs": [],
   "source": [
    "from tensorflow.keras import optimizers\n",
    "# Add training parameters to model\n",
    "model.compile(loss='sparse_categorical_crossentropy', \n",
    "              optimizer='adam',    #'adam'\n",
    "              metrics=['acc'])"
   ]
  },
  {
   "cell_type": "code",
   "execution_count": 233,
   "metadata": {
    "colab": {
     "base_uri": "https://localhost:8080/"
    },
    "executionInfo": {
     "elapsed": 6626,
     "status": "ok",
     "timestamp": 1623237360783,
     "user": {
      "displayName": "黃侯弼",
      "photoUrl": "",
      "userId": "02394864078410571973"
     },
     "user_tz": -480
    },
    "id": "s46KMbZbDuDB",
    "outputId": "ff0b8470-8926-4dd5-bd90-db3c765b1d90"
   },
   "outputs": [
    {
     "name": "stdout",
     "output_type": "stream",
     "text": [
      "Epoch 1/100\n",
      "15/15 [==============================] - 1s 18ms/step - loss: 4.2681 - acc: 0.1111 - val_loss: 2.5693 - val_acc: 0.0556\n",
      "Epoch 2/100\n",
      "15/15 [==============================] - 0s 8ms/step - loss: 2.6740 - acc: 0.1181 - val_loss: 2.4555 - val_acc: 0.1389\n",
      "Epoch 3/100\n",
      "15/15 [==============================] - 0s 8ms/step - loss: 2.4814 - acc: 0.1319 - val_loss: 2.4488 - val_acc: 0.0556\n",
      "Epoch 4/100\n",
      "15/15 [==============================] - 0s 8ms/step - loss: 2.4418 - acc: 0.1424 - val_loss: 2.4279 - val_acc: 0.0833\n",
      "Epoch 5/100\n",
      "15/15 [==============================] - 0s 8ms/step - loss: 2.3963 - acc: 0.1354 - val_loss: 2.3766 - val_acc: 0.0833\n",
      "Epoch 6/100\n",
      "15/15 [==============================] - 0s 9ms/step - loss: 2.2906 - acc: 0.1979 - val_loss: 2.3066 - val_acc: 0.1667\n",
      "Epoch 7/100\n",
      "15/15 [==============================] - 0s 8ms/step - loss: 2.2501 - acc: 0.2014 - val_loss: 2.2343 - val_acc: 0.1944\n",
      "Epoch 8/100\n",
      "15/15 [==============================] - 0s 8ms/step - loss: 2.1919 - acc: 0.2535 - val_loss: 2.0997 - val_acc: 0.3056\n",
      "Epoch 9/100\n",
      "15/15 [==============================] - 0s 8ms/step - loss: 2.0538 - acc: 0.2812 - val_loss: 1.9649 - val_acc: 0.3889\n",
      "Epoch 10/100\n",
      "15/15 [==============================] - 0s 8ms/step - loss: 2.0103 - acc: 0.2812 - val_loss: 1.8381 - val_acc: 0.4167\n",
      "Epoch 11/100\n",
      "15/15 [==============================] - 0s 8ms/step - loss: 1.9117 - acc: 0.3299 - val_loss: 1.7793 - val_acc: 0.3611\n",
      "Epoch 12/100\n",
      "15/15 [==============================] - 0s 8ms/step - loss: 1.8612 - acc: 0.3194 - val_loss: 1.7107 - val_acc: 0.4444\n",
      "Epoch 13/100\n",
      "15/15 [==============================] - 0s 8ms/step - loss: 1.7142 - acc: 0.4132 - val_loss: 1.6389 - val_acc: 0.5000\n",
      "Epoch 14/100\n",
      "15/15 [==============================] - 0s 8ms/step - loss: 1.6038 - acc: 0.4236 - val_loss: 1.5400 - val_acc: 0.4167\n",
      "Epoch 15/100\n",
      "15/15 [==============================] - 0s 8ms/step - loss: 1.4843 - acc: 0.4583 - val_loss: 1.4204 - val_acc: 0.5000\n",
      "Epoch 16/100\n",
      "15/15 [==============================] - 0s 8ms/step - loss: 1.4975 - acc: 0.4514 - val_loss: 1.4149 - val_acc: 0.5278\n",
      "Epoch 17/100\n",
      "15/15 [==============================] - 0s 8ms/step - loss: 1.4759 - acc: 0.5139 - val_loss: 1.3023 - val_acc: 0.5556\n",
      "Epoch 18/100\n",
      "15/15 [==============================] - 0s 8ms/step - loss: 1.2627 - acc: 0.5694 - val_loss: 1.2586 - val_acc: 0.5278\n",
      "Epoch 19/100\n",
      "15/15 [==============================] - 0s 8ms/step - loss: 1.2225 - acc: 0.5590 - val_loss: 1.2457 - val_acc: 0.5278\n",
      "Epoch 20/100\n",
      "15/15 [==============================] - 0s 8ms/step - loss: 1.1578 - acc: 0.5833 - val_loss: 1.2122 - val_acc: 0.5556\n",
      "Epoch 21/100\n",
      "15/15 [==============================] - 0s 8ms/step - loss: 1.1519 - acc: 0.6181 - val_loss: 1.1411 - val_acc: 0.6111\n",
      "Epoch 22/100\n",
      "15/15 [==============================] - 0s 8ms/step - loss: 1.1194 - acc: 0.6215 - val_loss: 1.0910 - val_acc: 0.6389\n",
      "Epoch 23/100\n",
      "15/15 [==============================] - 0s 8ms/step - loss: 0.9202 - acc: 0.6736 - val_loss: 1.0398 - val_acc: 0.5278\n",
      "Epoch 24/100\n",
      "15/15 [==============================] - 0s 8ms/step - loss: 1.0130 - acc: 0.6354 - val_loss: 1.0175 - val_acc: 0.6111\n",
      "Epoch 25/100\n",
      "15/15 [==============================] - 0s 8ms/step - loss: 0.8758 - acc: 0.7083 - val_loss: 0.9882 - val_acc: 0.6389\n",
      "Epoch 26/100\n",
      "15/15 [==============================] - 0s 8ms/step - loss: 0.8755 - acc: 0.7083 - val_loss: 0.9846 - val_acc: 0.6389\n",
      "Epoch 27/100\n",
      "15/15 [==============================] - 0s 8ms/step - loss: 0.7685 - acc: 0.7674 - val_loss: 0.8637 - val_acc: 0.7222\n",
      "Epoch 28/100\n",
      "15/15 [==============================] - 0s 8ms/step - loss: 0.8419 - acc: 0.7083 - val_loss: 0.9440 - val_acc: 0.6667\n",
      "Epoch 29/100\n",
      "15/15 [==============================] - 0s 8ms/step - loss: 0.8552 - acc: 0.7361 - val_loss: 0.9081 - val_acc: 0.6944\n",
      "Epoch 30/100\n",
      "15/15 [==============================] - 0s 7ms/step - loss: 0.7304 - acc: 0.7431 - val_loss: 0.8809 - val_acc: 0.6944\n",
      "Epoch 31/100\n",
      "15/15 [==============================] - 0s 8ms/step - loss: 0.7191 - acc: 0.7500 - val_loss: 0.7559 - val_acc: 0.8056\n",
      "Epoch 32/100\n",
      "15/15 [==============================] - 0s 8ms/step - loss: 0.5915 - acc: 0.8021 - val_loss: 0.7703 - val_acc: 0.7500\n",
      "Epoch 33/100\n",
      "15/15 [==============================] - 0s 8ms/step - loss: 0.6259 - acc: 0.7917 - val_loss: 0.7395 - val_acc: 0.7500\n",
      "Epoch 34/100\n",
      "15/15 [==============================] - 0s 8ms/step - loss: 0.6554 - acc: 0.7604 - val_loss: 0.8079 - val_acc: 0.7222\n",
      "Epoch 35/100\n",
      "15/15 [==============================] - 0s 8ms/step - loss: 0.6111 - acc: 0.8160 - val_loss: 0.7936 - val_acc: 0.6944\n",
      "Epoch 36/100\n",
      "15/15 [==============================] - 0s 8ms/step - loss: 0.5780 - acc: 0.8264 - val_loss: 0.6947 - val_acc: 0.7222\n",
      "Epoch 37/100\n",
      "15/15 [==============================] - 0s 8ms/step - loss: 0.5197 - acc: 0.8507 - val_loss: 0.7181 - val_acc: 0.7778\n",
      "Epoch 38/100\n",
      "15/15 [==============================] - 0s 8ms/step - loss: 0.5427 - acc: 0.8056 - val_loss: 0.6493 - val_acc: 0.7500\n",
      "Epoch 39/100\n",
      "15/15 [==============================] - 0s 8ms/step - loss: 0.5705 - acc: 0.8125 - val_loss: 0.6603 - val_acc: 0.7778\n",
      "Epoch 40/100\n",
      "15/15 [==============================] - 0s 8ms/step - loss: 0.5100 - acc: 0.8333 - val_loss: 0.6244 - val_acc: 0.7222\n",
      "Epoch 41/100\n",
      "15/15 [==============================] - 0s 8ms/step - loss: 0.4548 - acc: 0.8368 - val_loss: 0.6401 - val_acc: 0.7222\n",
      "Epoch 42/100\n",
      "15/15 [==============================] - 0s 8ms/step - loss: 0.4753 - acc: 0.8542 - val_loss: 0.5317 - val_acc: 0.8333\n",
      "Epoch 43/100\n",
      "15/15 [==============================] - 0s 8ms/step - loss: 0.4404 - acc: 0.8646 - val_loss: 0.5430 - val_acc: 0.7778\n",
      "Epoch 44/100\n",
      "15/15 [==============================] - 0s 8ms/step - loss: 0.4249 - acc: 0.8507 - val_loss: 0.5452 - val_acc: 0.8056\n",
      "Epoch 45/100\n",
      "15/15 [==============================] - 0s 9ms/step - loss: 0.4540 - acc: 0.8403 - val_loss: 0.6003 - val_acc: 0.7778\n",
      "Epoch 46/100\n",
      "15/15 [==============================] - 0s 8ms/step - loss: 0.4232 - acc: 0.8472 - val_loss: 0.7087 - val_acc: 0.7222\n",
      "Epoch 47/100\n",
      "15/15 [==============================] - 0s 8ms/step - loss: 0.3992 - acc: 0.8819 - val_loss: 0.5655 - val_acc: 0.7778\n",
      "Epoch 48/100\n",
      "15/15 [==============================] - 0s 8ms/step - loss: 0.3742 - acc: 0.8646 - val_loss: 0.5546 - val_acc: 0.8056\n",
      "Epoch 49/100\n",
      "15/15 [==============================] - 0s 8ms/step - loss: 0.4382 - acc: 0.8507 - val_loss: 0.5303 - val_acc: 0.8056\n",
      "Epoch 50/100\n",
      "15/15 [==============================] - 0s 7ms/step - loss: 0.3832 - acc: 0.8750 - val_loss: 0.5309 - val_acc: 0.8056\n",
      "Epoch 51/100\n",
      "15/15 [==============================] - 0s 8ms/step - loss: 0.4131 - acc: 0.8819 - val_loss: 0.4126 - val_acc: 0.8611\n",
      "Epoch 52/100\n",
      "15/15 [==============================] - 0s 8ms/step - loss: 0.3807 - acc: 0.8507 - val_loss: 0.4813 - val_acc: 0.8611\n",
      "Epoch 53/100\n",
      "15/15 [==============================] - 0s 8ms/step - loss: 0.3397 - acc: 0.8958 - val_loss: 0.5972 - val_acc: 0.7778\n",
      "Epoch 54/100\n",
      "15/15 [==============================] - 0s 8ms/step - loss: 0.3268 - acc: 0.8819 - val_loss: 0.5148 - val_acc: 0.8056\n",
      "Epoch 55/100\n",
      "15/15 [==============================] - 0s 8ms/step - loss: 0.3276 - acc: 0.9236 - val_loss: 0.5322 - val_acc: 0.8056\n",
      "Epoch 56/100\n",
      "15/15 [==============================] - 0s 8ms/step - loss: 0.2924 - acc: 0.8889 - val_loss: 0.4949 - val_acc: 0.8056\n",
      "Epoch 57/100\n",
      "15/15 [==============================] - 0s 7ms/step - loss: 0.2922 - acc: 0.8924 - val_loss: 0.4307 - val_acc: 0.8333\n",
      "Epoch 58/100\n",
      "15/15 [==============================] - 0s 8ms/step - loss: 0.3198 - acc: 0.8854 - val_loss: 0.5096 - val_acc: 0.8333\n",
      "Epoch 59/100\n",
      "15/15 [==============================] - 0s 8ms/step - loss: 0.3038 - acc: 0.8993 - val_loss: 0.4752 - val_acc: 0.8333\n",
      "Epoch 60/100\n",
      "15/15 [==============================] - 0s 9ms/step - loss: 0.3251 - acc: 0.8958 - val_loss: 0.4466 - val_acc: 0.8056\n",
      "Epoch 61/100\n",
      "15/15 [==============================] - 0s 8ms/step - loss: 0.2629 - acc: 0.9236 - val_loss: 0.4499 - val_acc: 0.7778\n",
      "Epoch 62/100\n",
      "15/15 [==============================] - 0s 8ms/step - loss: 0.2444 - acc: 0.9028 - val_loss: 0.4806 - val_acc: 0.8056\n",
      "Epoch 63/100\n"
     ]
    },
    {
     "name": "stdout",
     "output_type": "stream",
     "text": [
      "15/15 [==============================] - 0s 8ms/step - loss: 0.2789 - acc: 0.9062 - val_loss: 0.4158 - val_acc: 0.8056\n",
      "Epoch 64/100\n",
      "15/15 [==============================] - 0s 8ms/step - loss: 0.2965 - acc: 0.8958 - val_loss: 0.4416 - val_acc: 0.8056\n",
      "Epoch 65/100\n",
      "15/15 [==============================] - 0s 8ms/step - loss: 0.2842 - acc: 0.8958 - val_loss: 0.3909 - val_acc: 0.8056\n",
      "Epoch 66/100\n",
      "15/15 [==============================] - 0s 8ms/step - loss: 0.2535 - acc: 0.9271 - val_loss: 0.3748 - val_acc: 0.8611\n",
      "Epoch 67/100\n",
      "15/15 [==============================] - 0s 8ms/step - loss: 0.3396 - acc: 0.8889 - val_loss: 0.4331 - val_acc: 0.8056\n",
      "Epoch 68/100\n",
      "15/15 [==============================] - 0s 8ms/step - loss: 0.2544 - acc: 0.9167 - val_loss: 0.3836 - val_acc: 0.8056\n",
      "Epoch 69/100\n",
      "15/15 [==============================] - 0s 8ms/step - loss: 0.2666 - acc: 0.9028 - val_loss: 0.3606 - val_acc: 0.8333\n",
      "Epoch 70/100\n",
      "15/15 [==============================] - 0s 8ms/step - loss: 0.1994 - acc: 0.9375 - val_loss: 0.3352 - val_acc: 0.8611\n",
      "Epoch 71/100\n",
      "15/15 [==============================] - 0s 8ms/step - loss: 0.2027 - acc: 0.9375 - val_loss: 0.3801 - val_acc: 0.8333\n",
      "Epoch 72/100\n",
      "15/15 [==============================] - 0s 8ms/step - loss: 0.2121 - acc: 0.9236 - val_loss: 0.4494 - val_acc: 0.8333\n",
      "Epoch 73/100\n",
      "15/15 [==============================] - 0s 8ms/step - loss: 0.1923 - acc: 0.9410 - val_loss: 0.3935 - val_acc: 0.8333\n",
      "Epoch 74/100\n",
      "15/15 [==============================] - 0s 8ms/step - loss: 0.2246 - acc: 0.9236 - val_loss: 0.4849 - val_acc: 0.8333\n",
      "Epoch 75/100\n",
      "15/15 [==============================] - 0s 8ms/step - loss: 0.2428 - acc: 0.9097 - val_loss: 0.3983 - val_acc: 0.8056\n",
      "Epoch 76/100\n",
      "15/15 [==============================] - 0s 8ms/step - loss: 0.1422 - acc: 0.9549 - val_loss: 0.3575 - val_acc: 0.8333\n",
      "Epoch 77/100\n",
      "15/15 [==============================] - 0s 8ms/step - loss: 0.1612 - acc: 0.9410 - val_loss: 0.3399 - val_acc: 0.8611\n",
      "Epoch 78/100\n",
      "15/15 [==============================] - 0s 8ms/step - loss: 0.2117 - acc: 0.9097 - val_loss: 0.3616 - val_acc: 0.8333\n",
      "Epoch 79/100\n",
      "15/15 [==============================] - 0s 8ms/step - loss: 0.1909 - acc: 0.9340 - val_loss: 0.3941 - val_acc: 0.8056\n",
      "Epoch 80/100\n",
      "15/15 [==============================] - 0s 8ms/step - loss: 0.1791 - acc: 0.9479 - val_loss: 0.4352 - val_acc: 0.7778\n",
      "Epoch 81/100\n",
      "15/15 [==============================] - 0s 8ms/step - loss: 0.1638 - acc: 0.9444 - val_loss: 0.3578 - val_acc: 0.7778\n",
      "Epoch 82/100\n",
      "15/15 [==============================] - 0s 8ms/step - loss: 0.1942 - acc: 0.9375 - val_loss: 0.3881 - val_acc: 0.8611\n",
      "Epoch 83/100\n",
      "15/15 [==============================] - 0s 8ms/step - loss: 0.2473 - acc: 0.9097 - val_loss: 0.3440 - val_acc: 0.8333\n",
      "Epoch 84/100\n",
      "15/15 [==============================] - 0s 8ms/step - loss: 0.1930 - acc: 0.9410 - val_loss: 0.2935 - val_acc: 0.8333\n",
      "Epoch 85/100\n",
      "15/15 [==============================] - 0s 8ms/step - loss: 0.1787 - acc: 0.9375 - val_loss: 0.3922 - val_acc: 0.8333\n",
      "Epoch 86/100\n",
      "15/15 [==============================] - 0s 8ms/step - loss: 0.1775 - acc: 0.9410 - val_loss: 0.3270 - val_acc: 0.8333\n",
      "Epoch 87/100\n",
      "15/15 [==============================] - 0s 8ms/step - loss: 0.2298 - acc: 0.9132 - val_loss: 0.4459 - val_acc: 0.8056\n",
      "Epoch 88/100\n",
      "15/15 [==============================] - 0s 8ms/step - loss: 0.2004 - acc: 0.9167 - val_loss: 0.4508 - val_acc: 0.8333\n",
      "Epoch 89/100\n",
      "15/15 [==============================] - 0s 8ms/step - loss: 0.1636 - acc: 0.9375 - val_loss: 0.3956 - val_acc: 0.8611\n",
      "Epoch 90/100\n",
      "15/15 [==============================] - 0s 8ms/step - loss: 0.1646 - acc: 0.9410 - val_loss: 0.4339 - val_acc: 0.8333\n",
      "Epoch 91/100\n",
      "15/15 [==============================] - 0s 8ms/step - loss: 0.1148 - acc: 0.9688 - val_loss: 0.5316 - val_acc: 0.8056\n",
      "Epoch 92/100\n",
      "15/15 [==============================] - 0s 8ms/step - loss: 0.2144 - acc: 0.9410 - val_loss: 0.5004 - val_acc: 0.7778\n",
      "Epoch 93/100\n",
      "15/15 [==============================] - 0s 8ms/step - loss: 0.1638 - acc: 0.9514 - val_loss: 0.4707 - val_acc: 0.7778\n",
      "Epoch 94/100\n",
      "15/15 [==============================] - 0s 8ms/step - loss: 0.1770 - acc: 0.9479 - val_loss: 0.4632 - val_acc: 0.7778\n",
      "Epoch 95/100\n",
      "15/15 [==============================] - 0s 9ms/step - loss: 0.1079 - acc: 0.9722 - val_loss: 0.4242 - val_acc: 0.8333\n",
      "Epoch 96/100\n",
      "15/15 [==============================] - 0s 8ms/step - loss: 0.1891 - acc: 0.9375 - val_loss: 0.3228 - val_acc: 0.8056\n",
      "Epoch 97/100\n",
      "15/15 [==============================] - 0s 8ms/step - loss: 0.1174 - acc: 0.9618 - val_loss: 0.3444 - val_acc: 0.8056\n",
      "Epoch 98/100\n",
      "15/15 [==============================] - 0s 8ms/step - loss: 0.1620 - acc: 0.9444 - val_loss: 0.4160 - val_acc: 0.8056\n",
      "Epoch 99/100\n",
      "15/15 [==============================] - 0s 8ms/step - loss: 0.2180 - acc: 0.9340 - val_loss: 0.3343 - val_acc: 0.8333\n",
      "Epoch 100/100\n",
      "15/15 [==============================] - 0s 8ms/step - loss: 0.1634 - acc: 0.9583 - val_loss: 0.2834 - val_acc: 0.8611\n"
     ]
    }
   ],
   "source": [
    "# Train\n",
    "history = model.fit(x_train, \n",
    "                    y_train, \n",
    "                    epochs=100,\n",
    "                    batch_size=20,\n",
    "                    validation_data=(x_val, y_val))"
   ]
  },
  {
   "cell_type": "code",
   "execution_count": 234,
   "metadata": {
    "colab": {
     "base_uri": "https://localhost:8080/",
     "height": 545
    },
    "executionInfo": {
     "elapsed": 1003,
     "status": "ok",
     "timestamp": 1623237367971,
     "user": {
      "displayName": "黃侯弼",
      "photoUrl": "",
      "userId": "02394864078410571973"
     },
     "user_tz": -480
    },
    "id": "UHFvFGu9DuDB",
    "outputId": "d91020e9-a37e-47d8-c204-00bf612c2908"
   },
   "outputs": [
    {
     "data": {
      "image/png": "[encoded data removed]",
      "text/plain": [
       "<Figure size 432x288 with 1 Axes>"
      ]
     },
     "metadata": {
      "needs_background": "light"
     },
     "output_type": "display_data"
    },
    {
     "data": {
      "image/png": "[encoded data removed]",
      "text/plain": [
       "<Figure size 432x288 with 1 Axes>"
      ]
     },
     "metadata": {
      "needs_background": "light"
     },
     "output_type": "display_data"
    }
   ],
   "source": [
    "# Plot results\n",
    "import matplotlib.pyplot as plt\n",
    "\n",
    "acc = history.history['acc']\n",
    "val_acc = history.history['val_acc']\n",
    "loss = history.history['loss']\n",
    "val_loss = history.history['val_loss']\n",
    "\n",
    "epochs = range(1, len(acc) + 1)\n",
    "\n",
    "plt.plot(epochs, acc, 'bo', label='Training acc')\n",
    "plt.plot(epochs, val_acc, 'b', label='Validation acc')\n",
    "plt.title('Training and validation accuracy')\n",
    "plt.legend()\n",
    "\n",
    "plt.figure()\n",
    "\n",
    "plt.plot(epochs, loss, 'bo', label='Training loss')\n",
    "plt.plot(epochs, val_loss, 'b', label='Validation loss')\n",
    "plt.title('Training and validation loss')\n",
    "plt.legend()\n",
    "\n",
    "plt.show()"
   ]
  },
  {
   "cell_type": "code",
   "execution_count": 235,
   "metadata": {
    "executionInfo": {
     "elapsed": 263,
     "status": "ok",
     "timestamp": 1623237370995,
     "user": {
      "displayName": "黃侯弼",
      "photoUrl": "",
      "userId": "02394864078410571973"
     },
     "user_tz": -480
    },
    "id": "mKcsAPK-DuDB"
   },
   "outputs": [],
   "source": [
    "# Save the model as a file\n",
    "models.save_model(model, './h5/recording23.h5')"
   ]
  },
  {
   "cell_type": "code",
   "execution_count": 236,
   "metadata": {
    "colab": {
     "base_uri": "https://localhost:8080/"
    },
    "executionInfo": {
     "elapsed": 774,
     "status": "ok",
     "timestamp": 1623237372852,
     "user": {
      "displayName": "黃侯弼",
      "photoUrl": "",
      "userId": "02394864078410571973"
     },
     "user_tz": -480
    },
    "id": "rOAEZ7PKDuDC",
    "outputId": "ec42e9de-9b6c-4269-b804-bd8df580acf4"
   },
   "outputs": [
    {
     "name": "stdout",
     "output_type": "stream",
     "text": [
      "Answer: 8.0  Prediction: [[7.7170341e-07 6.7720214e-07 1.2239425e-08 1.0102544e-05 9.1334451e-03\n",
      "  1.0001863e-03 8.9932048e-01 1.5631380e-02 7.4790291e-02 2.3238368e-07\n",
      "  1.0916265e-04 3.2010325e-06]]\n",
      "Answer: 7.0  Prediction: [[2.4337703e-04 2.4180707e-04 3.4571791e-04 2.8329002e-04 1.3828160e-01\n",
      "  4.6921752e-02 2.8263536e-01 4.3691817e-01 2.8202077e-02 1.1773586e-02\n",
      "  5.3790383e-02 3.6289502e-04]]\n",
      "Answer: 5.0  Prediction: [[8.1522339e-06 2.8254910e-05 5.4255605e-07 4.8344464e-07 9.7444732e-05\n",
      "  9.9957365e-01 1.0502384e-05 8.5845379e-05 1.9456325e-04 2.7466454e-08\n",
      "  4.8181903e-07 1.4041021e-08]]\n",
      "Answer: 7.0  Prediction: [[0.00548382 0.01187502 0.00396691 0.0044921  0.07582843 0.1335513\n",
      "  0.3441437  0.35576946 0.00852233 0.00518534 0.04634767 0.00483395]]\n",
      "Answer: 3.0  Prediction: [[5.29267068e-04 1.96795440e-06 2.38767061e-05 9.87602890e-01\n",
      "  9.76871979e-06 2.81757053e-07 5.52930578e-06 2.53912663e-06\n",
      "  6.66958094e-03 4.52228915e-03 1.18704396e-04 5.13361068e-04]]\n",
      "Answer: 0.0  Prediction: [[9.9771082e-01 1.4440055e-04 1.2293053e-04 1.2540277e-03 1.0187529e-06\n",
      "  2.3828865e-04 1.1614152e-07 2.4906919e-07 4.9847231e-04 8.8510438e-07\n",
      "  3.0597813e-09 2.8809305e-05]]\n",
      "Answer: 8.0  Prediction: [[1.5268856e-02 4.9515271e-05 2.9486890e-05 4.3556052e-03 2.1940429e-04\n",
      "  3.1925147e-04 8.5852553e-05 8.8994566e-05 9.7920173e-01 2.3507889e-04\n",
      "  9.2984628e-06 1.3681817e-04]]\n",
      "Answer: 10.0  Prediction: [[1.0301603e-06 4.1972180e-05 5.4899747e-08 7.4254811e-09 2.6975037e-04\n",
      "  1.2542140e-04 1.7771455e-02 1.2324782e-01 2.0717496e-06 1.9742622e-06\n",
      "  8.5853183e-01 6.5571494e-06]]\n",
      "Answer: 10.0  Prediction: [[4.0917419e-07 8.4652498e-08 3.1926277e-06 2.0987743e-04 5.6754878e-05\n",
      "  1.2017259e-07 1.7543418e-05 2.6638620e-04 8.9509067e-06 1.0466132e-02\n",
      "  9.8896688e-01 3.6673014e-06]]\n",
      "Answer: 3.0  Prediction: [[2.9392570e-05 4.8586302e-05 6.7771362e-05 9.7065496e-01 3.4393233e-05\n",
      "  3.0490636e-08 2.0970532e-07 3.1249996e-07 3.2953296e-05 2.5947180e-02\n",
      "  3.0670229e-03 1.1709762e-04]]\n"
     ]
    }
   ],
   "source": [
    "# TEST: Load model and run it against test set\n",
    "model = models.load_model('./h5/recording23.h5')\n",
    "for i in range(0, 10):\n",
    "    print('Answer:', y_test[i], ' Prediction:', model.predict(np.expand_dims(x_test[i], 0)))"
   ]
  },
  {
   "cell_type": "code",
   "execution_count": 237,
   "metadata": {
    "colab": {
     "base_uri": "https://localhost:8080/"
    },
    "executionInfo": {
     "elapsed": 257,
     "status": "ok",
     "timestamp": 1623237375540,
     "user": {
      "displayName": "黃侯弼",
      "photoUrl": "",
      "userId": "02394864078410571973"
     },
     "user_tz": -480
    },
    "id": "F2N7VEDnDuDC",
    "outputId": "76a7172d-b0aa-46a9-c7fb-45f582e96cb6",
    "scrolled": true
   },
   "outputs": [
    {
     "name": "stdout",
     "output_type": "stream",
     "text": [
      "2/2 [==============================] - 0s 6ms/step - loss: 0.2395 - acc: 0.9444\n"
     ]
    },
    {
     "data": {
      "text/plain": [
       "[0.2395038902759552, 0.9444444179534912]"
      ]
     },
     "execution_count": 237,
     "metadata": {},
     "output_type": "execute_result"
    }
   ],
   "source": [
    "# Evaluate model with test set\n",
    "model.evaluate(x=x_test, y=y_test)"
   ]
  },
  {
   "cell_type": "code",
   "execution_count": null,
   "metadata": {},
   "outputs": [],
   "source": []
  },
  {
   "cell_type": "code",
   "execution_count": null,
   "metadata": {},
   "outputs": [],
   "source": []
  }
 ],
 "metadata": {
  "accelerator": "GPU",
  "colab": {
   "collapsed_sections": [],
   "name": "Classifier.ipynb",
   "provenance": []
  },
  "kernelspec": {
   "display_name": "Python 3",
   "language": "python",
   "name": "python3"
  },
  "language_info": {
   "codemirror_mode": {
    "name": "ipython",
    "version": 3
   },
   "file_extension": ".py",
   "mimetype": "text/x-python",
   "name": "python",
   "nbconvert_exporter": "python",
   "pygments_lexer": "ipython3",
   "version": "3.8.8"
  }
 },
 "nbformat": 4,
 "nbformat_minor": 1
}
