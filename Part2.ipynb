{
 "cells": [
  {
   "cell_type": "code",
   "execution_count": null,
   "metadata": {
    "executionInfo": {
     "elapsed": 428,
     "status": "ok",
     "timestamp": 1623236061470,
     "user": {
      "displayName": "黃侯弼",
      "photoUrl": "",
      "userId": "02394864078410571973"
     },
     "user_tz": -480
    },
    "id": "iVhpbtg0DuC5"
   },
   "outputs": [],
   "source": [
    "from os import listdir\n",
    "from os.path import isdir, join\n",
    "from tensorflow.keras import layers, models\n",
    "import numpy as np\n",
    "from sklearn.metrics import confusion_matrix\n",
    "import sounddevice as sd\n",
    "from timeit import default_timer as timer\n",
    "import python_speech_features\n",
    "from IPython.display import clear_output\n",
    "import matplotlib.pyplot as plt"
   ]
  },
  {
   "cell_type": "code",
   "execution_count": null,
   "metadata": {
    "colab": {
     "base_uri": "https://localhost:8080/"
    },
    "executionInfo": {
     "elapsed": 5,
     "status": "ok",
     "timestamp": 1623236062585,
     "user": {
      "displayName": "黃侯弼",
      "photoUrl": "",
      "userId": "02394864078410571973"
     },
     "user_tz": -480
    },
    "id": "MZI1urklDuC6",
    "outputId": "9344224f-90ed-4d09-80e4-efd8c4bb7cac"
   },
   "outputs": [],
   "source": [
    "# Create list of all targets (minus background noise)\n",
    "dataset_path = './recording9'\n",
    "all_targets = [name for name in listdir(dataset_path) if isdir(join(dataset_path, name))]\n",
    "print(all_targets)"
   ]
  },
  {
   "cell_type": "code",
   "execution_count": null,
   "metadata": {
    "executionInfo": {
     "elapsed": 301,
     "status": "ok",
     "timestamp": 1623236063859,
     "user": {
      "displayName": "黃侯弼",
      "photoUrl": "",
      "userId": "02394864078410571973"
     },
     "user_tz": -480
    },
    "id": "WgAcVkOeDuC6"
   },
   "outputs": [],
   "source": [
    "# Settings\n",
    "feature_sets_path = './npz_normalize/'\n",
    "feature_sets_filename = 'recording9_fbank.npz'\n",
    "model_filename = './h5_normalize/recording9_fbank.h5'"
   ]
  },
  {
   "cell_type": "code",
   "execution_count": null,
   "metadata": {
    "colab": {
     "base_uri": "https://localhost:8080/"
    },
    "executionInfo": {
     "elapsed": 458,
     "status": "ok",
     "timestamp": 1623236065288,
     "user": {
      "displayName": "黃侯弼",
      "photoUrl": "",
      "userId": "02394864078410571973"
     },
     "user_tz": -480
    },
    "id": "rJUTXuiVDuC7",
    "outputId": "4a7c5275-1bcb-4f85-dd65-18bb4e2630c9"
   },
   "outputs": [],
   "source": [
    "# Load feature sets\n",
    "feature_sets = np.load(join(feature_sets_path, feature_sets_filename))\n",
    "print(feature_sets.files)"
   ]
  },
  {
   "cell_type": "code",
   "execution_count": null,
   "metadata": {
    "colab": {
     "base_uri": "https://localhost:8080/"
    },
    "executionInfo": {
     "elapsed": 3,
     "status": "ok",
     "timestamp": 1623236066162,
     "user": {
      "displayName": "黃侯弼",
      "photoUrl": "",
      "userId": "02394864078410571973"
     },
     "user_tz": -480
    },
    "id": "0MTc8hMZDuC7",
    "outputId": "287b9ce7-b503-472c-dc22-1cf446a74c77"
   },
   "outputs": [],
   "source": [
    "# Assign feature sets\n",
    "x_train = feature_sets['x_train']\n",
    "y_train = feature_sets['y_train']\n",
    "x_val = feature_sets['x_val']\n",
    "y_val = feature_sets['y_val']\n",
    "x_test = feature_sets['x_test']\n",
    "y_test = feature_sets['y_test']\n",
    "print(y_test)\n",
    "print(y_train)\n",
    "print(y_val)"
   ]
  },
  {
   "cell_type": "code",
   "execution_count": null,
   "metadata": {
    "colab": {
     "base_uri": "https://localhost:8080/"
    },
    "executionInfo": {
     "elapsed": 262,
     "status": "ok",
     "timestamp": 1623236068434,
     "user": {
      "displayName": "黃侯弼",
      "photoUrl": "",
      "userId": "02394864078410571973"
     },
     "user_tz": -480
    },
    "id": "r2XzOXwdDuC8",
    "outputId": "6d00862e-4d37-415c-b854-22b4cdd10698"
   },
   "outputs": [],
   "source": [
    "# Look at tensor dimensions\n",
    "print(x_train.shape)\n",
    "print(x_val.shape)\n",
    "print(x_test.shape)"
   ]
  },
  {
   "cell_type": "code",
   "execution_count": null,
   "metadata": {
    "colab": {
     "base_uri": "https://localhost:8080/"
    },
    "executionInfo": {
     "elapsed": 439,
     "status": "ok",
     "timestamp": 1623236069774,
     "user": {
      "displayName": "黃侯弼",
      "photoUrl": "",
      "userId": "02394864078410571973"
     },
     "user_tz": -480
    },
    "id": "N-l9zl-GDuC9",
    "outputId": "fd2762fb-1345-41d2-8108-985fcd157a52"
   },
   "outputs": [],
   "source": [
    "# Peek at labels\n",
    "print(y_val)"
   ]
  },
  {
   "cell_type": "code",
   "execution_count": null,
   "metadata": {
    "colab": {
     "base_uri": "https://localhost:8080/"
    },
    "executionInfo": {
     "elapsed": 4,
     "status": "ok",
     "timestamp": 1623236070623,
     "user": {
      "displayName": "黃侯弼",
      "photoUrl": "",
      "userId": "02394864078410571973"
     },
     "user_tz": -480
    },
    "id": "nY3RGYbPDuC-",
    "outputId": "deded680-fc57-4da6-c054-a4648b5007eb"
   },
   "outputs": [],
   "source": [
    "# Peek at labels after conversion\n",
    "print(y_test)"
   ]
  },
  {
   "cell_type": "code",
   "execution_count": null,
   "metadata": {
    "colab": {
     "base_uri": "https://localhost:8080/"
    },
    "executionInfo": {
     "elapsed": 5,
     "status": "ok",
     "timestamp": 1623236071679,
     "user": {
      "displayName": "黃侯弼",
      "photoUrl": "",
      "userId": "02394864078410571973"
     },
     "user_tz": -480
    },
    "id": "8I1_x2yvDuC-",
    "outputId": "0d138400-6662-4175-8a1f-f640e3f2bf6d"
   },
   "outputs": [],
   "source": [
    "# View the dimensions of our input data\n",
    "print(x_train.shape)"
   ]
  },
  {
   "cell_type": "code",
   "execution_count": null,
   "metadata": {
    "colab": {
     "base_uri": "https://localhost:8080/"
    },
    "executionInfo": {
     "elapsed": 4,
     "status": "ok",
     "timestamp": 1623236072760,
     "user": {
      "displayName": "黃侯弼",
      "photoUrl": "",
      "userId": "02394864078410571973"
     },
     "user_tz": -480
    },
    "id": "i_zQsgz4DuC_",
    "outputId": "94a9c63d-7b06-4e8f-8c10-2aaab2aebe64",
    "scrolled": true
   },
   "outputs": [],
   "source": [
    "# CNN for TF expects (batch, height, width, channels)\n",
    "# So we reshape the input tensors with a \"color\" channel of 1\n",
    "x_train = x_train.reshape(x_train.shape[0], \n",
    "                          x_train.shape[1], \n",
    "                          x_train.shape[2], \n",
    "                          1)\n",
    "x_val = x_val.reshape(x_val.shape[0], \n",
    "                      x_val.shape[1], \n",
    "                      x_val.shape[2], \n",
    "                      1)\n",
    "x_test = x_test.reshape(x_test.shape[0], \n",
    "                        x_test.shape[1], \n",
    "                        x_test.shape[2], \n",
    "                        1)\n",
    "print(x_train.shape)\n",
    "print(x_val.shape)\n",
    "print(x_test.shape)"
   ]
  },
  {
   "cell_type": "code",
   "execution_count": null,
   "metadata": {
    "colab": {
     "base_uri": "https://localhost:8080/"
    },
    "executionInfo": {
     "elapsed": 281,
     "status": "ok",
     "timestamp": 1623236074651,
     "user": {
      "displayName": "黃侯弼",
      "photoUrl": "",
      "userId": "02394864078410571973"
     },
     "user_tz": -480
    },
    "id": "Ge2MCNusDuC_",
    "outputId": "7c995061-d01d-4a96-a14f-fbee6804b4d4"
   },
   "outputs": [],
   "source": [
    "# Input shape for CNN is size of MFCC of 1 sample\n",
    "sample_shape = x_test.shape[1:]\n",
    "print(sample_shape)"
   ]
  },
  {
   "cell_type": "code",
   "execution_count": null,
   "metadata": {
    "colab": {
     "base_uri": "https://localhost:8080/"
    },
    "executionInfo": {
     "elapsed": 264,
     "status": "ok",
     "timestamp": 1623237350948,
     "user": {
      "displayName": "黃侯弼",
      "photoUrl": "",
      "userId": "02394864078410571973"
     },
     "user_tz": -480
    },
    "id": "2JqUOHp9DuDA",
    "outputId": "cc676686-8778-47c0-d5eb-183d137369d2"
   },
   "outputs": [],
   "source": [
    "model = models.Sequential()\n",
    "model.add(layers.Conv2D(32, (2, 2), activation='relu',input_shape=sample_shape))\n",
    "model.add(layers.MaxPooling2D(pool_size=(2, 2)))\n",
    "\n",
    "model.add(layers.Conv2D(64, (2, 2), activation='relu'))\n",
    "model.add(layers.MaxPooling2D(pool_size=(2, 2)))\n",
    "\n",
    "model.add(layers.Conv2D(128, (2, 2), activation='relu'))\n",
    "model.add(layers.MaxPooling2D(pool_size=(1, 1)))\n",
    "model.add(layers.Dropout(0.2))\n",
    "\n",
    "# Classifier\n",
    "model.add(layers.Flatten())\n",
    "model.add(layers.Dense(64, activation='relu'))\n",
    "model.add(layers.Dropout(0.2))\n",
    "model.add(layers.Dense(15, activation='softmax'))\n",
    "# Display model\n",
    "model.summary()\n"
   ]
  },
  {
   "cell_type": "code",
   "execution_count": null,
   "metadata": {
    "colab": {
     "base_uri": "https://localhost:8080/"
    },
    "executionInfo": {
     "elapsed": 402,
     "status": "ok",
     "timestamp": 1623237353164,
     "user": {
      "displayName": "黃侯弼",
      "photoUrl": "",
      "userId": "02394864078410571973"
     },
     "user_tz": -480
    },
    "id": "sp5WfpkJDuDA",
    "outputId": "e7c65039-b132-4490-ce02-0897a4ca9bdc"
   },
   "outputs": [],
   "source": [
    "from tensorflow.keras import optimizers\n",
    "# Add training parameters to model\n",
    "model.compile(loss='sparse_categorical_crossentropy', \n",
    "              optimizer='adam',\n",
    "              metrics=['acc'])"
   ]
  },
  {
   "cell_type": "code",
   "execution_count": null,
   "metadata": {
    "colab": {
     "base_uri": "https://localhost:8080/"
    },
    "executionInfo": {
     "elapsed": 6626,
     "status": "ok",
     "timestamp": 1623237360783,
     "user": {
      "displayName": "黃侯弼",
      "photoUrl": "",
      "userId": "02394864078410571973"
     },
     "user_tz": -480
    },
    "id": "s46KMbZbDuDB",
    "outputId": "ff0b8470-8926-4dd5-bd90-db3c765b1d90",
    "scrolled": true
   },
   "outputs": [],
   "source": [
    "# Train\n",
    "history = model.fit(x_train, \n",
    "                    y_train, \n",
    "                    epochs=50,\n",
    "                    batch_size=50, #50\n",
    "                    validation_data=(x_val, y_val))"
   ]
  },
  {
   "cell_type": "code",
   "execution_count": null,
   "metadata": {
    "colab": {
     "base_uri": "https://localhost:8080/",
     "height": 545
    },
    "executionInfo": {
     "elapsed": 1003,
     "status": "ok",
     "timestamp": 1623237367971,
     "user": {
      "displayName": "黃侯弼",
      "photoUrl": "",
      "userId": "02394864078410571973"
     },
     "user_tz": -480
    },
    "id": "UHFvFGu9DuDB",
    "outputId": "d91020e9-a37e-47d8-c204-00bf612c2908"
   },
   "outputs": [],
   "source": [
    "# Plot results\n",
    "\n",
    "\n",
    "acc = history.history['acc']\n",
    "val_acc = history.history['val_acc']\n",
    "loss = history.history['loss']\n",
    "val_loss = history.history['val_loss']\n",
    "\n",
    "epochs = range(1, len(acc) + 1)\n",
    "\n",
    "plt.plot(epochs, acc, 'bo', label='Training acc')\n",
    "plt.plot(epochs, val_acc, 'b', label='Validation acc')\n",
    "plt.title('Training and validation accuracy')\n",
    "plt.legend()\n",
    "\n",
    "plt.figure()\n",
    "\n",
    "plt.plot(epochs, loss, 'bo', label='Training loss')\n",
    "plt.plot(epochs, val_loss, 'b', label='Validation loss')\n",
    "plt.title('Training and validation loss')\n",
    "plt.legend()\n",
    "\n",
    "plt.show()"
   ]
  },
  {
   "cell_type": "code",
   "execution_count": null,
   "metadata": {
    "executionInfo": {
     "elapsed": 263,
     "status": "ok",
     "timestamp": 1623237370995,
     "user": {
      "displayName": "黃侯弼",
      "photoUrl": "",
      "userId": "02394864078410571973"
     },
     "user_tz": -480
    },
    "id": "mKcsAPK-DuDB"
   },
   "outputs": [],
   "source": [
    "# Save the model as a file\n",
    "models.save_model(model, model_filename)"
   ]
  },
  {
   "cell_type": "code",
   "execution_count": null,
   "metadata": {
    "colab": {
     "base_uri": "https://localhost:8080/"
    },
    "executionInfo": {
     "elapsed": 774,
     "status": "ok",
     "timestamp": 1623237372852,
     "user": {
      "displayName": "黃侯弼",
      "photoUrl": "",
      "userId": "02394864078410571973"
     },
     "user_tz": -480
    },
    "id": "rOAEZ7PKDuDC",
    "outputId": "ec42e9de-9b6c-4269-b804-bd8df580acf4",
    "scrolled": true
   },
   "outputs": [],
   "source": [
    "# TEST: Load model and run it against test set\n",
    "model = models.load_model(model_filename)\n",
    "for i in range(0, 10):\n",
    "    print('Answer:', y_test[i], ' Prediction:', model.predict(np.expand_dims(x_test[i], 0)))"
   ]
  },
  {
   "cell_type": "code",
   "execution_count": null,
   "metadata": {
    "colab": {
     "base_uri": "https://localhost:8080/"
    },
    "executionInfo": {
     "elapsed": 257,
     "status": "ok",
     "timestamp": 1623237375540,
     "user": {
      "displayName": "黃侯弼",
      "photoUrl": "",
      "userId": "02394864078410571973"
     },
     "user_tz": -480
    },
    "id": "F2N7VEDnDuDC",
    "outputId": "76a7172d-b0aa-46a9-c7fb-45f582e96cb6",
    "scrolled": true
   },
   "outputs": [],
   "source": [
    "# Evaluate model with test set\n",
    "model.evaluate(x=x_test, y=y_test)"
   ]
  },
  {
   "cell_type": "code",
   "execution_count": null,
   "metadata": {},
   "outputs": [],
   "source": []
  }
 ],
 "metadata": {
  "accelerator": "GPU",
  "colab": {
   "collapsed_sections": [],
   "name": "Classifier.ipynb",
   "provenance": []
  },
  "kernelspec": {
   "display_name": "Python 3 (ipykernel)",
   "language": "python",
   "name": "python3"
  },
  "language_info": {
   "codemirror_mode": {
    "name": "ipython",
    "version": 3
   },
   "file_extension": ".py",
   "mimetype": "text/x-python",
   "name": "python",
   "nbconvert_exporter": "python",
   "pygments_lexer": "ipython3",
   "version": "3.9.12"
  }
 },
 "nbformat": 4,
 "nbformat_minor": 1
}
