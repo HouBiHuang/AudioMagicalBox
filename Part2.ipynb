{
 "cells": [
  {
   "cell_type": "code",
   "execution_count": 6,
   "metadata": {
    "executionInfo": {
     "elapsed": 428,
     "status": "ok",
     "timestamp": 1623236061470,
     "user": {
      "displayName": "黃侯弼",
      "photoUrl": "",
      "userId": "02394864078410571973"
     },
     "user_tz": -480
    },
    "id": "iVhpbtg0DuC5"
   },
   "outputs": [],
   "source": [
    "from os import listdir\n",
    "from os.path import isdir, join\n",
    "from tensorflow.keras import layers, models\n",
    "import numpy as np"
   ]
  },
  {
   "cell_type": "code",
   "execution_count": 7,
   "metadata": {
    "colab": {
     "base_uri": "https://localhost:8080/"
    },
    "executionInfo": {
     "elapsed": 5,
     "status": "ok",
     "timestamp": 1623236062585,
     "user": {
      "displayName": "黃侯弼",
      "photoUrl": "",
      "userId": "02394864078410571973"
     },
     "user_tz": -480
    },
    "id": "MZI1urklDuC6",
    "outputId": "9344224f-90ed-4d09-80e4-efd8c4bb7cac"
   },
   "outputs": [
    {
     "name": "stdout",
     "output_type": "stream",
     "text": [
      "['backgroundNoise', 'ㄏㄧㄡ', 'ㄟ', '吼', '啦', '嗯', '的一個', '的這個', '的那個', '著', '那', '那那個', '阿']\n"
     ]
    }
   ],
   "source": [
    "# Create list of all targets (minus background noise)\n",
    "dataset_path = './recording'\n",
    "all_targets = all_targets = [name for name in listdir(dataset_path) if isdir(join(dataset_path, name))]\n",
    "print(all_targets)"
   ]
  },
  {
   "cell_type": "code",
   "execution_count": 8,
   "metadata": {
    "executionInfo": {
     "elapsed": 301,
     "status": "ok",
     "timestamp": 1623236063859,
     "user": {
      "displayName": "黃侯弼",
      "photoUrl": "",
      "userId": "02394864078410571973"
     },
     "user_tz": -480
    },
    "id": "WgAcVkOeDuC6"
   },
   "outputs": [],
   "source": [
    "# Settings\n",
    "feature_sets_path = './'\n",
    "feature_sets_filename = './appendEnergyT.npz'\n",
    "#model_filename = 'wake_word_stop_model.h5'\n",
    "#wake_word = '嗯'"
   ]
  },
  {
   "cell_type": "code",
   "execution_count": 9,
   "metadata": {
    "colab": {
     "base_uri": "https://localhost:8080/"
    },
    "executionInfo": {
     "elapsed": 458,
     "status": "ok",
     "timestamp": 1623236065288,
     "user": {
      "displayName": "黃侯弼",
      "photoUrl": "",
      "userId": "02394864078410571973"
     },
     "user_tz": -480
    },
    "id": "rJUTXuiVDuC7",
    "outputId": "4a7c5275-1bcb-4f85-dd65-18bb4e2630c9"
   },
   "outputs": [
    {
     "name": "stdout",
     "output_type": "stream",
     "text": [
      "['x_train', 'y_train', 'x_val', 'y_val', 'x_test', 'y_test']\n"
     ]
    }
   ],
   "source": [
    "# Load feature sets\n",
    "feature_sets = np.load(join(feature_sets_path, feature_sets_filename))\n",
    "print(feature_sets.files)"
   ]
  },
  {
   "cell_type": "code",
   "execution_count": 10,
   "metadata": {
    "colab": {
     "base_uri": "https://localhost:8080/"
    },
    "executionInfo": {
     "elapsed": 3,
     "status": "ok",
     "timestamp": 1623236066162,
     "user": {
      "displayName": "黃侯弼",
      "photoUrl": "",
      "userId": "02394864078410571973"
     },
     "user_tz": -480
    },
    "id": "0MTc8hMZDuC7",
    "outputId": "287b9ce7-b503-472c-dc22-1cf446a74c77"
   },
   "outputs": [
    {
     "name": "stdout",
     "output_type": "stream",
     "text": [
      "[ 8.  7. 11. 11.  8.  8.  5.  1.  6.  5.  9.  3.  2.  2.  7. 11.  4.  0.\n",
      "  9.  9.  8.  0.  5.  3.  4.  2.  8. 12.  0. 11.  1.  8.  8. 12.  0.  7.\n",
      "  2.  0.  7.  3.  6.  4.  0.  3.  5.  3.  6. 12. 12.  4.  9. 11.]\n",
      "[10. 10.  0.  3.  8.  6.  4.  9. 12.  7.  2.  8.  1. 10. 10. 11.  7.  7.\n",
      "  8.  3.  4.  5.  9. 12.  4.  5.  2.  7.  8.  2.  1.  6.  0.  4.  0. 11.\n",
      "  5.  9.  8.  2.  6.  6.  2.  4.  8.  6.  3. 12.  9.  7.  8.  0.  6.  6.\n",
      "  4.  2.  6.  2.  8.  0.  2. 10.  3.  1. 10.  1.  6.  6. 11.  2. 11.  4.\n",
      " 10.  9.  9. 12.  9.  2.  4. 11.  1.  4. 11.  2. 10. 11.  2. 11. 10.  0.\n",
      " 10.  9.  3. 12.  2.  6.  3. 11. 12.  3.  3. 12.  3.  5.  6.  7.  4.  4.\n",
      " 12.  7.  7.  1. 11. 10.  4. 12. 12. 12. 11.  3.  8. 10.  4.  7. 12. 12.\n",
      "  6.  1.  9. 10.  2.  8. 10. 11.  5.  2.  1.  5.  7.  9. 12.  9.  8. 10.\n",
      "  8.  1.  7. 12.  4. 10.  2.  4.  3. 12.  7.  9.  8.  1.  7.  4. 11.  2.\n",
      "  0.  4.  4.  5. 10.  5. 12.  7.  7. 12. 10.  5.  1.  3.  2.  4.  9.  7.\n",
      "  5.  2.  9. 11.  6.  2.  1.  1.  8.  0.  2. 11. 11.  5.  1. 11.  5.  3.\n",
      "  6. 12. 10.  2.  0.  6.  1.  7.  3.  1.  3.  9.  6.  0.  5.  0.  1. 11.\n",
      "  2.  0.  0.  5.  5.  0. 11.  1.  4.  0.  5. 10.  0. 10.  8.  5.  9.  6.\n",
      "  2. 10.  5.  9.  9.  7.  0.  3.  7.  7.  9.  8.  4.  2.  4.  4. 11.  6.\n",
      "  0. 10.  6.  7. 10.  0.  4.  8. 12.  9. 12. 12.  9.  1.  1.  3. 11.  1.\n",
      " 12.  5. 11.  5.  3. 11.  3.  6.  6.  9.  9.  9.  1. 11. 11.  3.  5. 11.\n",
      "  1.  8.  3. 10.  4. 12.  9.  1.  2. 12.  6.  3.  2. 10.  3. 12. 10.  4.\n",
      " 12.  3.  5.  3. 10.  7.  8. 12.  1.  2.  5.  8.  0.  1.  6.  3.  6. 11.\n",
      " 12. 10.  6.  0.  4.  5.  5.  7.  7.  1.  3.  5.  5.  1.  7. 10.  2.  4.\n",
      "  7. 10.  7.  4.  0. 10.  9.  5.  8.  9. 10.  1.  6.  6.  8.  3.  7.  0.\n",
      "  6.  4.  9.  1.  2.  0.  4.  9.  6. 12.  7.  0.  4. 10. 10.  3. 12.  1.\n",
      " 11.  6. 11.  8.  3. 11.  8.  7. 10.  7.  5.  0.  7.  1.  6.  9.  6.  0.\n",
      "  2.  4.  0.  3.  7.  3.  6.  9.  9.  1. 11.  5. 10.  8.  1.  5.  8. 12.\n",
      "  2.  3.]\n",
      "[11. 12. 12.  8.  0.  1.  2.  8.  0.  1.  0.  8.  2.  0.  1.  9.  5.  7.\n",
      "  6. 10.  4.  9.  6.  4. 11.  5. 11.  8.  5. 11.  3. 12.  9.  0. 10.  0.\n",
      "  7.  3. 12. 10.  2.  9.  8.  8.  5.  8.  7.  4.  5.  6.  2.  1.]\n"
     ]
    }
   ],
   "source": [
    "# Assign feature sets\n",
    "x_train = feature_sets['x_train']\n",
    "y_train = feature_sets['y_train']\n",
    "x_val = feature_sets['x_val']\n",
    "y_val = feature_sets['y_val']\n",
    "x_test = feature_sets['x_test']\n",
    "y_test = feature_sets['y_test']\n",
    "print(y_test)\n",
    "print(y_train)\n",
    "print(y_val)"
   ]
  },
  {
   "cell_type": "code",
   "execution_count": 11,
   "metadata": {
    "colab": {
     "base_uri": "https://localhost:8080/"
    },
    "executionInfo": {
     "elapsed": 262,
     "status": "ok",
     "timestamp": 1623236068434,
     "user": {
      "displayName": "黃侯弼",
      "photoUrl": "",
      "userId": "02394864078410571973"
     },
     "user_tz": -480
    },
    "id": "r2XzOXwdDuC8",
    "outputId": "6d00862e-4d37-415c-b854-22b4cdd10698"
   },
   "outputs": [
    {
     "name": "stdout",
     "output_type": "stream",
     "text": [
      "(416, 23, 16)\n",
      "(52, 23, 16)\n",
      "(52, 23, 16)\n"
     ]
    }
   ],
   "source": [
    "# Look at tensor dimensions\n",
    "print(x_train.shape)\n",
    "print(x_val.shape)\n",
    "print(x_test.shape)"
   ]
  },
  {
   "cell_type": "code",
   "execution_count": 12,
   "metadata": {
    "colab": {
     "base_uri": "https://localhost:8080/"
    },
    "executionInfo": {
     "elapsed": 439,
     "status": "ok",
     "timestamp": 1623236069774,
     "user": {
      "displayName": "黃侯弼",
      "photoUrl": "",
      "userId": "02394864078410571973"
     },
     "user_tz": -480
    },
    "id": "N-l9zl-GDuC9",
    "outputId": "fd2762fb-1345-41d2-8108-985fcd157a52"
   },
   "outputs": [
    {
     "name": "stdout",
     "output_type": "stream",
     "text": [
      "[11. 12. 12.  8.  0.  1.  2.  8.  0.  1.  0.  8.  2.  0.  1.  9.  5.  7.\n",
      "  6. 10.  4.  9.  6.  4. 11.  5. 11.  8.  5. 11.  3. 12.  9.  0. 10.  0.\n",
      "  7.  3. 12. 10.  2.  9.  8.  8.  5.  8.  7.  4.  5.  6.  2.  1.]\n"
     ]
    }
   ],
   "source": [
    "# Peek at labels\n",
    "print(y_val)"
   ]
  },
  {
   "cell_type": "code",
   "execution_count": 13,
   "metadata": {
    "colab": {
     "base_uri": "https://localhost:8080/"
    },
    "executionInfo": {
     "elapsed": 4,
     "status": "ok",
     "timestamp": 1623236070623,
     "user": {
      "displayName": "黃侯弼",
      "photoUrl": "",
      "userId": "02394864078410571973"
     },
     "user_tz": -480
    },
    "id": "nY3RGYbPDuC-",
    "outputId": "deded680-fc57-4da6-c054-a4648b5007eb"
   },
   "outputs": [
    {
     "name": "stdout",
     "output_type": "stream",
     "text": [
      "[ 8.  7. 11. 11.  8.  8.  5.  1.  6.  5.  9.  3.  2.  2.  7. 11.  4.  0.\n",
      "  9.  9.  8.  0.  5.  3.  4.  2.  8. 12.  0. 11.  1.  8.  8. 12.  0.  7.\n",
      "  2.  0.  7.  3.  6.  4.  0.  3.  5.  3.  6. 12. 12.  4.  9. 11.]\n"
     ]
    }
   ],
   "source": [
    "# Peek at labels after conversion\n",
    "print(y_test)"
   ]
  },
  {
   "cell_type": "code",
   "execution_count": 14,
   "metadata": {
    "colab": {
     "base_uri": "https://localhost:8080/"
    },
    "executionInfo": {
     "elapsed": 5,
     "status": "ok",
     "timestamp": 1623236071679,
     "user": {
      "displayName": "黃侯弼",
      "photoUrl": "",
      "userId": "02394864078410571973"
     },
     "user_tz": -480
    },
    "id": "8I1_x2yvDuC-",
    "outputId": "0d138400-6662-4175-8a1f-f640e3f2bf6d"
   },
   "outputs": [
    {
     "name": "stdout",
     "output_type": "stream",
     "text": [
      "(416, 23, 16)\n"
     ]
    }
   ],
   "source": [
    "# View the dimensions of our input data\n",
    "print(x_train.shape)"
   ]
  },
  {
   "cell_type": "code",
   "execution_count": 15,
   "metadata": {
    "colab": {
     "base_uri": "https://localhost:8080/"
    },
    "executionInfo": {
     "elapsed": 4,
     "status": "ok",
     "timestamp": 1623236072760,
     "user": {
      "displayName": "黃侯弼",
      "photoUrl": "",
      "userId": "02394864078410571973"
     },
     "user_tz": -480
    },
    "id": "i_zQsgz4DuC_",
    "outputId": "94a9c63d-7b06-4e8f-8c10-2aaab2aebe64",
    "scrolled": true
   },
   "outputs": [
    {
     "name": "stdout",
     "output_type": "stream",
     "text": [
      "(416, 23, 16, 1)\n",
      "(52, 23, 16, 1)\n",
      "(52, 23, 16, 1)\n"
     ]
    }
   ],
   "source": [
    "# CNN for TF expects (batch, height, width, channels)\n",
    "# So we reshape the input tensors with a \"color\" channel of 1\n",
    "x_train = x_train.reshape(x_train.shape[0], \n",
    "                          x_train.shape[1], \n",
    "                          x_train.shape[2], \n",
    "                          1)\n",
    "x_val = x_val.reshape(x_val.shape[0], \n",
    "                      x_val.shape[1], \n",
    "                      x_val.shape[2], \n",
    "                      1)\n",
    "x_test = x_test.reshape(x_test.shape[0], \n",
    "                        x_test.shape[1], \n",
    "                        x_test.shape[2], \n",
    "                        1)\n",
    "print(x_train.shape)\n",
    "print(x_val.shape)\n",
    "print(x_test.shape)"
   ]
  },
  {
   "cell_type": "code",
   "execution_count": 16,
   "metadata": {
    "colab": {
     "base_uri": "https://localhost:8080/"
    },
    "executionInfo": {
     "elapsed": 281,
     "status": "ok",
     "timestamp": 1623236074651,
     "user": {
      "displayName": "黃侯弼",
      "photoUrl": "",
      "userId": "02394864078410571973"
     },
     "user_tz": -480
    },
    "id": "Ge2MCNusDuC_",
    "outputId": "7c995061-d01d-4a96-a14f-fbee6804b4d4"
   },
   "outputs": [
    {
     "name": "stdout",
     "output_type": "stream",
     "text": [
      "(23, 16, 1)\n"
     ]
    }
   ],
   "source": [
    "# Input shape for CNN is size of MFCC of 1 sample\n",
    "sample_shape = x_test.shape[1:]\n",
    "print(sample_shape)"
   ]
  },
  {
   "cell_type": "code",
   "execution_count": 17,
   "metadata": {
    "colab": {
     "base_uri": "https://localhost:8080/"
    },
    "executionInfo": {
     "elapsed": 264,
     "status": "ok",
     "timestamp": 1623237350948,
     "user": {
      "displayName": "黃侯弼",
      "photoUrl": "",
      "userId": "02394864078410571973"
     },
     "user_tz": -480
    },
    "id": "2JqUOHp9DuDA",
    "outputId": "cc676686-8778-47c0-d5eb-183d137369d2"
   },
   "outputs": [
    {
     "name": "stdout",
     "output_type": "stream",
     "text": [
      "Model: \"sequential\"\n",
      "_________________________________________________________________\n",
      "Layer (type)                 Output Shape              Param #   \n",
      "=================================================================\n",
      "conv2d (Conv2D)              (None, 22, 15, 32)        160       \n",
      "_________________________________________________________________\n",
      "max_pooling2d (MaxPooling2D) (None, 11, 7, 32)         0         \n",
      "_________________________________________________________________\n",
      "conv2d_1 (Conv2D)            (None, 10, 6, 64)         8256      \n",
      "_________________________________________________________________\n",
      "max_pooling2d_1 (MaxPooling2 (None, 5, 3, 64)          0         \n",
      "_________________________________________________________________\n",
      "dropout (Dropout)            (None, 5, 3, 64)          0         \n",
      "_________________________________________________________________\n",
      "flatten (Flatten)            (None, 960)               0         \n",
      "_________________________________________________________________\n",
      "dense (Dense)                (None, 64)                61504     \n",
      "_________________________________________________________________\n",
      "dropout_1 (Dropout)          (None, 64)                0         \n",
      "_________________________________________________________________\n",
      "dense_1 (Dense)              (None, 13)                845       \n",
      "=================================================================\n",
      "Total params: 70,765\n",
      "Trainable params: 70,765\n",
      "Non-trainable params: 0\n",
      "_________________________________________________________________\n"
     ]
    }
   ],
   "source": [
    "model = models.Sequential()\n",
    "model.add(layers.Conv2D(32, (2, 2), activation='relu',input_shape=sample_shape))\n",
    "model.add(layers.MaxPooling2D(pool_size=(2, 2)))\n",
    "\n",
    "#model.add(layers.Conv2D(32, (2, 2), activation='relu'))\n",
    "#model.add(layers.MaxPooling2D(pool_size=(2, 2)))\n",
    "\n",
    "model.add(layers.Conv2D(64, (2, 2), activation='relu'))#64\n",
    "model.add(layers.MaxPooling2D(pool_size=(2, 2)))\n",
    "model.add(layers.Dropout(0.5))\n",
    "\n",
    "# Classifier\n",
    "model.add(layers.Flatten())\n",
    "model.add(layers.Dense(64, activation='relu'))#64\n",
    "model.add(layers.Dropout(0.5))\n",
    "model.add(layers.Dense(13, activation='softmax'))\n",
    "# Display model\n",
    "model.summary()\n"
   ]
  },
  {
   "cell_type": "code",
   "execution_count": 18,
   "metadata": {
    "colab": {
     "base_uri": "https://localhost:8080/"
    },
    "executionInfo": {
     "elapsed": 402,
     "status": "ok",
     "timestamp": 1623237353164,
     "user": {
      "displayName": "黃侯弼",
      "photoUrl": "",
      "userId": "02394864078410571973"
     },
     "user_tz": -480
    },
    "id": "sp5WfpkJDuDA",
    "outputId": "e7c65039-b132-4490-ce02-0897a4ca9bdc"
   },
   "outputs": [],
   "source": [
    "from tensorflow.keras import optimizers\n",
    "# Add training parameters to model\n",
    "model.compile(loss='sparse_categorical_crossentropy', \n",
    "              optimizer='adam',    #'optimizers.Adam(lr=0.0005)'\n",
    "              metrics=['acc'])"
   ]
  },
  {
   "cell_type": "code",
   "execution_count": 19,
   "metadata": {
    "colab": {
     "base_uri": "https://localhost:8080/"
    },
    "executionInfo": {
     "elapsed": 6626,
     "status": "ok",
     "timestamp": 1623237360783,
     "user": {
      "displayName": "黃侯弼",
      "photoUrl": "",
      "userId": "02394864078410571973"
     },
     "user_tz": -480
    },
    "id": "s46KMbZbDuDB",
    "outputId": "ff0b8470-8926-4dd5-bd90-db3c765b1d90"
   },
   "outputs": [
    {
     "name": "stdout",
     "output_type": "stream",
     "text": [
      "Epoch 1/150\n",
      "9/9 [==============================] - 6s 45ms/step - loss: 2.7317 - acc: 0.1082 - val_loss: 2.5168 - val_acc: 0.0962\n",
      "Epoch 2/150\n",
      "9/9 [==============================] - 0s 8ms/step - loss: 2.5609 - acc: 0.1010 - val_loss: 2.4863 - val_acc: 0.1346\n",
      "Epoch 3/150\n",
      "9/9 [==============================] - 0s 10ms/step - loss: 2.4670 - acc: 0.1779 - val_loss: 2.4251 - val_acc: 0.2115\n",
      "Epoch 4/150\n",
      "9/9 [==============================] - 0s 10ms/step - loss: 2.4225 - acc: 0.1587 - val_loss: 2.3457 - val_acc: 0.3077\n",
      "Epoch 5/150\n",
      "9/9 [==============================] - 0s 10ms/step - loss: 2.3791 - acc: 0.1875 - val_loss: 2.2577 - val_acc: 0.2885\n",
      "Epoch 6/150\n",
      "9/9 [==============================] - 0s 10ms/step - loss: 2.3005 - acc: 0.2019 - val_loss: 2.1496 - val_acc: 0.3846\n",
      "Epoch 7/150\n",
      "9/9 [==============================] - 0s 10ms/step - loss: 2.2326 - acc: 0.2380 - val_loss: 2.0253 - val_acc: 0.4231\n",
      "Epoch 8/150\n",
      "9/9 [==============================] - 0s 9ms/step - loss: 2.1087 - acc: 0.2885 - val_loss: 1.8925 - val_acc: 0.4808\n",
      "Epoch 9/150\n",
      "9/9 [==============================] - 0s 10ms/step - loss: 2.0219 - acc: 0.3245 - val_loss: 1.7698 - val_acc: 0.6154\n",
      "Epoch 10/150\n",
      "9/9 [==============================] - 0s 8ms/step - loss: 1.9042 - acc: 0.3630 - val_loss: 1.6032 - val_acc: 0.6538\n",
      "Epoch 11/150\n",
      "9/9 [==============================] - 0s 8ms/step - loss: 1.8481 - acc: 0.3510 - val_loss: 1.5022 - val_acc: 0.7115\n",
      "Epoch 12/150\n",
      "9/9 [==============================] - 0s 10ms/step - loss: 1.8412 - acc: 0.3413 - val_loss: 1.4134 - val_acc: 0.7500\n",
      "Epoch 13/150\n",
      "9/9 [==============================] - 0s 10ms/step - loss: 1.6381 - acc: 0.4856 - val_loss: 1.3066 - val_acc: 0.8077\n",
      "Epoch 14/150\n",
      "9/9 [==============================] - 0s 10ms/step - loss: 1.5495 - acc: 0.4928 - val_loss: 1.1731 - val_acc: 0.7692\n",
      "Epoch 15/150\n",
      "9/9 [==============================] - 0s 10ms/step - loss: 1.5197 - acc: 0.4952 - val_loss: 1.1109 - val_acc: 0.7500\n",
      "Epoch 16/150\n",
      "9/9 [==============================] - 0s 10ms/step - loss: 1.4078 - acc: 0.5288 - val_loss: 1.0375 - val_acc: 0.7692\n",
      "Epoch 17/150\n",
      "9/9 [==============================] - 0s 10ms/step - loss: 1.3955 - acc: 0.5216 - val_loss: 0.9557 - val_acc: 0.7500\n",
      "Epoch 18/150\n",
      "9/9 [==============================] - 0s 10ms/step - loss: 1.3027 - acc: 0.5625 - val_loss: 0.9354 - val_acc: 0.7115\n",
      "Epoch 19/150\n",
      "9/9 [==============================] - 0s 7ms/step - loss: 1.2345 - acc: 0.6082 - val_loss: 0.8776 - val_acc: 0.7500\n",
      "Epoch 20/150\n",
      "9/9 [==============================] - 0s 10ms/step - loss: 1.2138 - acc: 0.6082 - val_loss: 0.8163 - val_acc: 0.7885\n",
      "Epoch 21/150\n",
      "9/9 [==============================] - 0s 10ms/step - loss: 1.1344 - acc: 0.6394 - val_loss: 0.7704 - val_acc: 0.8077\n",
      "Epoch 22/150\n",
      "9/9 [==============================] - 0s 8ms/step - loss: 1.1528 - acc: 0.6322 - val_loss: 0.7075 - val_acc: 0.7692\n",
      "Epoch 23/150\n",
      "9/9 [==============================] - 0s 10ms/step - loss: 0.9626 - acc: 0.6899 - val_loss: 0.6925 - val_acc: 0.7692\n",
      "Epoch 24/150\n",
      "9/9 [==============================] - 0s 11ms/step - loss: 0.9828 - acc: 0.6394 - val_loss: 0.6156 - val_acc: 0.8269\n",
      "Epoch 25/150\n",
      "9/9 [==============================] - 0s 10ms/step - loss: 0.9931 - acc: 0.6683 - val_loss: 0.6391 - val_acc: 0.8077\n",
      "Epoch 26/150\n",
      "9/9 [==============================] - 0s 10ms/step - loss: 0.9250 - acc: 0.7188 - val_loss: 0.5737 - val_acc: 0.8462\n",
      "Epoch 27/150\n",
      "9/9 [==============================] - 0s 10ms/step - loss: 0.9541 - acc: 0.6346 - val_loss: 0.5988 - val_acc: 0.7885\n",
      "Epoch 28/150\n",
      "9/9 [==============================] - 0s 8ms/step - loss: 0.9865 - acc: 0.6562 - val_loss: 0.5703 - val_acc: 0.8077\n",
      "Epoch 29/150\n",
      "9/9 [==============================] - 0s 10ms/step - loss: 0.8159 - acc: 0.7500 - val_loss: 0.5247 - val_acc: 0.8077\n",
      "Epoch 30/150\n",
      "9/9 [==============================] - 0s 10ms/step - loss: 0.7661 - acc: 0.7356 - val_loss: 0.4926 - val_acc: 0.8269\n",
      "Epoch 31/150\n",
      "9/9 [==============================] - 0s 8ms/step - loss: 0.8181 - acc: 0.7043 - val_loss: 0.4720 - val_acc: 0.8077\n",
      "Epoch 32/150\n",
      "9/9 [==============================] - 0s 10ms/step - loss: 0.7236 - acc: 0.7596 - val_loss: 0.4765 - val_acc: 0.7885\n",
      "Epoch 33/150\n",
      "9/9 [==============================] - 0s 10ms/step - loss: 0.6884 - acc: 0.7692 - val_loss: 0.4807 - val_acc: 0.8077\n",
      "Epoch 34/150\n",
      "9/9 [==============================] - 0s 10ms/step - loss: 0.7248 - acc: 0.7500 - val_loss: 0.4334 - val_acc: 0.8269\n",
      "Epoch 35/150\n",
      "9/9 [==============================] - 0s 10ms/step - loss: 0.6088 - acc: 0.8005 - val_loss: 0.4307 - val_acc: 0.8654\n",
      "Epoch 36/150\n",
      "9/9 [==============================] - 0s 10ms/step - loss: 0.7229 - acc: 0.7380 - val_loss: 0.4168 - val_acc: 0.8462\n",
      "Epoch 37/150\n",
      "9/9 [==============================] - 0s 9ms/step - loss: 0.6799 - acc: 0.7909 - val_loss: 0.4351 - val_acc: 0.8077\n",
      "Epoch 38/150\n",
      "9/9 [==============================] - 0s 10ms/step - loss: 0.7656 - acc: 0.7500 - val_loss: 0.4201 - val_acc: 0.8846\n",
      "Epoch 39/150\n",
      "9/9 [==============================] - 0s 11ms/step - loss: 0.6559 - acc: 0.7692 - val_loss: 0.3966 - val_acc: 0.8654\n",
      "Epoch 40/150\n",
      "9/9 [==============================] - 0s 10ms/step - loss: 0.5622 - acc: 0.8101 - val_loss: 0.3988 - val_acc: 0.8654\n",
      "Epoch 41/150\n",
      "9/9 [==============================] - 0s 10ms/step - loss: 0.5913 - acc: 0.8005 - val_loss: 0.3711 - val_acc: 0.8462\n",
      "Epoch 42/150\n",
      "9/9 [==============================] - 0s 10ms/step - loss: 0.6042 - acc: 0.8077 - val_loss: 0.3702 - val_acc: 0.8654\n",
      "Epoch 43/150\n",
      "9/9 [==============================] - 0s 8ms/step - loss: 0.6271 - acc: 0.7812 - val_loss: 0.3783 - val_acc: 0.8269\n",
      "Epoch 44/150\n",
      "9/9 [==============================] - 0s 10ms/step - loss: 0.5568 - acc: 0.8341 - val_loss: 0.3467 - val_acc: 0.8654\n",
      "Epoch 45/150\n",
      "9/9 [==============================] - 0s 11ms/step - loss: 0.6099 - acc: 0.8005 - val_loss: 0.3441 - val_acc: 0.8654\n",
      "Epoch 46/150\n",
      "9/9 [==============================] - 0s 10ms/step - loss: 0.5322 - acc: 0.8389 - val_loss: 0.3374 - val_acc: 0.8846\n",
      "Epoch 47/150\n",
      "9/9 [==============================] - 0s 11ms/step - loss: 0.4446 - acc: 0.8726 - val_loss: 0.3337 - val_acc: 0.8462\n",
      "Epoch 48/150\n",
      "9/9 [==============================] - 0s 10ms/step - loss: 0.5724 - acc: 0.8053 - val_loss: 0.3318 - val_acc: 0.8654\n",
      "Epoch 49/150\n",
      "9/9 [==============================] - 0s 10ms/step - loss: 0.5743 - acc: 0.8173 - val_loss: 0.3025 - val_acc: 0.9038\n",
      "Epoch 50/150\n",
      "9/9 [==============================] - 0s 10ms/step - loss: 0.5187 - acc: 0.8197 - val_loss: 0.3436 - val_acc: 0.8846\n",
      "Epoch 51/150\n",
      "9/9 [==============================] - 0s 10ms/step - loss: 0.4728 - acc: 0.8486 - val_loss: 0.3084 - val_acc: 0.9038\n",
      "Epoch 52/150\n",
      "9/9 [==============================] - 0s 10ms/step - loss: 0.5348 - acc: 0.8077 - val_loss: 0.3252 - val_acc: 0.9038\n",
      "Epoch 53/150\n",
      "9/9 [==============================] - 0s 10ms/step - loss: 0.5102 - acc: 0.8269 - val_loss: 0.3041 - val_acc: 0.9038\n",
      "Epoch 54/150\n",
      "9/9 [==============================] - 0s 10ms/step - loss: 0.4153 - acc: 0.8846 - val_loss: 0.2825 - val_acc: 0.9231\n",
      "Epoch 55/150\n",
      "9/9 [==============================] - 0s 8ms/step - loss: 0.4168 - acc: 0.8606 - val_loss: 0.2747 - val_acc: 0.9423\n",
      "Epoch 56/150\n",
      "9/9 [==============================] - 0s 10ms/step - loss: 0.5127 - acc: 0.8269 - val_loss: 0.2828 - val_acc: 0.9038\n",
      "Epoch 57/150\n",
      "9/9 [==============================] - 0s 8ms/step - loss: 0.4114 - acc: 0.8558 - val_loss: 0.2712 - val_acc: 0.9038\n",
      "Epoch 58/150\n",
      "9/9 [==============================] - 0s 8ms/step - loss: 0.3690 - acc: 0.8774 - val_loss: 0.2759 - val_acc: 0.9231\n",
      "Epoch 59/150\n",
      "9/9 [==============================] - 0s 11ms/step - loss: 0.3757 - acc: 0.8702 - val_loss: 0.2550 - val_acc: 0.9231\n",
      "Epoch 60/150\n",
      "9/9 [==============================] - 0s 8ms/step - loss: 0.3611 - acc: 0.8798 - val_loss: 0.2527 - val_acc: 0.9423\n",
      "Epoch 61/150\n",
      "9/9 [==============================] - 0s 10ms/step - loss: 0.4683 - acc: 0.8389 - val_loss: 0.2653 - val_acc: 0.9038\n",
      "Epoch 62/150\n",
      "9/9 [==============================] - 0s 10ms/step - loss: 0.3654 - acc: 0.8798 - val_loss: 0.2856 - val_acc: 0.8846\n",
      "Epoch 63/150\n",
      "9/9 [==============================] - 0s 9ms/step - loss: 0.4225 - acc: 0.8486 - val_loss: 0.2941 - val_acc: 0.9038\n"
     ]
    },
    {
     "name": "stdout",
     "output_type": "stream",
     "text": [
      "Epoch 64/150\n",
      "9/9 [==============================] - 0s 9ms/step - loss: 0.3821 - acc: 0.8582 - val_loss: 0.2677 - val_acc: 0.9231\n",
      "Epoch 65/150\n",
      "9/9 [==============================] - 0s 10ms/step - loss: 0.4238 - acc: 0.8389 - val_loss: 0.2545 - val_acc: 0.9231\n",
      "Epoch 66/150\n",
      "9/9 [==============================] - 0s 10ms/step - loss: 0.3890 - acc: 0.8486 - val_loss: 0.2718 - val_acc: 0.9038\n",
      "Epoch 67/150\n",
      "9/9 [==============================] - 0s 10ms/step - loss: 0.3640 - acc: 0.8726 - val_loss: 0.2677 - val_acc: 0.8846\n",
      "Epoch 68/150\n",
      "9/9 [==============================] - 0s 10ms/step - loss: 0.3431 - acc: 0.8870 - val_loss: 0.2363 - val_acc: 0.9038\n",
      "Epoch 69/150\n",
      "9/9 [==============================] - 0s 7ms/step - loss: 0.3618 - acc: 0.8702 - val_loss: 0.2469 - val_acc: 0.9231\n",
      "Epoch 70/150\n",
      "9/9 [==============================] - 0s 11ms/step - loss: 0.3606 - acc: 0.8846 - val_loss: 0.2594 - val_acc: 0.9231\n",
      "Epoch 71/150\n",
      "9/9 [==============================] - 0s 10ms/step - loss: 0.3580 - acc: 0.8774 - val_loss: 0.2880 - val_acc: 0.8846\n",
      "Epoch 72/150\n",
      "9/9 [==============================] - 0s 10ms/step - loss: 0.3396 - acc: 0.8870 - val_loss: 0.2987 - val_acc: 0.8846\n",
      "Epoch 73/150\n",
      "9/9 [==============================] - 0s 10ms/step - loss: 0.2977 - acc: 0.8942 - val_loss: 0.2726 - val_acc: 0.9038\n",
      "Epoch 74/150\n",
      "9/9 [==============================] - 0s 10ms/step - loss: 0.3502 - acc: 0.8846 - val_loss: 0.2571 - val_acc: 0.9038\n",
      "Epoch 75/150\n",
      "9/9 [==============================] - 0s 10ms/step - loss: 0.2924 - acc: 0.9014 - val_loss: 0.2324 - val_acc: 0.9423\n",
      "Epoch 76/150\n",
      "9/9 [==============================] - 0s 10ms/step - loss: 0.3187 - acc: 0.8702 - val_loss: 0.2359 - val_acc: 0.9423\n",
      "Epoch 77/150\n",
      "9/9 [==============================] - 0s 10ms/step - loss: 0.2502 - acc: 0.9279 - val_loss: 0.2423 - val_acc: 0.9038\n",
      "Epoch 78/150\n",
      "9/9 [==============================] - 0s 10ms/step - loss: 0.3361 - acc: 0.8918 - val_loss: 0.2478 - val_acc: 0.9038\n",
      "Epoch 79/150\n",
      "9/9 [==============================] - 0s 9ms/step - loss: 0.3053 - acc: 0.8870 - val_loss: 0.2383 - val_acc: 0.9231\n",
      "Epoch 80/150\n",
      "9/9 [==============================] - 0s 10ms/step - loss: 0.3511 - acc: 0.8942 - val_loss: 0.2519 - val_acc: 0.9231\n",
      "Epoch 81/150\n",
      "9/9 [==============================] - 0s 10ms/step - loss: 0.2734 - acc: 0.9062 - val_loss: 0.2537 - val_acc: 0.9231\n",
      "Epoch 82/150\n",
      "9/9 [==============================] - 0s 10ms/step - loss: 0.2974 - acc: 0.8990 - val_loss: 0.2710 - val_acc: 0.9038\n",
      "Epoch 83/150\n",
      "9/9 [==============================] - 0s 10ms/step - loss: 0.2960 - acc: 0.9062 - val_loss: 0.2560 - val_acc: 0.9231\n",
      "Epoch 84/150\n",
      "9/9 [==============================] - 0s 10ms/step - loss: 0.2621 - acc: 0.9111 - val_loss: 0.2580 - val_acc: 0.9231\n",
      "Epoch 85/150\n",
      "9/9 [==============================] - 0s 10ms/step - loss: 0.2683 - acc: 0.9183 - val_loss: 0.2651 - val_acc: 0.9038\n",
      "Epoch 86/150\n",
      "9/9 [==============================] - 0s 10ms/step - loss: 0.2818 - acc: 0.8894 - val_loss: 0.2250 - val_acc: 0.9038\n",
      "Epoch 87/150\n",
      "9/9 [==============================] - 0s 10ms/step - loss: 0.2808 - acc: 0.8990 - val_loss: 0.2437 - val_acc: 0.8846\n",
      "Epoch 88/150\n",
      "9/9 [==============================] - 0s 10ms/step - loss: 0.2528 - acc: 0.9135 - val_loss: 0.2581 - val_acc: 0.9038\n",
      "Epoch 89/150\n",
      "9/9 [==============================] - 0s 10ms/step - loss: 0.3080 - acc: 0.8918 - val_loss: 0.2303 - val_acc: 0.9231\n",
      "Epoch 90/150\n",
      "9/9 [==============================] - 0s 10ms/step - loss: 0.2788 - acc: 0.9038 - val_loss: 0.2453 - val_acc: 0.9038\n",
      "Epoch 91/150\n",
      "9/9 [==============================] - 0s 10ms/step - loss: 0.2917 - acc: 0.8942 - val_loss: 0.2408 - val_acc: 0.9038\n",
      "Epoch 92/150\n",
      "9/9 [==============================] - 0s 10ms/step - loss: 0.1998 - acc: 0.9495 - val_loss: 0.2381 - val_acc: 0.8654\n",
      "Epoch 93/150\n",
      "9/9 [==============================] - 0s 10ms/step - loss: 0.2806 - acc: 0.9159 - val_loss: 0.2413 - val_acc: 0.8846\n",
      "Epoch 94/150\n",
      "9/9 [==============================] - 0s 9ms/step - loss: 0.2295 - acc: 0.9207 - val_loss: 0.2184 - val_acc: 0.9231\n",
      "Epoch 95/150\n",
      "9/9 [==============================] - 0s 9ms/step - loss: 0.2668 - acc: 0.9038 - val_loss: 0.2316 - val_acc: 0.9038\n",
      "Epoch 96/150\n",
      "9/9 [==============================] - 0s 10ms/step - loss: 0.2506 - acc: 0.9038 - val_loss: 0.1975 - val_acc: 0.9231\n",
      "Epoch 97/150\n",
      "9/9 [==============================] - 0s 10ms/step - loss: 0.2358 - acc: 0.9207 - val_loss: 0.2139 - val_acc: 0.9038\n",
      "Epoch 98/150\n",
      "9/9 [==============================] - 0s 10ms/step - loss: 0.2630 - acc: 0.9135 - val_loss: 0.2083 - val_acc: 0.9423\n",
      "Epoch 99/150\n",
      "9/9 [==============================] - 0s 10ms/step - loss: 0.2178 - acc: 0.9207 - val_loss: 0.2208 - val_acc: 0.9423\n",
      "Epoch 100/150\n",
      "9/9 [==============================] - 0s 10ms/step - loss: 0.2218 - acc: 0.9207 - val_loss: 0.2134 - val_acc: 0.9423\n",
      "Epoch 101/150\n",
      "9/9 [==============================] - 0s 10ms/step - loss: 0.2503 - acc: 0.9111 - val_loss: 0.2325 - val_acc: 0.9038\n",
      "Epoch 102/150\n",
      "9/9 [==============================] - 0s 10ms/step - loss: 0.2814 - acc: 0.8894 - val_loss: 0.2220 - val_acc: 0.9231\n",
      "Epoch 103/150\n",
      "9/9 [==============================] - 0s 10ms/step - loss: 0.2592 - acc: 0.9159 - val_loss: 0.1992 - val_acc: 0.9615\n",
      "Epoch 104/150\n",
      "9/9 [==============================] - 0s 10ms/step - loss: 0.2140 - acc: 0.9279 - val_loss: 0.1853 - val_acc: 0.9615\n",
      "Epoch 105/150\n",
      "9/9 [==============================] - 0s 10ms/step - loss: 0.1997 - acc: 0.9327 - val_loss: 0.2349 - val_acc: 0.8846\n",
      "Epoch 106/150\n",
      "9/9 [==============================] - 0s 10ms/step - loss: 0.1924 - acc: 0.9423 - val_loss: 0.1952 - val_acc: 0.9231\n",
      "Epoch 107/150\n",
      "9/9 [==============================] - 0s 11ms/step - loss: 0.2237 - acc: 0.9062 - val_loss: 0.1866 - val_acc: 0.9423\n",
      "Epoch 108/150\n",
      "9/9 [==============================] - 0s 10ms/step - loss: 0.2814 - acc: 0.9159 - val_loss: 0.2085 - val_acc: 0.9231\n",
      "Epoch 109/150\n",
      "9/9 [==============================] - 0s 10ms/step - loss: 0.2078 - acc: 0.9351 - val_loss: 0.2107 - val_acc: 0.9038\n",
      "Epoch 110/150\n",
      "9/9 [==============================] - 0s 10ms/step - loss: 0.2505 - acc: 0.9111 - val_loss: 0.2105 - val_acc: 0.9231\n",
      "Epoch 111/150\n",
      "9/9 [==============================] - 0s 10ms/step - loss: 0.2064 - acc: 0.9135 - val_loss: 0.2169 - val_acc: 0.9038\n",
      "Epoch 112/150\n",
      "9/9 [==============================] - 0s 9ms/step - loss: 0.2634 - acc: 0.8966 - val_loss: 0.2021 - val_acc: 0.9231\n",
      "Epoch 113/150\n",
      "9/9 [==============================] - 0s 10ms/step - loss: 0.1788 - acc: 0.9519 - val_loss: 0.1977 - val_acc: 0.9231\n",
      "Epoch 114/150\n",
      "9/9 [==============================] - 0s 9ms/step - loss: 0.1719 - acc: 0.9399 - val_loss: 0.2071 - val_acc: 0.9038\n",
      "Epoch 115/150\n",
      "9/9 [==============================] - 0s 10ms/step - loss: 0.2005 - acc: 0.9375 - val_loss: 0.2458 - val_acc: 0.8846\n",
      "Epoch 116/150\n",
      "9/9 [==============================] - 0s 9ms/step - loss: 0.2480 - acc: 0.9231 - val_loss: 0.2178 - val_acc: 0.9231\n",
      "Epoch 117/150\n",
      "9/9 [==============================] - 0s 10ms/step - loss: 0.2628 - acc: 0.8990 - val_loss: 0.2187 - val_acc: 0.9231\n",
      "Epoch 118/150\n",
      "9/9 [==============================] - 0s 10ms/step - loss: 0.1568 - acc: 0.9663 - val_loss: 0.2114 - val_acc: 0.9231\n",
      "Epoch 119/150\n",
      "9/9 [==============================] - 0s 10ms/step - loss: 0.1716 - acc: 0.9399 - val_loss: 0.2333 - val_acc: 0.9231\n",
      "Epoch 120/150\n",
      "9/9 [==============================] - 0s 10ms/step - loss: 0.1946 - acc: 0.9351 - val_loss: 0.2542 - val_acc: 0.8846\n",
      "Epoch 121/150\n",
      "9/9 [==============================] - 0s 11ms/step - loss: 0.1870 - acc: 0.9447 - val_loss: 0.2174 - val_acc: 0.9231\n",
      "Epoch 122/150\n",
      "9/9 [==============================] - 0s 10ms/step - loss: 0.1725 - acc: 0.9519 - val_loss: 0.2055 - val_acc: 0.9038\n",
      "Epoch 123/150\n",
      "9/9 [==============================] - 0s 10ms/step - loss: 0.1994 - acc: 0.9231 - val_loss: 0.2164 - val_acc: 0.9231\n",
      "Epoch 124/150\n",
      "9/9 [==============================] - 0s 10ms/step - loss: 0.2417 - acc: 0.9111 - val_loss: 0.2311 - val_acc: 0.9231\n",
      "Epoch 125/150\n",
      "9/9 [==============================] - 0s 10ms/step - loss: 0.2019 - acc: 0.9375 - val_loss: 0.2337 - val_acc: 0.9231\n",
      "Epoch 126/150\n",
      "9/9 [==============================] - 0s 9ms/step - loss: 0.1854 - acc: 0.9351 - val_loss: 0.2701 - val_acc: 0.8846\n",
      "Epoch 127/150\n",
      "9/9 [==============================] - 0s 10ms/step - loss: 0.1930 - acc: 0.9327 - val_loss: 0.2181 - val_acc: 0.9038\n",
      "Epoch 128/150\n",
      "9/9 [==============================] - 0s 10ms/step - loss: 0.1898 - acc: 0.9447 - val_loss: 0.2100 - val_acc: 0.9231\n",
      "Epoch 129/150\n",
      "9/9 [==============================] - 0s 10ms/step - loss: 0.1527 - acc: 0.9423 - val_loss: 0.2171 - val_acc: 0.9231\n",
      "Epoch 130/150\n",
      "9/9 [==============================] - 0s 10ms/step - loss: 0.1823 - acc: 0.9351 - val_loss: 0.2287 - val_acc: 0.9038\n",
      "Epoch 131/150\n",
      "9/9 [==============================] - 0s 10ms/step - loss: 0.1931 - acc: 0.9471 - val_loss: 0.2186 - val_acc: 0.9038\n",
      "Epoch 132/150\n",
      "9/9 [==============================] - 0s 10ms/step - loss: 0.1816 - acc: 0.9375 - val_loss: 0.2309 - val_acc: 0.9231\n",
      "Epoch 133/150\n",
      "9/9 [==============================] - 0s 10ms/step - loss: 0.1958 - acc: 0.9471 - val_loss: 0.2187 - val_acc: 0.9231\n",
      "Epoch 134/150\n",
      "9/9 [==============================] - 0s 8ms/step - loss: 0.2162 - acc: 0.9207 - val_loss: 0.2262 - val_acc: 0.9231\n",
      "Epoch 135/150\n",
      "9/9 [==============================] - 0s 10ms/step - loss: 0.1640 - acc: 0.9471 - val_loss: 0.2160 - val_acc: 0.9231\n",
      "Epoch 136/150\n",
      "9/9 [==============================] - 0s 9ms/step - loss: 0.1839 - acc: 0.9471 - val_loss: 0.2138 - val_acc: 0.9231\n",
      "Epoch 137/150\n",
      "9/9 [==============================] - 0s 10ms/step - loss: 0.1715 - acc: 0.9303 - val_loss: 0.2098 - val_acc: 0.9231\n",
      "Epoch 138/150\n",
      "9/9 [==============================] - 0s 10ms/step - loss: 0.1620 - acc: 0.9399 - val_loss: 0.1973 - val_acc: 0.9231\n",
      "Epoch 139/150\n",
      "9/9 [==============================] - 0s 10ms/step - loss: 0.1391 - acc: 0.9688 - val_loss: 0.2152 - val_acc: 0.9231\n",
      "Epoch 140/150\n",
      "9/9 [==============================] - 0s 10ms/step - loss: 0.1510 - acc: 0.9399 - val_loss: 0.2235 - val_acc: 0.9038\n",
      "Epoch 141/150\n",
      "9/9 [==============================] - 0s 10ms/step - loss: 0.1362 - acc: 0.9471 - val_loss: 0.2166 - val_acc: 0.9038\n",
      "Epoch 142/150\n",
      "9/9 [==============================] - 0s 10ms/step - loss: 0.1430 - acc: 0.9639 - val_loss: 0.1943 - val_acc: 0.9231\n",
      "Epoch 143/150\n",
      "9/9 [==============================] - 0s 7ms/step - loss: 0.1117 - acc: 0.9712 - val_loss: 0.2070 - val_acc: 0.9038\n",
      "Epoch 144/150\n",
      "9/9 [==============================] - ETA: 0s - loss: 0.0704 - acc: 0.980 - 0s 9ms/step - loss: 0.1364 - acc: 0.9543 - val_loss: 0.2260 - val_acc: 0.8846\n",
      "Epoch 145/150\n",
      "9/9 [==============================] - 0s 9ms/step - loss: 0.1322 - acc: 0.9639 - val_loss: 0.2529 - val_acc: 0.9038\n",
      "Epoch 146/150\n",
      "9/9 [==============================] - 0s 10ms/step - loss: 0.1697 - acc: 0.9447 - val_loss: 0.2433 - val_acc: 0.9038\n",
      "Epoch 147/150\n",
      "9/9 [==============================] - 0s 9ms/step - loss: 0.1639 - acc: 0.9519 - val_loss: 0.2158 - val_acc: 0.9231\n",
      "Epoch 148/150\n",
      "9/9 [==============================] - 0s 10ms/step - loss: 0.1881 - acc: 0.9351 - val_loss: 0.2054 - val_acc: 0.9423\n",
      "Epoch 149/150\n",
      "9/9 [==============================] - 0s 9ms/step - loss: 0.1636 - acc: 0.9447 - val_loss: 0.2063 - val_acc: 0.9231\n",
      "Epoch 150/150\n",
      "9/9 [==============================] - 0s 7ms/step - loss: 0.1567 - acc: 0.9399 - val_loss: 0.2032 - val_acc: 0.9231\n"
     ]
    }
   ],
   "source": [
    "# Train\n",
    "history = model.fit(x_train, \n",
    "                    y_train, \n",
    "                    epochs=150,#150\n",
    "                    batch_size=50,#25\n",
    "                    validation_data=(x_val, y_val))"
   ]
  },
  {
   "cell_type": "code",
   "execution_count": 20,
   "metadata": {
    "colab": {
     "base_uri": "https://localhost:8080/",
     "height": 545
    },
    "executionInfo": {
     "elapsed": 1003,
     "status": "ok",
     "timestamp": 1623237367971,
     "user": {
      "displayName": "黃侯弼",
      "photoUrl": "",
      "userId": "02394864078410571973"
     },
     "user_tz": -480
    },
    "id": "UHFvFGu9DuDB",
    "outputId": "d91020e9-a37e-47d8-c204-00bf612c2908"
   },
   "outputs": [
    {
     "data": {
      "image/png": "[encoded data removed]",
      "text/plain": [
       "<Figure size 432x288 with 1 Axes>"
      ]
     },
     "metadata": {
      "needs_background": "light"
     },
     "output_type": "display_data"
    },
    {
     "data": {
      "image/png": "[encoded data removed]",
      "text/plain": [
       "<Figure size 432x288 with 1 Axes>"
      ]
     },
     "metadata": {
      "needs_background": "light"
     },
     "output_type": "display_data"
    }
   ],
   "source": [
    "# Plot results\n",
    "import matplotlib.pyplot as plt\n",
    "\n",
    "acc = history.history['acc']\n",
    "val_acc = history.history['val_acc']\n",
    "loss = history.history['loss']\n",
    "val_loss = history.history['val_loss']\n",
    "\n",
    "epochs = range(1, len(acc) + 1)\n",
    "\n",
    "plt.plot(epochs, acc, 'bo', label='Training acc')\n",
    "plt.plot(epochs, val_acc, 'b', label='Validation acc')\n",
    "plt.title('Training and validation accuracy')\n",
    "plt.legend()\n",
    "\n",
    "plt.figure()\n",
    "\n",
    "plt.plot(epochs, loss, 'bo', label='Training loss')\n",
    "plt.plot(epochs, val_loss, 'b', label='Validation loss')\n",
    "plt.title('Training and validation loss')\n",
    "plt.legend()\n",
    "\n",
    "plt.show()"
   ]
  },
  {
   "cell_type": "code",
   "execution_count": 21,
   "metadata": {
    "executionInfo": {
     "elapsed": 263,
     "status": "ok",
     "timestamp": 1623237370995,
     "user": {
      "displayName": "黃侯弼",
      "photoUrl": "",
      "userId": "02394864078410571973"
     },
     "user_tz": -480
    },
    "id": "mKcsAPK-DuDB"
   },
   "outputs": [],
   "source": [
    "# Save the model as a file\n",
    "models.save_model(model, './h5/appendEnergyTT.h5')"
   ]
  },
  {
   "cell_type": "code",
   "execution_count": 22,
   "metadata": {
    "colab": {
     "base_uri": "https://localhost:8080/"
    },
    "executionInfo": {
     "elapsed": 774,
     "status": "ok",
     "timestamp": 1623237372852,
     "user": {
      "displayName": "黃侯弼",
      "photoUrl": "",
      "userId": "02394864078410571973"
     },
     "user_tz": -480
    },
    "id": "rOAEZ7PKDuDC",
    "outputId": "ec42e9de-9b6c-4269-b804-bd8df580acf4"
   },
   "outputs": [
    {
     "name": "stdout",
     "output_type": "stream",
     "text": [
      "Answer: 8.0  Prediction: [[5.12046499e-05 7.09644938e-03 1.46631207e-02 1.11021276e-04\n",
      "  1.56705361e-03 8.74327898e-01 1.15204873e-02 1.16113639e-02\n",
      "  9.56894772e-04 7.30459690e-02 2.41959006e-05 1.90848310e-03\n",
      "  3.11587285e-03]]\n",
      "Answer: 7.0  Prediction: [[8.4251351e-06 2.9978999e-05 3.8166292e-04 1.9979718e-06 6.2960689e-06\n",
      "  2.2287990e-03 2.0339830e-04 9.1454738e-01 3.0560227e-02 4.6107965e-05\n",
      "  5.1604188e-04 5.1422223e-02 4.7535490e-05]]\n",
      "Answer: 11.0  Prediction: [[1.5687398e-03 9.9111712e-05 4.5970445e-03 6.6693347e-06 6.0410186e-04\n",
      "  1.8327418e-04 3.1672468e-04 5.5597357e-02 2.2769104e-01 2.4068914e-04\n",
      "  2.1654816e-02 6.8629253e-01 1.1479375e-03]]\n",
      "Answer: 11.0  Prediction: [[1.16342380e-06 1.66550126e-06 2.89501932e-05 9.74940758e-06\n",
      "  3.89711386e-06 1.42601159e-04 1.85233774e-04 4.07257900e-02\n",
      "  1.59038797e-01 3.29720365e-07 3.05565802e-04 7.99454093e-01\n",
      "  1.02137405e-04]]\n",
      "Answer: 8.0  Prediction: [[1.6014006e-04 4.7306807e-04 1.1083257e-01 1.8507255e-04 2.1363414e-04\n",
      "  2.1277722e-02 1.8681360e-02 1.9628750e-01 5.0849354e-01 6.2675786e-04\n",
      "  5.0918115e-03 1.3533142e-01 2.3453333e-03]]\n",
      "Answer: 8.0  Prediction: [[2.7925830e-07 2.7200167e-07 3.8035512e-06 3.1091056e-06 1.1126970e-05\n",
      "  3.6087945e-07 7.9586262e-06 3.7091885e-02 9.6146750e-01 1.4687740e-05\n",
      "  7.7607733e-04 6.2167854e-04 1.2414138e-06]]\n",
      "Answer: 5.0  Prediction: [[1.6371589e-08 8.9536215e-06 8.9273357e-04 3.1007150e-07 1.6343438e-07\n",
      "  9.9743670e-01 5.1122421e-04 6.4698118e-04 1.6232038e-05 9.4665607e-05\n",
      "  2.1034661e-07 3.8132683e-04 1.0515390e-05]]\n",
      "Answer: 1.0  Prediction: [[1.5659319e-07 9.5100009e-01 1.8467174e-05 2.2366594e-03 6.9313063e-03\n",
      "  3.3768358e-06 3.4521792e-05 2.3064978e-05 8.1307626e-06 3.9085969e-02\n",
      "  6.3442159e-04 1.9797635e-05 4.0809091e-06]]\n",
      "Answer: 6.0  Prediction: [[4.8383271e-09 6.9564831e-04 5.3903071e-04 3.2202925e-07 3.3671079e-06\n",
      "  8.6313907e-05 9.7397667e-01 2.0798404e-02 3.6276942e-03 8.3804756e-05\n",
      "  5.4312625e-07 1.8824017e-04 2.0350196e-08]]\n",
      "Answer: 5.0  Prediction: [[1.2854535e-09 4.4078586e-08 1.5091477e-03 2.6961688e-10 1.3322239e-09\n",
      "  9.9810815e-01 4.5462443e-06 3.1821433e-04 2.3203219e-07 3.0709620e-05\n",
      "  4.3773767e-09 1.4862408e-06 2.7382792e-05]]\n"
     ]
    }
   ],
   "source": [
    "# TEST: Load model and run it against test set\n",
    "model = models.load_model('./h5/appendEnergyTT.h5')\n",
    "for i in range(0, 10):\n",
    "    print('Answer:', y_test[i], ' Prediction:', model.predict(np.expand_dims(x_test[i], 0)))"
   ]
  },
  {
   "cell_type": "code",
   "execution_count": 23,
   "metadata": {
    "colab": {
     "base_uri": "https://localhost:8080/"
    },
    "executionInfo": {
     "elapsed": 257,
     "status": "ok",
     "timestamp": 1623237375540,
     "user": {
      "displayName": "黃侯弼",
      "photoUrl": "",
      "userId": "02394864078410571973"
     },
     "user_tz": -480
    },
    "id": "F2N7VEDnDuDC",
    "outputId": "76a7172d-b0aa-46a9-c7fb-45f582e96cb6",
    "scrolled": true
   },
   "outputs": [
    {
     "name": "stdout",
     "output_type": "stream",
     "text": [
      "2/2 [==============================] - 0s 44ms/step - loss: 0.2711 - acc: 0.9615\n"
     ]
    },
    {
     "data": {
      "text/plain": [
       "[0.27105382084846497, 0.9615384340286255]"
      ]
     },
     "execution_count": 23,
     "metadata": {},
     "output_type": "execute_result"
    }
   ],
   "source": [
    "# Evaluate model with test set\n",
    "model.evaluate(x=x_test, y=y_test)"
   ]
  },
  {
   "cell_type": "code",
   "execution_count": null,
   "metadata": {},
   "outputs": [],
   "source": []
  },
  {
   "cell_type": "code",
   "execution_count": null,
   "metadata": {},
   "outputs": [],
   "source": []
  }
 ],
 "metadata": {
  "accelerator": "GPU",
  "colab": {
   "collapsed_sections": [],
   "name": "Classifier.ipynb",
   "provenance": []
  },
  "kernelspec": {
   "display_name": "Python 3",
   "language": "python",
   "name": "python3"
  },
  "language_info": {
   "codemirror_mode": {
    "name": "ipython",
    "version": 3
   },
   "file_extension": ".py",
   "mimetype": "text/x-python",
   "name": "python",
   "nbconvert_exporter": "python",
   "pygments_lexer": "ipython3",
   "version": "3.8.8"
  }
 },
 "nbformat": 4,
 "nbformat_minor": 1
}
