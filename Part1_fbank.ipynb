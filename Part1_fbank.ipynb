{
 "cells": [
  {
   "cell_type": "code",
   "execution_count": null,
   "metadata": {},
   "outputs": [],
   "source": [
    "from os import listdir\n",
    "from os.path import isdir, join\n",
    "import librosa\n",
    "import random\n",
    "import numpy as np\n",
    "import matplotlib.pyplot as plt\n",
    "import python_speech_features\n",
    "import scipy\n",
    "#C:\\Users\\HOUBI\\Desktop\\topic\\SpeechRecognition\\data_speech_commands_v0.02"
   ]
  },
  {
   "cell_type": "code",
   "execution_count": null,
   "metadata": {
    "scrolled": false
   },
   "outputs": [],
   "source": [
    "# Dataset path and view possible targets\n",
    "dataset_path = './recording9'\n",
    "for name in listdir(dataset_path):\n",
    "    if isdir(join(dataset_path, name)):\n",
    "        print(name)"
   ]
  },
  {
   "cell_type": "code",
   "execution_count": null,
   "metadata": {},
   "outputs": [],
   "source": [
    "# Create an all targets list\n",
    "all_targets = [name for name in listdir(dataset_path) if isdir(join(dataset_path, name))]\n",
    "print(all_targets)"
   ]
  },
  {
   "cell_type": "code",
   "execution_count": null,
   "metadata": {
    "scrolled": true
   },
   "outputs": [],
   "source": [
    "# See how many files are in each\n",
    "num_samples = 0\n",
    "for target in all_targets:\n",
    "    print(len(listdir(join(dataset_path, target))))\n",
    "    num_samples += len(listdir(join(dataset_path, target)))\n",
    "print('Total samples:', num_samples)"
   ]
  },
  {
   "cell_type": "code",
   "execution_count": null,
   "metadata": {},
   "outputs": [],
   "source": [
    "# Settings\n",
    "target_list = all_targets\n",
    "#feature_sets_file = 'recording1.npz'\n",
    "perc_keep_samples = 1 #取整個資料集當中的100%\n",
    "val_ratio = 0.2 #0.2\n",
    "test_ratio = 0.2 #0.2\n",
    "sample_rate = 16000 #取樣率"
   ]
  },
  {
   "cell_type": "code",
   "execution_count": null,
   "metadata": {
    "scrolled": true
   },
   "outputs": [],
   "source": [
    "# Create list of filenames along with ground truth vector (y)\n",
    "filenames = []\n",
    "y = []\n",
    "for index, target in enumerate(target_list):\n",
    "    print(join(dataset_path, target))\n",
    "    filenames.append(listdir(join(dataset_path, target)))\n",
    "    y.append(np.ones(len(filenames[index])) * index)"
   ]
  },
  {
   "cell_type": "code",
   "execution_count": null,
   "metadata": {
    "scrolled": true
   },
   "outputs": [],
   "source": [
    "# Check ground truth Y vector\n",
    "print(y)\n",
    "for item in y:\n",
    "    print(len(item))"
   ]
  },
  {
   "cell_type": "code",
   "execution_count": null,
   "metadata": {},
   "outputs": [],
   "source": [
    "# Flatten filename and y vectors(轉成1D張量)\n",
    "filenames = [item for sublist in filenames for item in sublist]\n",
    "y = [item for sublist in y for item in sublist]"
   ]
  },
  {
   "cell_type": "code",
   "execution_count": null,
   "metadata": {},
   "outputs": [],
   "source": [
    "# Associate filenames with true output and shuffle\n",
    "filenames_y = list(zip(filenames, y))#filename跟y壓縮在 起\n",
    "random.shuffle(filenames_y)#打散\n",
    "filenames, y = zip(*filenames_y)#解壓縮"
   ]
  },
  {
   "cell_type": "code",
   "execution_count": null,
   "metadata": {},
   "outputs": [],
   "source": [
    "# Only keep the specified number of samples (shorter extraction/training)\n",
    "#只用整個資料集的100%\n",
    "print(len(filenames))\n",
    "filenames = filenames[:int(len(filenames) * perc_keep_samples)]\n",
    "print(len(filenames))"
   ]
  },
  {
   "cell_type": "code",
   "execution_count": null,
   "metadata": {},
   "outputs": [],
   "source": [
    "# Calculate validation and test set sizes(驗證集、測試集使用整個資料集10%當中的各10%)\n",
    "val_set_size = int(len(filenames) * val_ratio)\n",
    "test_set_size = int(len(filenames) * test_ratio)\n",
    "print(val_set_size)\n",
    "print(test_set_size)"
   ]
  },
  {
   "cell_type": "code",
   "execution_count": null,
   "metadata": {},
   "outputs": [],
   "source": [
    "# Break dataset apart into train, validation, and test sets(分割資料集，filename部分)\n",
    "filenames_val = filenames[:val_set_size]\n",
    "filenames_test = filenames[val_set_size:(val_set_size + test_set_size)]\n",
    "filenames_train = filenames[(val_set_size + test_set_size):]"
   ]
  },
  {
   "cell_type": "code",
   "execution_count": null,
   "metadata": {},
   "outputs": [],
   "source": [
    "# Break y apart into train, validation, and test sets(分割資料集，target部分)\n",
    "y_orig_val = y[:val_set_size]\n",
    "y_orig_test = y[val_set_size:(val_set_size + test_set_size)]\n",
    "y_orig_train = y[(val_set_size + test_set_size):]"
   ]
  },
  {
   "cell_type": "code",
   "execution_count": null,
   "metadata": {},
   "outputs": [],
   "source": [
    "\n",
    "# Function: Create MFCC from given path\n",
    "def calc_fbank(path):\n",
    "    \n",
    "    # Load wavefile(取得時序、取樣率)\n",
    "    signal, fs = librosa.load(path, sr=sample_rate)\n",
    "    signal = signal.astype(np.float)\n",
    "    # normalize data\n",
    "    signal = (signal - signal.mean()) / (signal.max() - signal.min())\n",
    "\n",
    "    # Create MFCCs from sound clip\n",
    "    fbank = python_speech_features.base.logfbank(signal,\n",
    "                                                 samplerate=sample_rate,\n",
    "                                                 winlen=0.025,\n",
    "                                                 winstep=0.01,\n",
    "                                                 nfilt=26,\n",
    "                                                 nfft=512,\n",
    "                                                 lowfreq=0,\n",
    "                                                 highfreq=None,\n",
    "                                                 preemph=0.97)\n",
    "    return fbank"
   ]
  },
  {
   "cell_type": "code",
   "execution_count": null,
   "metadata": {},
   "outputs": [],
   "source": [
    "print(len(filenames_train))"
   ]
  },
  {
   "cell_type": "code",
   "execution_count": null,
   "metadata": {},
   "outputs": [],
   "source": [
    "# Function: Create MFCCs, keeping only ones of desired length\n",
    "#提取完好的音檔\n",
    "def extract_features(in_files, in_y):\n",
    "    prob_cnt = 0\n",
    "    out_x = []\n",
    "    out_y = []\n",
    "        \n",
    "    for index, filename in enumerate(in_files):\n",
    "    \n",
    "        # Create path from given filename and target item\n",
    "        path = join(dataset_path, target_list[int(in_y[index])], \n",
    "                    filename)\n",
    "        \n",
    "        # Check to make sure we're reading a .wav file\n",
    "        if not path.endswith('.wav'):\n",
    "            continue\n",
    "\n",
    "        # Create MFCCs\n",
    "        fbank = calc_fbank(path)\n",
    "        \n",
    "        #if mfccs.shape[1] == len_mfcc:\n",
    "        #    print(\"Good_filename:\" + str(filename))\n",
    "        #    prob_cnt += 1\n",
    "        #else:\n",
    "        #    print('Dropped:', index, mfccs.shape)\n",
    "        #    print(\"Bad_filename:\" + str(filename))\n",
    "            \n",
    "        # Only keep MFCCs with given length\n",
    "        if fbank.shape[0] == 49:\n",
    "            out_x.append(fbank)\n",
    "            out_y.append(in_y[index])\n",
    "        else:\n",
    "            print(filename)\n",
    "            print('Dropped:', index, fbank.shape)\n",
    "            prob_cnt += 1\n",
    "\n",
    "    return out_x, out_y, prob_cnt"
   ]
  },
  {
   "cell_type": "code",
   "execution_count": null,
   "metadata": {
    "scrolled": true
   },
   "outputs": [],
   "source": [
    "# Create train, validation, and test sets\n",
    "total = 0\n",
    "x_train, y_train, prob = extract_features(filenames_train, \n",
    "                                          y_orig_train)\n",
    "total += prob\n",
    "#print('Removed percentage:', prob / len(y_orig_train))\n",
    "x_val, y_val, prob = extract_features(filenames_val, y_orig_val)\n",
    "total += prob\n",
    "#print('Removed percentage:', prob / len(y_orig_val))\n",
    "x_test, y_test, prob = extract_features(filenames_test, y_orig_test)\n",
    "total += prob\n",
    "#print('Removed percentage:', prob / len(y_orig_test))\n",
    "print(\"total:\" + str(total))"
   ]
  },
  {
   "cell_type": "code",
   "execution_count": null,
   "metadata": {},
   "outputs": [],
   "source": [
    "#儲存資料\n",
    "np.savez('./npz/recording9_fbank.npz', \n",
    "         x_train=x_train, \n",
    "         y_train=y_train, \n",
    "         x_val=x_val, \n",
    "         y_val=y_val, \n",
    "         x_test=x_test, \n",
    "         y_test=y_test)"
   ]
  },
  {
   "cell_type": "code",
   "execution_count": null,
   "metadata": {},
   "outputs": [],
   "source": [
    "feature_sets = np.load('./npz/recording9_fbank.npz')\n",
    "feature_sets.files"
   ]
  },
  {
   "cell_type": "code",
   "execution_count": null,
   "metadata": {},
   "outputs": [],
   "source": [
    "print(len(feature_sets['x_train']))\n",
    "print(len(feature_sets['x_test']))\n",
    "print(len(feature_sets['x_val']))"
   ]
  },
  {
   "cell_type": "code",
   "execution_count": null,
   "metadata": {},
   "outputs": [],
   "source": []
  },
  {
   "cell_type": "code",
   "execution_count": null,
   "metadata": {},
   "outputs": [],
   "source": []
  }
 ],
 "metadata": {
  "kernelspec": {
   "display_name": "Python 3",
   "language": "python",
   "name": "python3"
  },
  "language_info": {
   "codemirror_mode": {
    "name": "ipython",
    "version": 3
   },
   "file_extension": ".py",
   "mimetype": "text/x-python",
   "name": "python",
   "nbconvert_exporter": "python",
   "pygments_lexer": "ipython3",
   "version": "3.8.8"
  }
 },
 "nbformat": 4,
 "nbformat_minor": 4
}
